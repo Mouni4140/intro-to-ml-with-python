{
 "cells": [
  {
   "cell_type": "markdown",
   "metadata": {},
   "source": [
    "# SVM"
   ]
  },
  {
   "cell_type": "markdown",
   "metadata": {},
   "source": [
    "## Introduction"
   ]
  },
  {
   "cell_type": "markdown",
   "metadata": {},
   "source": [
    "- SVM classifiers are used for **prediction with confidence**. (Why I say so will be explained further)\n",
    "\n",
    "- Also called as **Large Margin Classifier**.\n",
    "\n",
    "- Primarily designed for **binary classification**, meaning it distinguishes between two classes; think (+) or (-). More advanced SVMs can discriminate between many classes.\n",
    "\n",
    "- SVM can be used for learning complex **non-linear boundary functions**.\n",
    "\n",
    "- Linear SVM uses **Hinge loss**, whereas Non-linear SVM uses **dual form with QP**."
   ]
  },
  {
   "cell_type": "markdown",
   "metadata": {},
   "source": [
    "## Defining  the hyperplane for SVM"
   ]
  },
  {
   "cell_type": "markdown",
   "metadata": {},
   "source": [
    "### Introduction"
   ]
  },
  {
   "cell_type": "markdown",
   "metadata": {},
   "source": [
    "**In SVM, given two classes, we seek to produce a hyperplane that maximizes the distance between the two training classes.**\n",
    "\n",
    "<br>\n",
    "<center><img src=\"images/small_margin.gif\" width=\"80%\"/></center>\n",
    "\n",
    "The margin is up to the nearest point of each class.\n",
    "\n",
    "The general equation of a (hyper)plane in the n-dimensional feature space (in two dimensions a plane is a line):\n",
    "\n",
    "$$ f_\\theta (x) = \\theta_0 + \\theta_1x_1 + \\theta_2x_2 + \\cdots + \\theta_nx_p $$\n",
    "\n",
    "$$  f_\\theta (x) = \\theta_0 + \\textbf{$\\theta^{T}$}\\textbf{x} $$\n",
    "\n",
    "Our plane is going to divide the two classes in hyperspace. There are an infinite number of ways of choosing the different coefficients to represent the plane, but in this case we are just going to make it as simple as possible by setting $f_\\theta (x)$ to 1:\n",
    "\n",
    "$$ |\\theta_0 + \\textbf{$\\theta^{T}$}\\textbf{x}| = 1 $$\n",
    "\n",
    "In this case $\\textbf{x}$ represents those training examples closest to the hyperplane. This is an important element of what we are doing, because ideally we want to find the plane that maximizes distance between the positive and negative training examples. "
   ]
  },
  {
   "cell_type": "markdown",
   "metadata": {},
   "source": [
    "### Principal equation of the hyperplane"
   ]
  },
  {
   "cell_type": "markdown",
   "metadata": {},
   "source": [
    "Recall that we were discussing classifying the data into the (+) and (-) group. Thus we consider these classification states as output variables $\\textbf{y}$ to our method. Going back to our equation, we can write:\n",
    "\n",
    "**For the positive class:**\n",
    "\n",
    "$$\\theta_0 + \\textbf{$\\theta^{T}$}\\textbf{x} = 1$$\n",
    "\n",
    "\n",
    "**For the negative class:**\n",
    "\n",
    "$$\\theta_0 + \\textbf{$\\theta^{T}$}\\textbf{x} = -1$$\n",
    "\n",
    "Again recalling that the $y$ are either $+1$ or $-1$. \n",
    "\n",
    "Also recall that the plane includes all data point solutions above the plane in the positive class. All solutions below the plane are in the negative class, therefore;\n",
    "\n",
    "$$\\theta_0 + \\textbf{$\\theta^{T}$}\\textbf{x} \\geq 1$$\n",
    "\n",
    "and also\n",
    "\n",
    "$$\\theta_0 + \\textbf{$\\theta^{T}$}\\textbf{x} \\leq -1$$\n",
    "\n",
    "Thinking of the $y_i$ as multipliers by $+1$ or $-1$, we can write:\n",
    "\n",
    "$$y_i(\\theta_0 + \\theta^{T}x_{i}) \\geq 1$$\n",
    "\n",
    "for all datapoints $i=1,2, \\cdots , m$\n",
    "\n",
    "So, we see that in SVM  instead of one decision boundary $ \\theta_T * x=0 $, we have two boundaries, $\\theta_T *x=1$ and $\\theta_T *x=-1$"
   ]
  },
  {
   "cell_type": "markdown",
   "metadata": {},
   "source": [
    "Perceptron Vs SVM\n",
    "<center><img src=\"images/svm_confidence.png\" width=\"80%\"/></center>"
   ]
  },
  {
   "cell_type": "markdown",
   "metadata": {},
   "source": [
    "#### Maximise Margin"
   ]
  },
  {
   "cell_type": "markdown",
   "metadata": {},
   "source": [
    "The total **margin** between the support vectors is given by **m**:\n",
    "\n",
    "$$m = \\frac{2}{\\|\\theta\\|}$$\n",
    "\n",
    "With an SVM, we seek to **maximize m**. This is why SVMs are called **maximum margin classifiers**.\n",
    "\n",
    "<center><img src=\"images/max_margin.png\" width=\"500\"/></center>"
   ]
  },
  {
   "cell_type": "markdown",
   "metadata": {},
   "source": [
    "### To summarise:"
   ]
  },
  {
   "cell_type": "markdown",
   "metadata": {},
   "source": [
    "**We can define the hyperplane in terms of the training points closest to the plane. These points are called *support vectors***.\n",
    "\n",
    "The equation of the plane is given as \n",
    "\n",
    "$$|\\theta_0 + \\textbf{$\\theta^{T}$}\\textbf{x}|=1$$\n",
    "\n",
    "Where the $\\textbf{x}$ are the **support vectors**.\n",
    "\n",
    "It bears mentioning here that the $\\theta$ coefficients are often described in other literature as **\"weights\"**, with the origin $\\theta_0$ callsed **\"bias\"** $b$, such that the equation of the plane is written:\n",
    "\n",
    "$$|\\textbf{$\\theta^{T}$}\\textbf{x}+b|=1$$\n",
    "\n",
    "However, we are going to continue to use the $\\theta$ notation in these notes so as to highlight the relationship between the well-known OLS regression and SVMs."
   ]
  },
  {
   "cell_type": "markdown",
   "metadata": {},
   "source": [
    "## Cost Function"
   ]
  },
  {
   "cell_type": "markdown",
   "metadata": {},
   "source": [
    "Recall that our main cost function seeks to find those minimal weights *as a whole* (remember shrinkage) that fit our criteria. Returning to the concept of a **norm**, we are going to minimize $\\|\\theta\\|_2$ subject to our principle equation, $\\sum_{i=0}^{n}y_i(\\theta_0 + \\theta^{T}x_{i}) \\geq 1$ derived above.\n",
    "\n",
    "We use an equation known in the literature as a *Lagrangian* as a way of posing the cost function of our method. A Lagrangian is an equation of the form:\n",
    "\n",
    "$$\\Lambda(x,y,\\alpha) = f(x,y)+\\alpha\\ \\cdot g(x,y)$$\n",
    "\n"
   ]
  },
  {
   "cell_type": "markdown",
   "metadata": {},
   "source": [
    "#### Primal Form\n",
    "\n",
    "<div style=\"background-color:#F7F99C\">\n",
    "\n",
    "In this case we do not formulate the cost function in terms of $\\|\\theta\\|_2$ due to the onerous nature of the square root involved. Rather we can **transform** this term to its pseudo-integral, $\\frac{1}{2}\\|\\theta\\|_2^{2}$, which has the same properties. \n",
    "\n",
    "$$\\Lambda(x,y,\\alpha) = \\frac{1}{2}\\theta^{T}\\theta+\\sum_{i=0}^{n}\\alpha_{i}\\ \\cdot (1-y_i(\\theta_0 + \\theta^{T}x_{i}))$$\n",
    "\n",
    "This is called the *primal form* because the **weights and coefficients appear in the same equation.** Now take the grad set to zero,taking the full gradient and setting the hyperplane intercept to zero:\n",
    "\n",
    "$$\\nabla_{\\theta}\\Lambda(x,y,\\alpha) = \\theta+\\sum_{i=0}^{n}\\alpha_{i}\\ (-y_i(x_{i})) = 0$$\n",
    "\n",
    "\n",
    "That gives us a first solution for the **weights**:\n",
    "\n",
    "$$\\theta = \\sum_{i=0}^{n}\\alpha_{i}y_{i}x_{i}$$\n",
    "\n",
    "We also have a solution for the **bias** that we already set to zero:\n",
    "\n",
    "$$\\theta_0 = \\sum_{i=0}^{n}\\alpha_{i}y_{i} = 0$$\n",
    "\n",
    "</div>"
   ]
  },
  {
   "cell_type": "markdown",
   "metadata": {},
   "source": [
    "#### Dual Form\n",
    "\n",
    "<div style=\"background-color:#F7F99C\">\n",
    "\n",
    "The more common form of the SVM Lagrangian is the *dual form*, which we can get if we substitute our solution for the weights, $\\theta = \\sum_{i=0}^{n}\\alpha_{i}y_{i}x_{i}$, into the primal form. We also remember that $\\sum_{i=0}^{n}\\alpha_{i}y_{i} = 0$.\n",
    "\n",
    "$$\\Lambda(x,y,\\alpha) = \\frac{1}{2}\\sum_{j=0}^{n}\\alpha_{j}y_{j}x_{j}^{T}\\sum_{i=0}^{n}\\alpha_{i}y_{i}x_{i}+\\sum_{i=0}^{n}\\alpha_{i}\\ \\cdot (1-y_i(\\theta_0 + \\sum_{j=0}^{n}\\alpha_{j}y_{j}x_{j}^{T}x_{i}))$$\n",
    "\n",
    "This reorganizes (see appendix) to get the following equation:\n",
    "\n",
    "</div>\n",
    "\n",
    "$$\\Lambda(x,y,\\alpha) = \\sum_{i=0}^{n}\\alpha_{i}-\\frac{1}{2}\\sum_{i=0}^{n}\\sum_{j=0}^{n}\\alpha_{i}\\alpha_{j}y_{i}y_{j}x_{i}^{T}x_{j}$$\n",
    "\n",
    "This is a *dual form* because we see that we are describing the **weights** in terms of $\\alpha$. Weights are not present in this equation. If we know all of the $\\alpha$ we know the $\\theta$; remember the formula $\\theta = \\sum_{i=0}^{n}\\alpha_{i}y_{i}x_{i}$."
   ]
  },
  {
   "cell_type": "markdown",
   "metadata": {},
   "source": [
    "hinge loss function\n",
    "------\n",
    "\n",
    "<center><img src=\"images/The-hinge-loss-function.png\" width=\"75%\"/></center>"
   ]
  },
  {
   "cell_type": "markdown",
   "metadata": {},
   "source": [
    "## Soft Margin SVMs"
   ]
  },
  {
   "cell_type": "markdown",
   "metadata": {},
   "source": [
    "For reasons discussed in more detail below, most real-world cases will require the ability to tolerate some misclassification, where there are datapoints labeled as one class that should be in the other, or where noise or hidden variables lead to unclear relationships amongst the classes. \n",
    "\n",
    "In this case, **even the optimal solution** will have some training datapoints that land on the wrong side of the plane. \n",
    "\n",
    "We deal with this using **Soft Margins**. All standard SVM applications use soft margins. \n",
    "\n",
    "For each point $i$, if the point falls on the wrong side of the hyperplane during training, we assign it a *penalty* $\\xi_i$, based on its distance from the plane. \n",
    "\n",
    "We minimize $\\sum_{i=0}^{n}\\xi_i$ along with the hyperplane during optimization. \n",
    "\n",
    "In this case, the principal equations become:\n",
    "\n",
    "$$y_{i}(\\theta_0 + \\textbf{$\\theta^{T}$}x_{i}) \\geq m(1 - \\xi_{i})$$\n",
    "\n",
    "For the positive class, and\n",
    "\n",
    "$$y_{i}(\\theta_0 + \\textbf{$\\theta^{T}$}x_{i}) \\leq m(\\xi_{i} - 1)$$\n",
    "\n",
    "For the negative class. We also are assured that\n",
    "\n",
    "$$\\xi_{i} \\geq 0$$\n",
    "\n",
    "Because we don't penalize points that are not on the wrong side of the plane. \n",
    "\n",
    "***notice that the margin figures importantly into the principal equations here. what does it mean to have a nonzero $\\xi_{i}$ value?**\n",
    "\n",
    "So we want to minimize $\\frac{1}{2}\\|\\theta\\|_2^{2}+C\\sum_{i=0}^{n}\\xi_i$, subject to the above prinicpal equations. It turns out that this is not too much of a change to the dual form of the Lagrangian (Hastie has the derivation for the primal form on pp. 420):\n",
    "\n",
    "$$\\Lambda(x,y,\\alpha) = \\sum_{i=0}^{n}\\alpha_{i}-\\frac{1}{2}\\sum_{i=0}^{n}\\sum_{j=0}^{n}\\alpha_{i}\\alpha_{j}y_{i}y_{j}x_{i}^{T}x_{j}$$\n",
    "\n",
    "Where $\\sum_{i=0}^{n}\\alpha_{i}y_{i}x_{i}=0$ and we also follow the constraint $C\\geq\\alpha_i\\geq 0$; this is all dealt with simultaneously during optimization.\n",
    "\n",
    "The question arises: Now that we've included this new constant $C$ in the equations, what is its effect on the location of the decision boundary? We find that the fixed scale 1 is arbitrary because the $M$ term can be brought into the $\\theta$.\n",
    "\n",
    "What is important is that you understand that the **margin** $M$ changes with respect to $C$. Changes in $C$ result in changes in the $\\theta$. This in turn results in changes in the direction of the plane and width of the margin simultaneously. More on this is discussed below.\n",
    "\n",
    "### Optimization\n",
    "\n",
    "We seek to maximize the (dual) Lagrangian as if it were an expectation function:\n",
    "\n",
    "$$\\Lambda(x,y,\\alpha) = \\sum_{i=0}^{n}\\alpha_{i}-\\frac{1}{2}\\sum_{i=0}^{n}\\sum_{j=0}^{n}\\alpha_{i}\\alpha_{j}y_{i}y_{j}x_{i}^{T}x_{j}$$\n",
    "\n",
    "subject to some $\\alpha_{i} \\geq 0$ and $\\sum_{i=0}^{n}\\alpha_{i}y_{i} = 0$\n",
    "\n",
    "Problems of this type are called Quadratic Programming Problems (because a squared term exists in one variable) and require relatively heavy-duty methods to reliably achieve the solution. However, because they are QP, we are assured that a **global** not approximate(!) maximum of $\\alpha_i$ can be found if optimized correctly! \n",
    "\n",
    "We will not cover QP solvers in this unit.\n",
    "\n",
    "Directly computing weights is comparatively rare in most SVM implementations. It is more common to simply calculate the $\\alpha_{i}$ and just report the model as such. This produces the **model** $G$ for input data $\\textbf{z}$:\n",
    "\n",
    "$$G(\\textbf{z}) = \\sum_{j=0}^{s}\\alpha_{j}y_{j} \\textbf{$x_{j}$}^{T}\\textbf{z}$$\n",
    "\n",
    "Where the $j$ are the indices of the $s$ support vectors.\n",
    "The model classifies $\\textbf{z}$ as class 1 (+) if positive and class 0 (-) otherwise.\n",
    "\n",
    "(Note that the weights do not appear)\n",
    "\n",
    "### Reasoning\n",
    "\n",
    "Choosing a bisecting plane to divide two classes enables us to predict a classification using a training set without assuming linearity in the data or fitting to an explicit function.\n",
    "\n",
    "SVM provides several advantages. In simple cases, SVM outperforms logistic regression. SVMs perform feature selection automatically by allowing $\\alpha$ coefficients that are unimportant to the classification to go to 0; SVMs also perform shrinkage on the $\\theta$ coefficients. We are assured of an optimal solution due to the formulation of the method. \n"
   ]
  },
  {
   "cell_type": "markdown",
   "metadata": {},
   "source": [
    "## Kernels: Linear vs. Nonlinear SVMs"
   ]
  },
  {
   "cell_type": "markdown",
   "metadata": {
    "slideshow": {
     "slide_type": "slide"
    }
   },
   "source": [
    "\"Kernel\" means \"heart\" or \"essence\" of something.\n",
    "\n",
    "In math, which is the origin of the word in this case, a kernel is a member of a set of functions:\n",
    "\n",
    "$$K: \\mathbb{R}^{N} \\times \\mathbb{R}^{N} \\rightarrow \\mathbb{R}$$\n",
    "\n",
    "In the case of the SVM, a kernel maps lower dimensional data into higher dimension and refers to a very particular term in the cost function:\n",
    "\n",
    "$$\\Lambda(x,y,\\alpha) = \\sum_{i=0}^{n}\\alpha_{i}-\\frac{1}{2}\\sum_{i=0}^{n}\\sum_{j=0}^{n}\\alpha_{i}\\alpha_{j}y_{i}y_{j}\\underline{x_{i}^{T}x_{j}}$$\n",
    "\n",
    "This is a dot or inner product, meaning that it produces a single number for each pair of points (vectors) $x_i, x_j$. You will often see it written this way (inner product vector notation):\n",
    "\n",
    "$$x_{i}^{T}x_{j} = <x_j,x_i>$$\n",
    "\n",
    "This regular, standard kernel is called a **linear** kernel.\n",
    "\n",
    "The idea behind using kernels is that hopefully, then the *transformed* data is __linearly separable__ in higher dimensions."
   ]
  },
  {
   "cell_type": "markdown",
   "metadata": {
    "slideshow": {
     "slide_type": "slide"
    }
   },
   "source": [
    "From 2 to 3 dimensions\n",
    "-----\n",
    "\n",
    "<center><img src=\"images/feature_space.png\" width=\"90%\"/></center>\n",
    "\n",
    "φ is the Greek letter \"Phi\"  \n",
    "φ is the mapping from one dimension to another"
   ]
  },
  {
   "cell_type": "markdown",
   "metadata": {
    "slideshow": {
     "slide_type": "slide"
    }
   },
   "source": [
    "From 2 to 3 dimensions\n",
    "-----\n",
    "\n",
    "<center><img src=\"images/kernel-768x306.png\" width=\"85%\"/></center>"
   ]
  },
  {
   "cell_type": "code",
   "execution_count": 2,
   "metadata": {
    "ExecuteTime": {
     "end_time": "2019-12-07T11:34:30.393746Z",
     "start_time": "2019-12-07T11:34:30.025888Z"
    },
    "scrolled": true,
    "slideshow": {
     "slide_type": "skip"
    }
   },
   "outputs": [
    {
     "data": {
      "image/jpeg": "[encoded data removed]",
      "text/html": [
       "\n",
       "        <iframe\n",
       "            width=\"400\"\n",
       "            height=\"300\"\n",
       "            src=\"https://www.youtube.com/embed/9NrALgHFwTo\"\n",
       "            frameborder=\"0\"\n",
       "            allowfullscreen\n",
       "        ></iframe>\n",
       "        "
      ],
      "text/plain": [
       "<IPython.lib.display.YouTubeVideo at 0x111ee0b70>"
      ]
     },
     "execution_count": 2,
     "metadata": {},
     "output_type": "execute_result"
    }
   ],
   "source": [
    "#RBF Kernel\n",
    "from IPython.display import YouTubeVideo\n",
    "\n",
    "YouTubeVideo(\"9NrALgHFwTo\")"
   ]
  },
  {
   "cell_type": "code",
   "execution_count": 3,
   "metadata": {
    "ExecuteTime": {
     "end_time": "2019-12-07T11:36:32.525142Z",
     "start_time": "2019-12-07T11:36:32.238032Z"
    },
    "slideshow": {
     "slide_type": "slide"
    }
   },
   "outputs": [
    {
     "data": {
      "image/jpeg": "[encoded data removed]",
      "text/html": [
       "\n",
       "        <iframe\n",
       "            width=\"400\"\n",
       "            height=\"300\"\n",
       "            src=\"https://www.youtube.com/embed/3liCbRZPrZA\"\n",
       "            frameborder=\"0\"\n",
       "            allowfullscreen\n",
       "        ></iframe>\n",
       "        "
      ],
      "text/plain": [
       "<IPython.lib.display.YouTubeVideo at 0x111ee0da0>"
      ]
     },
     "execution_count": 3,
     "metadata": {},
     "output_type": "execute_result"
    }
   ],
   "source": [
    "from IPython.display import YouTubeVideo\n",
    "\n",
    "YouTubeVideo(\"3liCbRZPrZA\")"
   ]
  },
  {
   "cell_type": "markdown",
   "metadata": {
    "slideshow": {
     "slide_type": "skip"
    }
   },
   "source": [
    "<center><img src=\"images/feature_2.png\" width=\"50%\"/></center>"
   ]
  },
  {
   "cell_type": "markdown",
   "metadata": {},
   "source": [
    "## The Kernel Trick\n",
    "<div>\n",
    "<font color=\"red\">THIS IS A STANDARD INTERVIEW QUESTION</font>\n",
    "</div>"
   ]
  },
  {
   "cell_type": "markdown",
   "metadata": {
    "slideshow": {
     "slide_type": "skip"
    }
   },
   "source": [
    "Transforming the entire Lagrangian from linear into polynomial space is extremely costly in terms of resources. Normally this would imply that we would need to actually increase the number of $\\alpha$ coefficients and transform the response variables too.\n",
    "\n",
    "If we were to actually do this, the computation would become prohibitively expensive rapidly with respect to the number of features. However, because we simply compute a **dot product** for every pair of data points $i,j$ in the original feature space $N$ after we transform the data, *this doesn't happen*. \n",
    "\n",
    "We call this **\"the kernel trick\"**. \n",
    "\n",
    "It's a trick because transformation to a nonlinear space doesn't seem to cost us much; we don't need to calculate the transformation explicitly. We can simply calculate the kernel product once, using the additional functions as necessary(a $N \\times N$ matrix). This only leads to a linear increase in calculation time - the time it costs to calculate the transformation from one basis to another. We do not increase the dimensionality of the Lagrangian at all. Since this is the most expensive function in terms of computation and storage, it amounts to immense computational leverage.\n",
    "\n",
    "#### Types of Kernels\n",
    "\n",
    "It bears mentioning that there are a few different types of kernels commonly in use; we will mention them here.\n",
    "\n",
    "##### Linear Kernel:\n",
    "\n",
    "This is simply the standard dot product $<x_j,x_i>$. Sometimes a scalar coefficient $c$ is added.\n",
    "\n",
    "$$K(x_j,x_i) = <x_j,x_i>+c$$\n",
    "\n",
    "##### Polynomial Kernels\n",
    "\n",
    "Some combination of transformations and exponents of the orignal linear kernel. Transformation by the function:\n",
    "\n",
    "$$f(x, b, c, d) = (bx+c)^{d}$$\n",
    "\n",
    "Leads to the following expression:\n",
    "\n",
    "$$K(x_j,x_i) = (b<x_j,x_i>+c)^{d}$$\n",
    "\n",
    "##### Gaussian and Radial Basis Function Kernels\n",
    "\n",
    "Radial basis functions model the data as if it came from a distribution, this is done in order to \"soften\" the locations of the training data. The Gaussian radial kernel is the most common of these:\n",
    "\n",
    "$$K(x_j,x_i) = e^{-\\frac{\\|x_j-x_i\\|^{2}}{2\\sigma^{2}}}$$\n",
    "\n",
    "There are other variants of the Gaussian, such as the Exponential and Laplace kernels, that leave out the square of the norm. \n",
    "\n",
    "The quality of the outcome is rather dependent on the scaling factor $\\sigma$ (the broadness of the Gaussian function). \n",
    "\n",
    "<center><img src=\"images/SVM_kernel_1.png\" width=\"75%\"/></center>"
   ]
  },
  {
   "cell_type": "markdown",
   "metadata": {
    "slideshow": {
     "slide_type": "slide"
    }
   },
   "source": [
    "Kernels & SVMS: Make the data more complex, and keep the model simple.\n",
    "-------"
   ]
  },
  {
   "cell_type": "code",
   "execution_count": 1,
   "metadata": {
    "ExecuteTime": {
     "end_time": "2019-12-07T11:33:10.038119Z",
     "start_time": "2019-12-07T11:33:08.422156Z"
    }
   },
   "outputs": [],
   "source": [
    "import matplotlib.pyplot as plt\n",
    "import numpy as np\n",
    "import pandas as pd\n",
    "import seaborn as sns\n",
    "import sklearn\n",
    "\n",
    "import warnings\n",
    "warnings.filterwarnings('ignore')\n",
    "\n",
    "palette = \"Dark2\"\n",
    "%matplotlib inline\n",
    "\n",
    "from sklearn.datasets.samples_generator import make_blobs"
   ]
  },
  {
   "cell_type": "code",
   "execution_count": 4,
   "metadata": {
    "ExecuteTime": {
     "end_time": "2019-12-07T11:37:29.320212Z",
     "start_time": "2019-12-07T11:37:29.244935Z"
    },
    "slideshow": {
     "slide_type": "slide"
    }
   },
   "outputs": [],
   "source": [
    "from sklearn import datasets\n",
    "from sklearn.svm import SVC\n",
    "\n",
    "iris = datasets.load_iris()\n",
    "\n",
    "X = iris.data[:, :2] # Use only the first two features for easier plotting\n",
    "y = iris.target"
   ]
  },
  {
   "cell_type": "code",
   "execution_count": 18,
   "metadata": {
    "ExecuteTime": {
     "end_time": "2019-12-07T11:42:37.232390Z",
     "start_time": "2019-12-07T11:42:37.215806Z"
    },
    "slideshow": {
     "slide_type": "slide"
    }
   },
   "outputs": [],
   "source": [
    "# Define & fit model\n",
    "#kernel = 'linear'\n",
    "#kernel = 'rbf'\n",
    "kernel = 'poly'\n",
    "clf = SVC(kernel=kernel).fit(X, y)\n",
    "predicted = clf.predict(iris.data[:, :2])"
   ]
  },
  {
   "cell_type": "code",
   "execution_count": 19,
   "metadata": {
    "ExecuteTime": {
     "end_time": "2019-12-07T11:42:44.002378Z",
     "start_time": "2019-12-07T11:42:43.997776Z"
    }
   },
   "outputs": [
    {
     "data": {
      "text/plain": [
       "array([ 2, 34, 34], dtype=int32)"
      ]
     },
     "execution_count": 19,
     "metadata": {},
     "output_type": "execute_result"
    }
   ],
   "source": [
    "clf.n_support_"
   ]
  },
  {
   "cell_type": "code",
   "execution_count": 13,
   "metadata": {
    "ExecuteTime": {
     "end_time": "2019-12-07T11:42:15.148808Z",
     "start_time": "2019-12-07T11:42:14.774022Z"
    }
   },
   "outputs": [
    {
     "data": {
      "image/png": "[encoded data removed]",
      "text/plain": [
       "<Figure size 432x288 with 1 Axes>"
      ]
     },
     "metadata": {
      "needs_background": "light"
     },
     "output_type": "display_data"
    }
   ],
   "source": [
    "# Plot the decision bounds\n",
    "from mlxtend.plotting import plot_decision_regions\n",
    "\n",
    "y_labels = y # actual\n",
    "# y_labels = predicted\n",
    "plot_decision_regions(X=X, \n",
    "                      y=y_labels, \n",
    "                      clf=clf,\n",
    "                      legend=False);\n",
    "# NOTE: Linear kernel includes piecewise linear, hence the discontinuity"
   ]
  },
  {
   "cell_type": "code",
   "execution_count": 17,
   "metadata": {
    "ExecuteTime": {
     "end_time": "2019-12-07T11:42:28.617475Z",
     "start_time": "2019-12-07T11:42:28.173166Z"
    }
   },
   "outputs": [
    {
     "data": {
      "image/png": "[encoded data removed]",
      "text/plain": [
       "<Figure size 432x288 with 1 Axes>"
      ]
     },
     "metadata": {
      "needs_background": "light"
     },
     "output_type": "display_data"
    }
   ],
   "source": [
    "# Plot the decision bounds\n",
    "from mlxtend.plotting import plot_decision_regions\n",
    "\n",
    "y_labels = y # actual\n",
    "# y_labels = predicted\n",
    "plot_decision_regions(X=X, \n",
    "                      y=y_labels, \n",
    "                      clf=clf,\n",
    "                      legend=False);\n",
    "# NOTE: Linear kernel includes piecewise linear, hence the discontinuity"
   ]
  },
  {
   "cell_type": "code",
   "execution_count": 20,
   "metadata": {
    "ExecuteTime": {
     "end_time": "2019-12-07T11:42:53.343899Z",
     "start_time": "2019-12-07T11:42:52.976722Z"
    },
    "slideshow": {
     "slide_type": "slide"
    }
   },
   "outputs": [
    {
     "data": {
      "image/png": "[encoded data removed]",
      "text/plain": [
       "<Figure size 432x288 with 1 Axes>"
      ]
     },
     "metadata": {
      "needs_background": "light"
     },
     "output_type": "display_data"
    }
   ],
   "source": [
    "# Plot the decision bounds\n",
    "from mlxtend.plotting import plot_decision_regions\n",
    "\n",
    "y_labels = y # actual\n",
    "# y_labels = predicted\n",
    "plot_decision_regions(X=X, \n",
    "                      y=y_labels, \n",
    "                      clf=clf,\n",
    "                      legend=False);\n",
    "# NOTE: Linear kernel includes piecewise linear, hence the discontinuity"
   ]
  },
  {
   "cell_type": "code",
   "execution_count": null,
   "metadata": {
    "slideshow": {
     "slide_type": "slide"
    }
   },
   "outputs": [],
   "source": [
    "# From blobs to circles\n",
    "from sklearn.datasets import make_circles\n",
    "\n",
    "X, y = make_circles(noise=0.1, factor=.01, random_state=42)\n",
    "ax = sns.scatterplot(x=X[:,0], y=X[:,1], hue=y, palette=palette,  legend=False);\n",
    "ax.set_yticklabels(''); ax.set_xticklabels('');"
   ]
  },
  {
   "cell_type": "code",
   "execution_count": null,
   "metadata": {
    "slideshow": {
     "slide_type": "slide"
    }
   },
   "outputs": [],
   "source": [
    "# Define & fit model\n",
    "# kernel = 'linear'\n",
    "kernel = 'rbf'\n",
    "# kernel = 'poly'\n",
    "clf = SVC(kernel=kernel).fit(X, y)\n",
    "predicted = clf.predict(iris.data[:, :2])"
   ]
  },
  {
   "cell_type": "code",
   "execution_count": null,
   "metadata": {
    "slideshow": {
     "slide_type": "slide"
    }
   },
   "outputs": [],
   "source": [
    "# Plot the decision bounds\n",
    "from mlxtend.plotting import plot_decision_regions\n",
    "\n",
    "y_labels = y # actual\n",
    "# y_labels = predicted\n",
    "plot_decision_regions(X=X, \n",
    "                      y=y_labels, \n",
    "                      clf=clf,\n",
    "                      legend=False);\n",
    "# NOTE: Linear kernel includes piecewise linear, hence the discontinuity"
   ]
  },
  {
   "cell_type": "markdown",
   "metadata": {
    "slideshow": {
     "slide_type": "slide"
    }
   },
   "source": [
    "What are the disadvantages of kernel methods?\n",
    "------"
   ]
  },
  {
   "cell_type": "markdown",
   "metadata": {
    "slideshow": {
     "slide_type": "fragment"
    }
   },
   "source": [
    "- Selecting a reasonable kernel can be hard.\n",
    "- Since kernels are often nonlinear and involve higher dimensional scaling, there can be high computational cost."
   ]
  },
  {
   "cell_type": "markdown",
   "metadata": {},
   "source": [
    "## Multiclass SVMs"
   ]
  },
  {
   "cell_type": "markdown",
   "metadata": {},
   "source": [
    "It is possible to extend the SVM methodology to more than two classes by solving the constraints for each pair of classes separately.\n",
    "\n",
    "![nonsep](images/plot_iris_001.png)\n",
    "\n",
    "\n",
    "There are two methods:\n",
    "\n",
    "##### Any-of\n",
    "\n",
    "In this case, we build classifiers for each possible class pair and let them all vote. This is an example where it's ok to have something classified as more than one class.\n",
    "\n",
    "1. Build a classifier for each class, where the training set consists of the set of documents in the class (positive labels) and its complement (negative labels).\n",
    "1. Given the test set, apply each classifier separately. The decision of one classifier has no influence on the decisions of the other classifiers.\n",
    "\n",
    "##### One-of\n",
    "\n",
    "Here we insist that each object must belong to one and only one class.\n",
    "\n",
    "1. Build a classifier for each class, where the training set consists of points belonging to the class (positive labels) and its complement (negative labels).\n",
    "1. Given the test document, apply each classifier separately.\n",
    "1. Assign the document to the class with\n",
    "    1. the maximum score,\n",
    "    1. the maximum confidence value,\n",
    "    1. or the maximum probability of class membership based on the votes of every classifier.\n",
    "\n",
    "We are not going to go into great detail regarding the construction of Multiclass SVMs at this time, although you will get an opportunity to work with them in the Lab exercise.\n"
   ]
  },
  {
   "cell_type": "markdown",
   "metadata": {},
   "source": [
    "### References:\n",
    "\n",
    "https://www.youtube.com/watch?v=_PwhiWxHK8o"
   ]
  }
 ],
 "metadata": {
  "kernelspec": {
   "display_name": "Python 3",
   "language": "python",
   "name": "python3"
  },
  "language_info": {
   "codemirror_mode": {
    "name": "ipython",
    "version": 3
   },
   "file_extension": ".py",
   "mimetype": "text/x-python",
   "name": "python",
   "nbconvert_exporter": "python",
   "pygments_lexer": "ipython3",
   "version": "3.6.5"
  }
 },
 "nbformat": 4,
 "nbformat_minor": 2
}
