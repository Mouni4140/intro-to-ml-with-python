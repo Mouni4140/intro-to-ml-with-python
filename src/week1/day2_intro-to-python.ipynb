{
 "cells": [
  {
   "cell_type": "markdown",
   "metadata": {},
   "source": [
    "# Introduction to Python- Part 2\n",
    "        by Pradip Gupta (pradip.mech13@gmail.com)"
   ]
  },
  {
   "cell_type": "markdown",
   "metadata": {},
   "source": [
    "# Control Structures"
   ]
  },
  {
   "cell_type": "markdown",
   "metadata": {
    "heading_collapsed": true
   },
   "source": [
    "## 1. For loop:\n",
    "\n",
    "```python\n",
    "for element in iterator:\n",
    "    do something\n",
    "```"
   ]
  },
  {
   "cell_type": "markdown",
   "metadata": {
    "hidden": true
   },
   "source": [
    "This loop will print all elements from the list **l**"
   ]
  },
  {
   "cell_type": "code",
   "execution_count": 21,
   "metadata": {
    "hidden": true
   },
   "outputs": [
    {
     "data": {
      "text/plain": [
       "(list, 2214760982152, 5)"
      ]
     },
     "execution_count": 21,
     "metadata": {},
     "output_type": "execute_result"
    }
   ],
   "source": [
    "l = ['one', 2, 'three', 4, 3+2]\n",
    "type(l), id(l), len(l)"
   ]
  },
  {
   "cell_type": "code",
   "execution_count": 34,
   "metadata": {
    "hidden": true
   },
   "outputs": [
    {
     "name": "stdout",
     "output_type": "stream",
     "text": [
      "element from old list: one\n",
      "element for new list: oneone\n",
      "element from old list: 2\n",
      "element for new list: 4\n",
      "element from old list: three\n",
      "element for new list: threethree\n",
      "element from old list: 4\n",
      "element for new list: 8\n",
      "element from old list: 5\n",
      "element for new list: 10\n"
     ]
    }
   ],
   "source": [
    "new_list = []\n",
    "\n",
    "for element in l:\n",
    "    print(f\"element from old list: {element}\")\n",
    "    new_element = 2*element\n",
    "    print(f\"element for new list: {new_element}\")\n",
    "    new_list.append(new_element)"
   ]
  },
  {
   "cell_type": "code",
   "execution_count": 35,
   "metadata": {
    "hidden": true
   },
   "outputs": [
    {
     "data": {
      "text/plain": [
       "['oneone', 4, 'threethree', 8, 10]"
      ]
     },
     "execution_count": 35,
     "metadata": {},
     "output_type": "execute_result"
    }
   ],
   "source": [
    "new_list"
   ]
  },
  {
   "cell_type": "code",
   "execution_count": 36,
   "metadata": {
    "hidden": true
   },
   "outputs": [],
   "source": [
    "d = {\"key1\": 1,\n",
    "    \"key2\": 2,\n",
    "    \"key3\": 3}"
   ]
  },
  {
   "cell_type": "code",
   "execution_count": 53,
   "metadata": {
    "hidden": true
   },
   "outputs": [
    {
     "name": "stdout",
     "output_type": "stream",
     "text": [
      "1\n",
      "2\n",
      "3\n"
     ]
    }
   ],
   "source": [
    "for element in d.values():\n",
    "    print(element)"
   ]
  },
  {
   "cell_type": "code",
   "execution_count": 38,
   "metadata": {
    "hidden": true
   },
   "outputs": [
    {
     "name": "stdout",
     "output_type": "stream",
     "text": [
      "key1\n",
      "key2\n",
      "key3\n"
     ]
    }
   ],
   "source": [
    "for element in d.keys():\n",
    "    print(element)"
   ]
  },
  {
   "cell_type": "code",
   "execution_count": 41,
   "metadata": {
    "hidden": true
   },
   "outputs": [
    {
     "name": "stdout",
     "output_type": "stream",
     "text": [
      "value for key: key1 is: 1\n",
      "value for key: key2 is: 2\n",
      "value for key: key3 is: 3\n"
     ]
    }
   ],
   "source": [
    "for element in d.keys():\n",
    "    print(f\"value for key: {element} is: {d[element]}\")"
   ]
  },
  {
   "cell_type": "code",
   "execution_count": 49,
   "metadata": {
    "hidden": true
   },
   "outputs": [
    {
     "data": {
      "text/plain": [
       "[0, 1, 2, 3, 4, 5, 6, 7, 8, 9]"
      ]
     },
     "execution_count": 49,
     "metadata": {},
     "output_type": "execute_result"
    }
   ],
   "source": [
    "list(range(10))"
   ]
  },
  {
   "cell_type": "code",
   "execution_count": 50,
   "metadata": {
    "hidden": true
   },
   "outputs": [
    {
     "name": "stdout",
     "output_type": "stream",
     "text": [
      "0\n",
      "1\n",
      "2\n",
      "3\n",
      "4\n",
      "5\n",
      "6\n",
      "7\n",
      "8\n",
      "9\n"
     ]
    }
   ],
   "source": [
    "for i in range(10):\n",
    "    print(i)"
   ]
  },
  {
   "cell_type": "code",
   "execution_count": 55,
   "metadata": {
    "hidden": true
   },
   "outputs": [
    {
     "data": {
      "text/plain": [
       "['one', 2, 'three', 4, 5]"
      ]
     },
     "execution_count": 55,
     "metadata": {},
     "output_type": "execute_result"
    }
   ],
   "source": [
    "l"
   ]
  },
  {
   "cell_type": "code",
   "execution_count": 57,
   "metadata": {
    "hidden": true
   },
   "outputs": [
    {
     "name": "stdout",
     "output_type": "stream",
     "text": [
      "one\n",
      "2\n",
      "three\n",
      "4\n",
      "5\n"
     ]
    }
   ],
   "source": [
    "for i in l:\n",
    "    print(i)"
   ]
  },
  {
   "cell_type": "code",
   "execution_count": 59,
   "metadata": {
    "hidden": true
   },
   "outputs": [
    {
     "name": "stdout",
     "output_type": "stream",
     "text": [
      "one\n",
      "2\n",
      "three\n",
      "4\n",
      "5\n"
     ]
    }
   ],
   "source": [
    "for i in l:\n",
    "    print(i)"
   ]
  },
  {
   "cell_type": "code",
   "execution_count": null,
   "metadata": {
    "hidden": true
   },
   "outputs": [],
   "source": [
    "for element in l:\n",
    "    print(element)"
   ]
  },
  {
   "cell_type": "code",
   "execution_count": null,
   "metadata": {
    "hidden": true
   },
   "outputs": [],
   "source": [
    "for ele in l:\n",
    "    ele=2*ele   \n",
    "    print(ele)"
   ]
  },
  {
   "cell_type": "markdown",
   "metadata": {
    "hidden": true
   },
   "source": [
    "Two interesting things here: <br>\n",
    "**First:** indentation, it's in the code, you must use it, otherwise code will not work:"
   ]
  },
  {
   "cell_type": "code",
   "execution_count": 2,
   "metadata": {
    "hidden": true
   },
   "outputs": [
    {
     "name": "stdout",
     "output_type": "stream",
     "text": [
      "one\n",
      "2\n",
      "three\n",
      "[1, 2, 3, 4, 5]\n",
      "5\n"
     ]
    }
   ],
   "source": [
    "for element in l:\n",
    "    print(element)"
   ]
  },
  {
   "cell_type": "code",
   "execution_count": 3,
   "metadata": {
    "hidden": true
   },
   "outputs": [
    {
     "name": "stdout",
     "output_type": "stream",
     "text": [
      "value at index 0 is one\n",
      "value at index 1 is 2\n",
      "value at index 2 is three\n",
      "value at index 3 is [1, 2, 3, 4, 5]\n",
      "value at index 4 is 5\n"
     ]
    }
   ],
   "source": [
    "for i,ele in enumerate(l):\n",
    "    print(\"value at index {} is {}\".format(i,ele))"
   ]
  },
  {
   "cell_type": "markdown",
   "metadata": {
    "hidden": true
   },
   "source": [
    "Second - you can iterate through the elements of the list. There is an option to iterate through a bunch of numbers as we used to in Matlab:"
   ]
  },
  {
   "cell_type": "code",
   "execution_count": 4,
   "metadata": {
    "hidden": true
   },
   "outputs": [
    {
     "data": {
      "text/plain": [
       "[2, 4, 6, 8]"
      ]
     },
     "execution_count": 4,
     "metadata": {},
     "output_type": "execute_result"
    }
   ],
   "source": [
    "list(range(2,10,2))"
   ]
  },
  {
   "cell_type": "code",
   "execution_count": 5,
   "metadata": {
    "hidden": true
   },
   "outputs": [
    {
     "name": "stdout",
     "output_type": "stream",
     "text": [
      "three\n",
      "[1, 2, 3, 4, 5]\n",
      "5\n"
     ]
    }
   ],
   "source": [
    "for index in range(2,5):\n",
    "    print(l[index])"
   ]
  },
  {
   "cell_type": "markdown",
   "metadata": {
    "hidden": true
   },
   "source": [
    "where *range* is just generating a sequence of numbers:"
   ]
  },
  {
   "cell_type": "code",
   "execution_count": 60,
   "metadata": {
    "hidden": true
   },
   "outputs": [
    {
     "data": {
      "text/plain": [
       "[5, 10, 15]"
      ]
     },
     "execution_count": 60,
     "metadata": {},
     "output_type": "execute_result"
    }
   ],
   "source": [
    "start = 5\n",
    "end =20\n",
    "gap = 5\n",
    "list(range(start,end,gap))"
   ]
  },
  {
   "cell_type": "markdown",
   "metadata": {
    "heading_collapsed": true
   },
   "source": [
    "## 2. IF-Else\n",
    "\n",
    "#### The if-statement tells your script,\n",
    "     \"If this boolean expression is True, then run the code under it, otherwise skip it.”\n",
    "     \n",
    "```python\n",
    "if expr1:\n",
    "    #\n",
    "    #\n",
    "    #\n",
    "    \n",
    "elif expr2:\n",
    "    #\n",
    "    #\n",
    "    #\n",
    "    #\n",
    "else:\n",
    "    #\n",
    "    #\n",
    "```"
   ]
  },
  {
   "cell_type": "code",
   "execution_count": 61,
   "metadata": {
    "hidden": true
   },
   "outputs": [],
   "source": [
    "# if exp1:\n",
    "#     #do something\n",
    "# else:\n",
    "#     #do something else\n",
    "    \n",
    "# if exp1:\n",
    "#     # do something\n",
    "#     # do something\n",
    "# elif exp2:\n",
    "#     # do something diff\n",
    "#     # do something diff\n",
    "# else:\n",
    "#     # do something else\n",
    "#     # do something else"
   ]
  },
  {
   "cell_type": "code",
   "execution_count": 67,
   "metadata": {
    "hidden": true
   },
   "outputs": [],
   "source": [
    "marks = 33\n",
    "\n",
    "# marks > 90 - grade- A - exp1\n",
    "# 70 < marks < 90 - grade B - exp 2\n",
    "# 40 < marks < 70 - grade C - exp 3\n",
    "# marks < 40 - Fail - exp 4"
   ]
  },
  {
   "cell_type": "code",
   "execution_count": 68,
   "metadata": {
    "hidden": true
   },
   "outputs": [],
   "source": [
    "if marks > 90:\n",
    "    grade = \"A\"\n",
    "elif marks > 70:\n",
    "    grade = \"B\"\n",
    "elif marks > 40:\n",
    "    grade = \"C\"\n",
    "else:\n",
    "    grade = \"fail\""
   ]
  },
  {
   "cell_type": "code",
   "execution_count": 69,
   "metadata": {
    "hidden": true
   },
   "outputs": [
    {
     "data": {
      "text/plain": [
       "'fail'"
      ]
     },
     "execution_count": 69,
     "metadata": {},
     "output_type": "execute_result"
    }
   ],
   "source": [
    "grade"
   ]
  },
  {
   "cell_type": "code",
   "execution_count": 70,
   "metadata": {
    "hidden": true
   },
   "outputs": [
    {
     "name": "stdout",
     "output_type": "stream",
     "text": [
      "a is greater than b\n"
     ]
    }
   ],
   "source": [
    "a = 5\n",
    "b = 4\n",
    "\n",
    "if a > b: \n",
    "    print (\"a is greater than b\")"
   ]
  },
  {
   "cell_type": "code",
   "execution_count": 71,
   "metadata": {
    "hidden": true
   },
   "outputs": [
    {
     "name": "stdout",
     "output_type": "stream",
     "text": [
      "a is greater than b\n",
      "blocks are defined by indentation\n"
     ]
    }
   ],
   "source": [
    "if (a > b):\n",
    "    print (\"a is greater than b\")\n",
    "    print (\"blocks are defined by indentation\")\n",
    "elif (a < b):\n",
    "    print (\"a is less than b\")\n",
    "else:\n",
    "    print (\"a is equal to b\")"
   ]
  },
  {
   "cell_type": "markdown",
   "metadata": {
    "heading_collapsed": true
   },
   "source": [
    "## 3. Continue and Break\n",
    "\n",
    "**Use \"continue\" to continue with the next iteration of the loop** <br>\n",
    "**Use \"break\" to go out of the loop**"
   ]
  },
  {
   "cell_type": "code",
   "execution_count": 81,
   "metadata": {
    "hidden": true
   },
   "outputs": [
    {
     "name": "stdout",
     "output_type": "stream",
     "text": [
      "val is: s\n",
      "val is: t\n",
      "val is: r\n",
      "val is: i\n",
      "val is: n\n",
      "val is: g\n",
      "The end\n"
     ]
    }
   ],
   "source": [
    "for val in \"string\":\n",
    "    print(\"val is:\", val)\n",
    "\n",
    "print(\"The end\")"
   ]
  },
  {
   "cell_type": "code",
   "execution_count": 77,
   "metadata": {
    "hidden": true
   },
   "outputs": [
    {
     "name": "stdout",
     "output_type": "stream",
     "text": [
      "val is: s\n",
      "val is: t\n",
      "val is: r\n",
      "The end\n"
     ]
    }
   ],
   "source": [
    "for val in \"string\":\n",
    "    if val == \"i\":\n",
    "        break\n",
    "    print(\"val is:\", val)\n",
    "\n",
    "print(\"The end\")"
   ]
  },
  {
   "cell_type": "code",
   "execution_count": 79,
   "metadata": {
    "hidden": true
   },
   "outputs": [
    {
     "name": "stdout",
     "output_type": "stream",
     "text": [
      "val is: s\n",
      "val is: t\n",
      "val is: r\n",
      "val is: n\n",
      "val is: g\n",
      "The end\n"
     ]
    }
   ],
   "source": [
    "for val in \"string\":\n",
    "    if val == \"i\":\n",
    "        continue\n",
    "    print(\"val is:\", val)\n",
    "\n",
    "print(\"The end\")"
   ]
  },
  {
   "cell_type": "markdown",
   "metadata": {},
   "source": [
    "## 4. While"
   ]
  },
  {
   "cell_type": "code",
   "execution_count": 84,
   "metadata": {},
   "outputs": [
    {
     "name": "stdout",
     "output_type": "stream",
     "text": [
      "10 1\n",
      "9 2\n",
      "8 3\n",
      "7 4\n",
      "6 5\n",
      "finally 5 6\n"
     ]
    }
   ],
   "source": [
    "a = 10\n",
    "b = 1\n",
    "\n",
    "while a > b:\n",
    "    print(a, b)\n",
    "    b = b + 1\n",
    "    a = a - 1  \n",
    "\n",
    "print(\"finally\", a, b)"
   ]
  },
  {
   "cell_type": "code",
   "execution_count": 85,
   "metadata": {},
   "outputs": [
    {
     "name": "stdout",
     "output_type": "stream",
     "text": [
      "1\n",
      "2\n",
      "3\n",
      "4\n"
     ]
    }
   ],
   "source": [
    "a = 0\n",
    "\n",
    "while True:\n",
    "    a = a +1\n",
    "    if a == 5:\n",
    "        break\n",
    "    print(a)"
   ]
  },
  {
   "cell_type": "code",
   "execution_count": 86,
   "metadata": {},
   "outputs": [
    {
     "name": "stdout",
     "output_type": "stream",
     "text": [
      "Enter a key: key1\n",
      "Enter a value: 1\n",
      "exit? no\n",
      "Enter a key: key2\n",
      "Enter a value: 2\n",
      "exit? no\n",
      "Enter a key: key3\n",
      "Enter a value: 3\n",
      "exit? yes\n",
      "{'key1': '1', 'key2': '2', 'key3': '3'}\n"
     ]
    }
   ],
   "source": [
    "# Filing a dictionary\n",
    "d1 = {}\n",
    "\n",
    "while 1:\n",
    "    key   = input(\"Enter a key: \")\n",
    "    value = input(\"Enter a value: \")\n",
    "    d1[key] = value;\n",
    "    if input(\"exit? \") == \"yes\": \n",
    "        break\n",
    "        \n",
    "print(d1)"
   ]
  },
  {
   "cell_type": "markdown",
   "metadata": {},
   "source": [
    "## 5. Try Except Finally"
   ]
  },
  {
   "cell_type": "code",
   "execution_count": 92,
   "metadata": {},
   "outputs": [],
   "source": [
    "tournaments = [\"A\", \"B\", \"C\"]"
   ]
  },
  {
   "cell_type": "code",
   "execution_count": 93,
   "metadata": {},
   "outputs": [
    {
     "name": "stdout",
     "output_type": "stream",
     "text": [
      "I would like to compete in the C tournament.\n",
      "Remaining tournaments : ['A', 'B']\n",
      "finally\n"
     ]
    }
   ],
   "source": [
    "try:\n",
    "    tournament = tournaments.pop()\n",
    "    print(f\"I would like to compete in the {tournament} tournament.\")\n",
    "    print(f\"Remaining tournaments : {tournaments}\")\n",
    "\n",
    "except IndexError:\n",
    "    print(\"There are no more tournaments.  Popping an empty list\")\n",
    "\n",
    "finally:\n",
    "    print(\"finally\")"
   ]
  },
  {
   "cell_type": "code",
   "execution_count": 94,
   "metadata": {},
   "outputs": [
    {
     "name": "stdout",
     "output_type": "stream",
     "text": [
      "I would like to compete in the B tournament.\n",
      "Remaining tournaments : ['A']\n",
      "finally\n"
     ]
    }
   ],
   "source": [
    "try:\n",
    "    tournament = tournaments.pop()\n",
    "    print(f\"I would like to compete in the {tournament} tournament.\")\n",
    "    print(f\"Remaining tournaments : {tournaments}\")\n",
    "\n",
    "except IndexError:\n",
    "    print(\"There are no more tournaments.  Popping an empty list\")\n",
    "\n",
    "finally:\n",
    "    print(\"finally\")"
   ]
  },
  {
   "cell_type": "code",
   "execution_count": 95,
   "metadata": {},
   "outputs": [
    {
     "data": {
      "text/plain": [
       "['A']"
      ]
     },
     "execution_count": 95,
     "metadata": {},
     "output_type": "execute_result"
    }
   ],
   "source": [
    "tournaments"
   ]
  },
  {
   "cell_type": "code",
   "execution_count": 96,
   "metadata": {},
   "outputs": [
    {
     "name": "stdout",
     "output_type": "stream",
     "text": [
      "I would like to compete in the A tournament.\n",
      "Remaining tournaments : []\n",
      "finally\n"
     ]
    }
   ],
   "source": [
    "try:\n",
    "    tournament = tournaments.pop()\n",
    "    print(f\"I would like to compete in the {tournament} tournament.\")\n",
    "    print(f\"Remaining tournaments : {tournaments}\")\n",
    "\n",
    "except IndexError:\n",
    "    print(\"There are no more tournaments.  Popping an empty list\")\n",
    "\n",
    "finally:\n",
    "    print(\"finally\")"
   ]
  },
  {
   "cell_type": "code",
   "execution_count": 97,
   "metadata": {},
   "outputs": [
    {
     "data": {
      "text/plain": [
       "[]"
      ]
     },
     "execution_count": 97,
     "metadata": {},
     "output_type": "execute_result"
    }
   ],
   "source": [
    "tournaments"
   ]
  },
  {
   "cell_type": "code",
   "execution_count": 99,
   "metadata": {},
   "outputs": [
    {
     "ename": "IndexError",
     "evalue": "pop from empty list",
     "output_type": "error",
     "traceback": [
      "\u001b[1;31m---------------------------------------------------------------------------\u001b[0m",
      "\u001b[1;31mIndexError\u001b[0m                                Traceback (most recent call last)",
      "\u001b[1;32m~\\AppData\\Local\\Temp\\ipykernel_8856\\1380763370.py\u001b[0m in \u001b[0;36m<module>\u001b[1;34m\u001b[0m\n\u001b[1;32m----> 1\u001b[1;33m \u001b[0mtournament\u001b[0m \u001b[1;33m=\u001b[0m \u001b[0mtournaments\u001b[0m\u001b[1;33m.\u001b[0m\u001b[0mpop\u001b[0m\u001b[1;33m(\u001b[0m\u001b[1;33m)\u001b[0m\u001b[1;33m\u001b[0m\u001b[1;33m\u001b[0m\u001b[0m\n\u001b[0m\u001b[0;32m      2\u001b[0m \u001b[0mprint\u001b[0m\u001b[1;33m(\u001b[0m\u001b[1;34mf\"I would like to compete in the {tournament} tournament.\"\u001b[0m\u001b[1;33m)\u001b[0m\u001b[1;33m\u001b[0m\u001b[1;33m\u001b[0m\u001b[0m\n\u001b[0;32m      3\u001b[0m \u001b[0mprint\u001b[0m\u001b[1;33m(\u001b[0m\u001b[1;34mf\"Remaining tournaments : {tournaments}\"\u001b[0m\u001b[1;33m)\u001b[0m\u001b[1;33m\u001b[0m\u001b[1;33m\u001b[0m\u001b[0m\n",
      "\u001b[1;31mIndexError\u001b[0m: pop from empty list"
     ]
    }
   ],
   "source": [
    "tournament = tournaments.pop()\n",
    "print(f\"I would like to compete in the {tournament} tournament.\")\n",
    "print(f\"Remaining tournaments : {tournaments}\")"
   ]
  },
  {
   "cell_type": "code",
   "execution_count": 98,
   "metadata": {},
   "outputs": [
    {
     "name": "stdout",
     "output_type": "stream",
     "text": [
      "There are no more tournaments.  Popping an empty list\n",
      "finally\n"
     ]
    }
   ],
   "source": [
    "try:\n",
    "    tournament = tournaments.pop()\n",
    "    print(f\"I would like to compete in the {tournament} tournament.\")\n",
    "    print(f\"Remaining tournaments : {tournaments}\")\n",
    "\n",
    "except IndexError:\n",
    "    print(\"There are no more tournaments.  Popping an empty list\")\n",
    "\n",
    "finally:\n",
    "    print(\"finally\")"
   ]
  },
  {
   "cell_type": "code",
   "execution_count": 102,
   "metadata": {},
   "outputs": [
    {
     "name": "stdout",
     "output_type": "stream",
     "text": [
      "I would like to compete in the C tournament.\n",
      "Remaining tournaments : ['A', 'B']\n",
      "I would like to compete in the B tournament.\n",
      "Remaining tournaments : ['A']\n",
      "I would like to compete in the A tournament.\n",
      "Remaining tournaments : []\n",
      "There are no more tournaments.  Popping an empty list\n"
     ]
    }
   ],
   "source": [
    "tournaments = [\"A\", \"B\", \"C\"]\n",
    "\n",
    "while True:\n",
    "    try:\n",
    "        tournament = tournaments.pop()\n",
    "        print(f\"I would like to compete in the {tournament} tournament.\")\n",
    "        print(f\"Remaining tournaments : {tournaments}\")\n",
    "        \n",
    "    except IndexError:\n",
    "        print(\"There are no more tournaments.  Popping an empty list\")\n",
    "        break\n",
    "        \n",
    "#     finally:\n",
    "#         print(\"finally\")"
   ]
  },
  {
   "cell_type": "markdown",
   "metadata": {},
   "source": [
    "# List Comprehensions with For Loops"
   ]
  },
  {
   "cell_type": "code",
   "execution_count": 1,
   "metadata": {},
   "outputs": [],
   "source": [
    "x=range(8)"
   ]
  },
  {
   "cell_type": "code",
   "execution_count": 2,
   "metadata": {},
   "outputs": [
    {
     "name": "stdout",
     "output_type": "stream",
     "text": [
      "[0, 1, 2, 3, 4, 5, 6, 7]\n"
     ]
    }
   ],
   "source": [
    "x = list(range(8))\n",
    "print(x)"
   ]
  },
  {
   "cell_type": "markdown",
   "metadata": {},
   "source": [
    "From this we want to exract remainder for each value of x when that gets divided by 2.\n",
    "\n",
    "operator `%` calculates remainder. a%2 will caclulate remiander when a is dvivided by 2."
   ]
  },
  {
   "cell_type": "code",
   "execution_count": 2,
   "metadata": {},
   "outputs": [
    {
     "data": {
      "text/plain": [
       "1"
      ]
     },
     "execution_count": 2,
     "metadata": {},
     "output_type": "execute_result"
    }
   ],
   "source": [
    "y # traverse thru all elemenst in x, check if elm>3, store elm%2"
   ]
  },
  {
   "cell_type": "code",
   "execution_count": 3,
   "metadata": {},
   "outputs": [
    {
     "data": {
      "text/plain": [
       "[0, 1, 2, 3, 4, 5, 6, 7]"
      ]
     },
     "execution_count": 3,
     "metadata": {},
     "output_type": "execute_result"
    }
   ],
   "source": [
    "x=list(range(8))\n",
    "x"
   ]
  },
  {
   "cell_type": "code",
   "execution_count": 4,
   "metadata": {},
   "outputs": [
    {
     "data": {
      "text/plain": [
       "[0, 1, 0, 1]"
      ]
     },
     "execution_count": 4,
     "metadata": {},
     "output_type": "execute_result"
    }
   ],
   "source": [
    "x_mod_2=[]\n",
    "for a in x:\n",
    "    if a > 3:\n",
    "        x_mod_2.append(a%2)\n",
    "x_mod_2"
   ]
  },
  {
   "cell_type": "code",
   "execution_count": 5,
   "metadata": {},
   "outputs": [
    {
     "data": {
      "text/plain": [
       "[0, 1, 0, 1]"
      ]
     },
     "execution_count": 5,
     "metadata": {},
     "output_type": "execute_result"
    }
   ],
   "source": [
    "x_mod_2=[a%2 for a in x if a > 3]\n",
    "x_mod_2"
   ]
  }
 ],
 "metadata": {
  "kernelspec": {
   "display_name": "Python 3 (ipykernel)",
   "language": "python",
   "name": "python3"
  },
  "language_info": {
   "codemirror_mode": {
    "name": "ipython",
    "version": 3
   },
   "file_extension": ".py",
   "mimetype": "text/x-python",
   "name": "python",
   "nbconvert_exporter": "python",
   "pygments_lexer": "ipython3",
   "version": "3.7.11"
  },
  "latex_envs": {
   "LaTeX_envs_menu_present": true,
   "autoclose": false,
   "autocomplete": true,
   "bibliofile": "biblio.bib",
   "cite_by": "apalike",
   "current_citInitial": 1,
   "eqLabelWithNumbers": true,
   "eqNumInitial": 1,
   "hotkeys": {
    "equation": "Ctrl-E",
    "itemize": "Ctrl-I"
   },
   "labels_anchors": false,
   "latex_user_defs": false,
   "report_style_numbering": false,
   "user_envs_cfg": false
  }
 },
 "nbformat": 4,
 "nbformat_minor": 1
}
