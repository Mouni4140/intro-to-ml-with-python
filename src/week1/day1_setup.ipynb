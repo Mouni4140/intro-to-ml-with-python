{
 "cells": [
  {
   "cell_type": "markdown",
   "metadata": {},
   "source": [
    "# Day 1 - Setup\n",
    "        by Pradip Gupta (pradip.mech13@gmail.com)"
   ]
  },
  {
   "cell_type": "markdown",
   "id": "preliminary-reach",
   "metadata": {},
   "source": [
    "# Getting Started Locally with Conda and VS Code\n",
    "\n",
    "This tutorial will take you through the steps to set up an environment on your local machine using conda and microsoft visual studio code"
   ]
  },
  {
   "cell_type": "markdown",
   "id": "0e61f04b-efee-4a1b-a984-2c45235e76b9",
   "metadata": {},
   "source": [
    "### Step 1: Make sure Anaconda or Miniconda is your Python package manager\n",
    "\n",
    "Go to the following website for more details:\n",
    "\n",
    "https://docs.conda.io/projects/conda/en/latest/user-guide/install/download.html"
   ]
  },
  {
   "cell_type": "markdown",
   "metadata": {},
   "source": [
    "### Step 2: Setup Visual Studio Code or Pycharm as your IDE\n",
    "\n",
    "Go to the following website for more details:\n",
    "\n",
    "https://code.visualstudio.com/download"
   ]
  },
  {
   "cell_type": "markdown",
   "id": "a009bd79-cc10-4d84-a337-963e950fb331",
   "metadata": {
    "tags": []
   },
   "source": [
    "### Step 3: Create conda environment using environment.yml\n",
    "\n",
    "1) Clone the Course Github Page:\n",
    "\n",
    "`git clone https://github.com/skyimager/intro-to-ml-with-python`\n",
    "\n",
    "2)  Create the Conda environment using environment-dev.yml file\n",
    "\n",
    "`cd intro-to-ml-with-python\n",
    "conda env create -f  environment-dev.yml`"
   ]
  },
  {
   "cell_type": "code",
   "execution_count": 35,
   "metadata": {},
   "outputs": [],
   "source": [
    "# It may take a while to install all the packages"
   ]
  },
  {
   "cell_type": "markdown",
   "id": "d1738a6f-a1ab-4649-9ea8-7005bbf57a5a",
   "metadata": {},
   "source": [
    "For more info a conda and conda environments, got to:\n",
    "\n",
    "Conda CheatSheet\n",
    "https://docs.conda.io/projects/conda/en/4.6.0/_downloads/52a95608c49671267e40c689e0bc00ca/conda-cheatsheet.pdf\n",
    "\n",
    "Conda environments\n",
    "https://docs.conda.io/projects/conda/en/latest/user-guide/tasks/manage-environments.html#creating-an-environment-from-an-environment-yml-file"
   ]
  },
  {
   "cell_type": "markdown",
   "id": "a0a807ef-f5c9-47ff-9add-9bda8de1d4c3",
   "metadata": {},
   "source": [
    "### Step 4: Activate the new edvancer environment"
   ]
  },
  {
   "cell_type": "code",
   "execution_count": null,
   "id": "0cd39f40-6dd2-4dfc-916a-44911bfa0eb2",
   "metadata": {},
   "outputs": [],
   "source": [
    "# Once the environment edvancer has been created, then activate it\n",
    "# !conda activate edvancer"
   ]
  },
  {
   "cell_type": "markdown",
   "id": "74d6ee0c-5782-43f5-93d2-0f7d7598af8c",
   "metadata": {},
   "source": [
    "#### Tips\n",
    "\n",
    "1) Everything up to this point can be done on the command line\n",
    "1) ....but if you are using this Jupyter notebook for the environment setup, you should shut it down and reopen this notebook in the new environment (snowex21)\n",
    "    - Check if your environment has been activated (snowex21)\n",
    "    - run command: jupyter notebook\n"
   ]
  },
  {
   "cell_type": "markdown",
   "id": "e7ed8f63-90ab-488b-b217-91459cb4be50",
   "metadata": {},
   "source": [
    "### Step 5: Check some things about new environment"
   ]
  },
  {
   "cell_type": "code",
   "execution_count": 29,
   "id": "1219d6c7-d67d-4fc9-9026-c01f36332f81",
   "metadata": {},
   "outputs": [],
   "source": [
    "# Check to see if your environment has been set up correctly\n",
    "# !conda info -v"
   ]
  },
  {
   "cell_type": "code",
   "execution_count": 30,
   "id": "41e4e471-1442-4d70-958d-72ed5f759f14",
   "metadata": {},
   "outputs": [],
   "source": [
    "# Check to see which packages/libraries are added to this environment\n",
    "# !conda list -v "
   ]
  },
  {
   "cell_type": "markdown",
   "metadata": {},
   "source": [
    "# Python Primer: The Basics\n",
    "\n",
    "This is a notebook file. It is an interactive document that you can edit on the fly, and you can use it to write and execute programs. You can learn more about the interface by reading the [online documentation](http://jupyter-notebook.readthedocs.io/en/stable/examples/Notebook/Notebook%20Basics.html), although it should be pretty simple to understand what is going on without any documentation. \n",
    "\n",
    "You can also click \"Help : User Interface tour\" from the menu, which will explain the basics of the notebook."
   ]
  },
  {
   "cell_type": "markdown",
   "metadata": {},
   "source": [
    "## Our first Python program\n",
    "\n",
    "Traditionally, every time that we start learning a new language, we start with a program that prints \"Hello World\" in the output."
   ]
  },
  {
   "cell_type": "code",
   "execution_count": 33,
   "metadata": {},
   "outputs": [
    {
     "name": "stdout",
     "output_type": "stream",
     "text": [
      "Hello World\n"
     ]
    }
   ],
   "source": [
    "print(\"Hello World\")"
   ]
  },
  {
   "cell_type": "markdown",
   "metadata": {},
   "source": [
    "To run the \"Hello World\" program above, just select the code cell, and then click the \"Run\" button from the toolbar. Alternatively, you can also press Ctrl + Enter, if you prefer to use keyboard shortcuts. You can discover more keyboard shortcuts by selecting \"Help : Keyboard Shortcuts\" from the menu."
   ]
  },
  {
   "cell_type": "markdown",
   "metadata": {},
   "source": [
    "### Exercise\n",
    "\n",
    "Print your own message:"
   ]
  },
  {
   "cell_type": "code",
   "execution_count": null,
   "metadata": {},
   "outputs": [],
   "source": [
    "# your code here"
   ]
  },
  {
   "cell_type": "markdown",
   "metadata": {},
   "source": [
    "## Comments\n",
    "\n",
    "You will have noticed in the cell above the line \n",
    "`# your code here` \n",
    "\n",
    "This is a _comment in the code_\n",
    "\n",
    "Comments are notes in your source code that aren't exectued when your code is run. These are useful for reminding yourself what your code does, and for notifying others to your intentions. "
   ]
  },
  {
   "cell_type": "code",
   "execution_count": null,
   "metadata": {},
   "outputs": [],
   "source": [
    "# A comment\n",
    "#\n",
    "# We use comments to write down things that we want to rememember\n",
    "# or instructions for other users that will read/use our code\n",
    "\n",
    "# Anything after the # is ignored by python.\n",
    "\n",
    "print(\"I could have written code like this.\")  # the comment after is ignored"
   ]
  },
  {
   "cell_type": "code",
   "execution_count": 28,
   "metadata": {},
   "outputs": [
    {
     "name": "stdout",
     "output_type": "stream",
     "text": [
      "This will run.\n"
     ]
    }
   ],
   "source": [
    "# You can also use a comment to \"disable\" or comment out a piece of code:\n",
    "\n",
    "# print(\"This won't run.\") \n",
    "\n",
    "print(\"This will run.\")"
   ]
  },
  {
   "cell_type": "markdown",
   "metadata": {},
   "source": [
    "### Exercise\n",
    "\n",
    "Fix the code below, so that it runs:"
   ]
  },
  {
   "cell_type": "code",
   "execution_count": null,
   "metadata": {},
   "outputs": [],
   "source": [
    "# print(\"Hi Panos!''"
   ]
  },
  {
   "cell_type": "markdown",
   "metadata": {},
   "source": [
    "## Multiline comments \n",
    "\n",
    "Python has single line and multiline comments. These multiline comments are also called _docstrings_ because they are often used to write documentation for the code. "
   ]
  },
  {
   "cell_type": "code",
   "execution_count": 20,
   "metadata": {},
   "outputs": [
    {
     "name": "stdout",
     "output_type": "stream",
     "text": [
      "trying out some comments\n",
      "python tutorial\n"
     ]
    }
   ],
   "source": [
    "# This is a single line comment\n",
    "# This a second single line comment\n",
    "\n",
    "print(\"trying out some comments\")\n",
    "\n",
    "\"\"\"\n",
    "This code is used to print \n",
    "a message of your choice. Notice that \n",
    "this message that is included in the triple double\n",
    "quotes will not execute.\n",
    "\"\"\"\n",
    "\n",
    "print(\"python tutorial\")"
   ]
  },
  {
   "cell_type": "markdown",
   "metadata": {},
   "source": [
    "## Notebooks: Markdown for text\n",
    "\n",
    "In notebooks, you can simply double click on a piece of text and then edit it. To restore it back, from edit mode, press \"Run\". Markdown is a very simple language for formatting text, and you can read further instructions by going to \"Help : Markdown\" from the menu, or checking the [online examples](http://jupyter-notebook.readthedocs.io/en/stable/examples/Notebook/Working%20With%20Markdown%20Cells.html)\n",
    "\n",
    "Below, we will see a few examples."
   ]
  },
  {
   "cell_type": "markdown",
   "metadata": {},
   "source": [
    "# Big Header \n",
    "## Smaller Header\n",
    "### A little smaller header\n",
    "#### Getting smaller and smaller\n",
    "##### Very very small header\n",
    "###### I do not even know if this is a header anymore"
   ]
  },
  {
   "cell_type": "markdown",
   "metadata": {},
   "source": [
    "You can write plain text, **bold text**, and _italics_. \n",
    "You can also ~~strike~~ things that were incorrect.\n"
   ]
  },
  {
   "cell_type": "markdown",
   "metadata": {},
   "source": [
    "If you want to write code, you can use the backtick characters: `print(\"Hello World\")`\n",
    "\n",
    "Or you can use triple backticks, and can get color coding by specifying the language that you use.\n",
    "```python\n",
    "print(\"Hello World\")\n",
    "```\n",
    "\n",
    "```html\n",
    "<html>\n",
    "    <body>Hello World!</body>\n",
    "</html>\n",
    "```"
   ]
  },
  {
   "cell_type": "markdown",
   "metadata": {},
   "source": [
    "You can also create bulleted lists:\n",
    "* Learn Python\n",
    "* ...\n",
    "* Millions!"
   ]
  },
  {
   "cell_type": "code",
   "execution_count": 22,
   "metadata": {},
   "outputs": [],
   "source": [
    "var = 1"
   ]
  },
  {
   "cell_type": "markdown",
   "metadata": {},
   "source": [
    "Or perhaps you want to write ordered lists:\n",
    "1. Learn Python\n",
    "2. Learn SQL\n",
    "3. ....\n",
    "4. Millions!"
   ]
  }
 ],
 "metadata": {
  "kernelspec": {
   "display_name": "Python 3 (ipykernel)",
   "language": "python",
   "name": "python3"
  },
  "language_info": {
   "codemirror_mode": {
    "name": "ipython",
    "version": 3
   },
   "file_extension": ".py",
   "mimetype": "text/x-python",
   "name": "python",
   "nbconvert_exporter": "python",
   "pygments_lexer": "ipython3",
   "version": "3.7.11"
  }
 },
 "nbformat": 4,
 "nbformat_minor": 1
}
