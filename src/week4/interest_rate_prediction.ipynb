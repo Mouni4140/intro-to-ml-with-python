{
 "cells": [
  {
   "cell_type": "markdown",
   "metadata": {},
   "source": [
    "# Interest Rate Prediction"
   ]
  },
  {
   "cell_type": "markdown",
   "metadata": {},
   "source": [
    "## Case Study"
   ]
  },
  {
   "cell_type": "markdown",
   "metadata": {},
   "source": [
    "This data belongs to a loan aggregator agency which connects loan applications to different financial institutions in attempt to get the best interest rate. They want to now utilise past data to predict interest rate given by any financial institute just by looking at loan application characteristics.\n",
    "\n",
    "To achieve that , they have decided to do a POC with a data from a particular financial institution. The data is given in the file \"loans data.csv\". Lets begin: "
   ]
  },
  {
   "cell_type": "markdown",
   "metadata": {},
   "source": [
    "## Step 0: Basic Imports"
   ]
  },
  {
   "cell_type": "code",
   "execution_count": 2,
   "metadata": {
    "ExecuteTime": {
     "end_time": "2022-04-10T09:52:19.543456Z",
     "start_time": "2022-04-10T09:52:19.534297Z"
    }
   },
   "outputs": [],
   "source": [
    "import pandas as pd \n",
    "import numpy as np\n",
    "import matplotlib.pyplot as plt\n",
    "import seaborn as sns"
   ]
  },
  {
   "cell_type": "markdown",
   "metadata": {},
   "source": [
    "## Step 1: Load dataset"
   ]
  },
  {
   "cell_type": "code",
   "execution_count": 3,
   "metadata": {
    "ExecuteTime": {
     "end_time": "2022-04-10T09:54:01.994550Z",
     "start_time": "2022-04-10T09:54:01.958241Z"
    }
   },
   "outputs": [],
   "source": [
    "train_file = './data/loan_data_train.csv' #relative path. So in present working directory it will look for data folder.\n",
    "test_file = './data/loan_data_test.csv'\n",
    "\n",
    "df_train = pd.read_csv(train_file) #read_csv is a function in pandas.\n",
    "df_test = pd.read_csv(test_file)               "
   ]
  },
  {
   "cell_type": "code",
   "execution_count": 4,
   "metadata": {
    "ExecuteTime": {
     "end_time": "2022-04-10T09:54:17.181928Z",
     "start_time": "2022-04-10T09:54:17.113944Z"
    }
   },
   "outputs": [
    {
     "name": "stdout",
     "output_type": "stream",
     "text": [
      "(2200, 15)\n"
     ]
    },
    {
     "data": {
      "text/html": [
       "<div>\n",
       "<style scoped>\n",
       "    .dataframe tbody tr th:only-of-type {\n",
       "        vertical-align: middle;\n",
       "    }\n",
       "\n",
       "    .dataframe tbody tr th {\n",
       "        vertical-align: top;\n",
       "    }\n",
       "\n",
       "    .dataframe thead th {\n",
       "        text-align: right;\n",
       "    }\n",
       "</style>\n",
       "<table border=\"1\" class=\"dataframe\">\n",
       "  <thead>\n",
       "    <tr style=\"text-align: right;\">\n",
       "      <th></th>\n",
       "      <th>ID</th>\n",
       "      <th>Amount.Requested</th>\n",
       "      <th>Amount.Funded.By.Investors</th>\n",
       "      <th>Interest.Rate</th>\n",
       "      <th>Loan.Length</th>\n",
       "      <th>Loan.Purpose</th>\n",
       "      <th>Debt.To.Income.Ratio</th>\n",
       "      <th>State</th>\n",
       "      <th>Home.Ownership</th>\n",
       "      <th>Monthly.Income</th>\n",
       "      <th>FICO.Range</th>\n",
       "      <th>Open.CREDIT.Lines</th>\n",
       "      <th>Revolving.CREDIT.Balance</th>\n",
       "      <th>Inquiries.in.the.Last.6.Months</th>\n",
       "      <th>Employment.Length</th>\n",
       "    </tr>\n",
       "  </thead>\n",
       "  <tbody>\n",
       "    <tr>\n",
       "      <th>0</th>\n",
       "      <td>79542.0</td>\n",
       "      <td>25000</td>\n",
       "      <td>25000</td>\n",
       "      <td>18.49%</td>\n",
       "      <td>60 months</td>\n",
       "      <td>debt_consolidation</td>\n",
       "      <td>27.56%</td>\n",
       "      <td>VA</td>\n",
       "      <td>MORTGAGE</td>\n",
       "      <td>8606.56</td>\n",
       "      <td>720-724</td>\n",
       "      <td>11</td>\n",
       "      <td>15210</td>\n",
       "      <td>3.0</td>\n",
       "      <td>5 years</td>\n",
       "    </tr>\n",
       "    <tr>\n",
       "      <th>1</th>\n",
       "      <td>75473.0</td>\n",
       "      <td>19750</td>\n",
       "      <td>19750</td>\n",
       "      <td>17.27%</td>\n",
       "      <td>60 months</td>\n",
       "      <td>debt_consolidation</td>\n",
       "      <td>13.39%</td>\n",
       "      <td>NY</td>\n",
       "      <td>MORTGAGE</td>\n",
       "      <td>6737.50</td>\n",
       "      <td>710-714</td>\n",
       "      <td>14</td>\n",
       "      <td>19070</td>\n",
       "      <td>3.0</td>\n",
       "      <td>4 years</td>\n",
       "    </tr>\n",
       "    <tr>\n",
       "      <th>2</th>\n",
       "      <td>67265.0</td>\n",
       "      <td>2100</td>\n",
       "      <td>2100</td>\n",
       "      <td>14.33%</td>\n",
       "      <td>36 months</td>\n",
       "      <td>major_purchase</td>\n",
       "      <td>3.50%</td>\n",
       "      <td>LA</td>\n",
       "      <td>OWN</td>\n",
       "      <td>1000.00</td>\n",
       "      <td>690-694</td>\n",
       "      <td>13</td>\n",
       "      <td>893</td>\n",
       "      <td>1.0</td>\n",
       "      <td>&lt; 1 year</td>\n",
       "    </tr>\n",
       "    <tr>\n",
       "      <th>3</th>\n",
       "      <td>80167.0</td>\n",
       "      <td>28000</td>\n",
       "      <td>28000</td>\n",
       "      <td>16.29%</td>\n",
       "      <td>36 months</td>\n",
       "      <td>credit_card</td>\n",
       "      <td>19.62%</td>\n",
       "      <td>NV</td>\n",
       "      <td>MORTGAGE</td>\n",
       "      <td>7083.33</td>\n",
       "      <td>710-714</td>\n",
       "      <td>12</td>\n",
       "      <td>38194</td>\n",
       "      <td>1.0</td>\n",
       "      <td>10+ years</td>\n",
       "    </tr>\n",
       "    <tr>\n",
       "      <th>4</th>\n",
       "      <td>17240.0</td>\n",
       "      <td>24250</td>\n",
       "      <td>17431.82</td>\n",
       "      <td>12.23%</td>\n",
       "      <td>60 months</td>\n",
       "      <td>credit_card</td>\n",
       "      <td>23.79%</td>\n",
       "      <td>OH</td>\n",
       "      <td>MORTGAGE</td>\n",
       "      <td>5833.33</td>\n",
       "      <td>730-734</td>\n",
       "      <td>6</td>\n",
       "      <td>31061</td>\n",
       "      <td>2.0</td>\n",
       "      <td>10+ years</td>\n",
       "    </tr>\n",
       "  </tbody>\n",
       "</table>\n",
       "</div>"
      ],
      "text/plain": [
       "        ID Amount.Requested Amount.Funded.By.Investors Interest.Rate  \\\n",
       "0  79542.0            25000                      25000        18.49%   \n",
       "1  75473.0            19750                      19750        17.27%   \n",
       "2  67265.0             2100                       2100        14.33%   \n",
       "3  80167.0            28000                      28000        16.29%   \n",
       "4  17240.0            24250                   17431.82        12.23%   \n",
       "\n",
       "  Loan.Length        Loan.Purpose Debt.To.Income.Ratio State Home.Ownership  \\\n",
       "0   60 months  debt_consolidation               27.56%    VA       MORTGAGE   \n",
       "1   60 months  debt_consolidation               13.39%    NY       MORTGAGE   \n",
       "2   36 months      major_purchase                3.50%    LA            OWN   \n",
       "3   36 months         credit_card               19.62%    NV       MORTGAGE   \n",
       "4   60 months         credit_card               23.79%    OH       MORTGAGE   \n",
       "\n",
       "   Monthly.Income FICO.Range Open.CREDIT.Lines Revolving.CREDIT.Balance  \\\n",
       "0         8606.56    720-724                11                    15210   \n",
       "1         6737.50    710-714                14                    19070   \n",
       "2         1000.00    690-694                13                      893   \n",
       "3         7083.33    710-714                12                    38194   \n",
       "4         5833.33    730-734                 6                    31061   \n",
       "\n",
       "   Inquiries.in.the.Last.6.Months Employment.Length  \n",
       "0                             3.0           5 years  \n",
       "1                             3.0           4 years  \n",
       "2                             1.0          < 1 year  \n",
       "3                             1.0         10+ years  \n",
       "4                             2.0         10+ years  "
      ]
     },
     "execution_count": 4,
     "metadata": {},
     "output_type": "execute_result"
    }
   ],
   "source": [
    "print(df_train.shape) # check no of rows (ie the no of data points) and cols (ie the no of features)\n",
    "df_train.head(5) # display the first 5 columns in your dataset"
   ]
  },
  {
   "cell_type": "markdown",
   "metadata": {},
   "source": [
    "14 features and 1 target variable"
   ]
  },
  {
   "cell_type": "code",
   "execution_count": 5,
   "metadata": {
    "ExecuteTime": {
     "end_time": "2022-04-10T09:55:04.915110Z",
     "start_time": "2022-04-10T09:55:04.873525Z"
    },
    "scrolled": true
   },
   "outputs": [
    {
     "name": "stdout",
     "output_type": "stream",
     "text": [
      "(300, 14)\n"
     ]
    },
    {
     "data": {
      "text/html": [
       "<div>\n",
       "<style scoped>\n",
       "    .dataframe tbody tr th:only-of-type {\n",
       "        vertical-align: middle;\n",
       "    }\n",
       "\n",
       "    .dataframe tbody tr th {\n",
       "        vertical-align: top;\n",
       "    }\n",
       "\n",
       "    .dataframe thead th {\n",
       "        text-align: right;\n",
       "    }\n",
       "</style>\n",
       "<table border=\"1\" class=\"dataframe\">\n",
       "  <thead>\n",
       "    <tr style=\"text-align: right;\">\n",
       "      <th></th>\n",
       "      <th>ID</th>\n",
       "      <th>Amount.Requested</th>\n",
       "      <th>Amount.Funded.By.Investors</th>\n",
       "      <th>Loan.Length</th>\n",
       "      <th>Loan.Purpose</th>\n",
       "      <th>Debt.To.Income.Ratio</th>\n",
       "      <th>State</th>\n",
       "      <th>Home.Ownership</th>\n",
       "      <th>Monthly.Income</th>\n",
       "      <th>FICO.Range</th>\n",
       "      <th>Open.CREDIT.Lines</th>\n",
       "      <th>Revolving.CREDIT.Balance</th>\n",
       "      <th>Inquiries.in.the.Last.6.Months</th>\n",
       "      <th>Employment.Length</th>\n",
       "    </tr>\n",
       "  </thead>\n",
       "  <tbody>\n",
       "    <tr>\n",
       "      <th>180</th>\n",
       "      <td>53234</td>\n",
       "      <td>7150</td>\n",
       "      <td>7150</td>\n",
       "      <td>36 months</td>\n",
       "      <td>debt_consolidation</td>\n",
       "      <td>12.33%</td>\n",
       "      <td>IL</td>\n",
       "      <td>RENT</td>\n",
       "      <td>3666.67</td>\n",
       "      <td>685-689</td>\n",
       "      <td>11</td>\n",
       "      <td>10561</td>\n",
       "      <td>1</td>\n",
       "      <td>&lt; 1 year</td>\n",
       "    </tr>\n",
       "    <tr>\n",
       "      <th>90</th>\n",
       "      <td>102294</td>\n",
       "      <td>20000</td>\n",
       "      <td>16755.89</td>\n",
       "      <td>36 months</td>\n",
       "      <td>debt_consolidation</td>\n",
       "      <td>25.40%</td>\n",
       "      <td>MN</td>\n",
       "      <td>MORTGAGE</td>\n",
       "      <td>6916.67</td>\n",
       "      <td>715-719</td>\n",
       "      <td>10</td>\n",
       "      <td>26938</td>\n",
       "      <td>0</td>\n",
       "      <td>10+ years</td>\n",
       "    </tr>\n",
       "  </tbody>\n",
       "</table>\n",
       "</div>"
      ],
      "text/plain": [
       "         ID  Amount.Requested Amount.Funded.By.Investors Loan.Length  \\\n",
       "180   53234              7150                       7150   36 months   \n",
       "90   102294             20000                   16755.89   36 months   \n",
       "\n",
       "           Loan.Purpose Debt.To.Income.Ratio State Home.Ownership  \\\n",
       "180  debt_consolidation               12.33%    IL           RENT   \n",
       "90   debt_consolidation               25.40%    MN       MORTGAGE   \n",
       "\n",
       "     Monthly.Income FICO.Range Open.CREDIT.Lines  Revolving.CREDIT.Balance  \\\n",
       "180         3666.67    685-689                11                     10561   \n",
       "90          6916.67    715-719                10                     26938   \n",
       "\n",
       "     Inquiries.in.the.Last.6.Months Employment.Length  \n",
       "180                               1          < 1 year  \n",
       "90                                0         10+ years  "
      ]
     },
     "execution_count": 5,
     "metadata": {},
     "output_type": "execute_result"
    }
   ],
   "source": [
    "#test data does not have interest rate\n",
    "print(df_test.shape)\n",
    "df_test.sample(2)"
   ]
  },
  {
   "cell_type": "markdown",
   "metadata": {},
   "source": [
    "## Step 2: Data Visualisation and Feature Selection"
   ]
  },
  {
   "cell_type": "markdown",
   "metadata": {
    "heading_collapsed": true
   },
   "source": [
    "### 2.1. Check dtypes"
   ]
  },
  {
   "cell_type": "code",
   "execution_count": 6,
   "metadata": {
    "ExecuteTime": {
     "end_time": "2022-04-10T09:58:03.379323Z",
     "start_time": "2022-04-10T09:58:03.367066Z"
    },
    "hidden": true
   },
   "outputs": [
    {
     "data": {
      "text/plain": [
       "ID                                float64\n",
       "Amount.Requested                   object\n",
       "Amount.Funded.By.Investors         object\n",
       "Interest.Rate                      object\n",
       "Loan.Length                        object\n",
       "Loan.Purpose                       object\n",
       "Debt.To.Income.Ratio               object\n",
       "State                              object\n",
       "Home.Ownership                     object\n",
       "Monthly.Income                    float64\n",
       "FICO.Range                         object\n",
       "Open.CREDIT.Lines                  object\n",
       "Revolving.CREDIT.Balance           object\n",
       "Inquiries.in.the.Last.6.Months    float64\n",
       "Employment.Length                  object\n",
       "dtype: object"
      ]
     },
     "execution_count": 6,
     "metadata": {},
     "output_type": "execute_result"
    }
   ],
   "source": [
    "df_train.dtypes #this will return a list of the columns and their respective dtypes"
   ]
  },
  {
   "cell_type": "code",
   "execution_count": 7,
   "metadata": {
    "ExecuteTime": {
     "end_time": "2022-04-10T09:59:14.432170Z",
     "start_time": "2022-04-10T09:59:14.404653Z"
    },
    "hidden": true
   },
   "outputs": [
    {
     "data": {
      "text/plain": [
       "array([dtype('float64'), dtype('O')], dtype=object)"
      ]
     },
     "execution_count": 7,
     "metadata": {},
     "output_type": "execute_result"
    }
   ],
   "source": [
    "df_train.dtypes.unique() #will give the unique dtypes in my dataset"
   ]
  },
  {
   "cell_type": "code",
   "execution_count": 9,
   "metadata": {
    "ExecuteTime": {
     "end_time": "2022-04-10T10:00:25.130054Z",
     "start_time": "2022-04-10T10:00:25.106412Z"
    },
    "hidden": true
   },
   "outputs": [
    {
     "data": {
      "text/plain": [
       "(Index(['Amount.Requested', 'Amount.Funded.By.Investors', 'Interest.Rate',\n",
       "        'Loan.Length', 'Loan.Purpose', 'Debt.To.Income.Ratio', 'State',\n",
       "        'Home.Ownership', 'FICO.Range', 'Open.CREDIT.Lines',\n",
       "        'Revolving.CREDIT.Balance', 'Employment.Length'],\n",
       "       dtype='object'),\n",
       " 12)"
      ]
     },
     "execution_count": 9,
     "metadata": {},
     "output_type": "execute_result"
    }
   ],
   "source": [
    "#df_train.select_dtypes(\"object\") --> this will return a dataframe with only object type columns\n",
    "obj_cols = df_train.select_dtypes(\"object\").columns\n",
    "obj_cols, len(obj_cols)"
   ]
  },
  {
   "cell_type": "markdown",
   "metadata": {
    "hidden": true
   },
   "source": [
    "Dtypes for 12 feature has to be fixed"
   ]
  },
  {
   "cell_type": "code",
   "execution_count": 10,
   "metadata": {
    "ExecuteTime": {
     "end_time": "2022-04-10T10:00:55.309307Z",
     "start_time": "2022-04-10T10:00:55.263679Z"
    },
    "hidden": true
   },
   "outputs": [
    {
     "name": "stdout",
     "output_type": "stream",
     "text": [
      "(2200, 12)\n"
     ]
    },
    {
     "data": {
      "text/html": [
       "<div>\n",
       "<style scoped>\n",
       "    .dataframe tbody tr th:only-of-type {\n",
       "        vertical-align: middle;\n",
       "    }\n",
       "\n",
       "    .dataframe tbody tr th {\n",
       "        vertical-align: top;\n",
       "    }\n",
       "\n",
       "    .dataframe thead th {\n",
       "        text-align: right;\n",
       "    }\n",
       "</style>\n",
       "<table border=\"1\" class=\"dataframe\">\n",
       "  <thead>\n",
       "    <tr style=\"text-align: right;\">\n",
       "      <th></th>\n",
       "      <th>Amount.Requested</th>\n",
       "      <th>Amount.Funded.By.Investors</th>\n",
       "      <th>Interest.Rate</th>\n",
       "      <th>Loan.Length</th>\n",
       "      <th>Loan.Purpose</th>\n",
       "      <th>Debt.To.Income.Ratio</th>\n",
       "      <th>State</th>\n",
       "      <th>Home.Ownership</th>\n",
       "      <th>FICO.Range</th>\n",
       "      <th>Open.CREDIT.Lines</th>\n",
       "      <th>Revolving.CREDIT.Balance</th>\n",
       "      <th>Employment.Length</th>\n",
       "    </tr>\n",
       "  </thead>\n",
       "  <tbody>\n",
       "    <tr>\n",
       "      <th>1368</th>\n",
       "      <td>20800</td>\n",
       "      <td>13796.59</td>\n",
       "      <td>12.21%</td>\n",
       "      <td>36 months</td>\n",
       "      <td>credit_card</td>\n",
       "      <td>16.94%</td>\n",
       "      <td>TX</td>\n",
       "      <td>MORTGAGE</td>\n",
       "      <td>750-754</td>\n",
       "      <td>11</td>\n",
       "      <td>14337</td>\n",
       "      <td>10+ years</td>\n",
       "    </tr>\n",
       "    <tr>\n",
       "      <th>1328</th>\n",
       "      <td>16800</td>\n",
       "      <td>16800</td>\n",
       "      <td>7.90%</td>\n",
       "      <td>60 months</td>\n",
       "      <td>debt_consolidation</td>\n",
       "      <td>3.34%</td>\n",
       "      <td>FL</td>\n",
       "      <td>MORTGAGE</td>\n",
       "      <td>815-819</td>\n",
       "      <td>7</td>\n",
       "      <td>4757</td>\n",
       "      <td>10+ years</td>\n",
       "    </tr>\n",
       "    <tr>\n",
       "      <th>93</th>\n",
       "      <td>15000</td>\n",
       "      <td>15000</td>\n",
       "      <td>11.14%</td>\n",
       "      <td>36 months</td>\n",
       "      <td>credit_card</td>\n",
       "      <td>15.51%</td>\n",
       "      <td>GA</td>\n",
       "      <td>MORTGAGE</td>\n",
       "      <td>690-694</td>\n",
       "      <td>9</td>\n",
       "      <td>15207</td>\n",
       "      <td>10+ years</td>\n",
       "    </tr>\n",
       "    <tr>\n",
       "      <th>256</th>\n",
       "      <td>16800</td>\n",
       "      <td>16800</td>\n",
       "      <td>16.40%</td>\n",
       "      <td>36 months</td>\n",
       "      <td>debt_consolidation</td>\n",
       "      <td>7.02%</td>\n",
       "      <td>MO</td>\n",
       "      <td>MORTGAGE</td>\n",
       "      <td>675-679</td>\n",
       "      <td>8</td>\n",
       "      <td>16211</td>\n",
       "      <td>&lt; 1 year</td>\n",
       "    </tr>\n",
       "    <tr>\n",
       "      <th>87</th>\n",
       "      <td>14000</td>\n",
       "      <td>12800</td>\n",
       "      <td>14.79%</td>\n",
       "      <td>60 months</td>\n",
       "      <td>other</td>\n",
       "      <td>8.37%</td>\n",
       "      <td>MI</td>\n",
       "      <td>RENT</td>\n",
       "      <td>710-714</td>\n",
       "      <td>5</td>\n",
       "      <td>2697</td>\n",
       "      <td>&lt; 1 year</td>\n",
       "    </tr>\n",
       "  </tbody>\n",
       "</table>\n",
       "</div>"
      ],
      "text/plain": [
       "     Amount.Requested Amount.Funded.By.Investors Interest.Rate Loan.Length  \\\n",
       "1368            20800                   13796.59        12.21%   36 months   \n",
       "1328            16800                      16800         7.90%   60 months   \n",
       "93              15000                      15000        11.14%   36 months   \n",
       "256             16800                      16800        16.40%   36 months   \n",
       "87              14000                      12800        14.79%   60 months   \n",
       "\n",
       "            Loan.Purpose Debt.To.Income.Ratio State Home.Ownership FICO.Range  \\\n",
       "1368         credit_card               16.94%    TX       MORTGAGE    750-754   \n",
       "1328  debt_consolidation                3.34%    FL       MORTGAGE    815-819   \n",
       "93           credit_card               15.51%    GA       MORTGAGE    690-694   \n",
       "256   debt_consolidation                7.02%    MO       MORTGAGE    675-679   \n",
       "87                 other                8.37%    MI           RENT    710-714   \n",
       "\n",
       "     Open.CREDIT.Lines Revolving.CREDIT.Balance Employment.Length  \n",
       "1368                11                    14337         10+ years  \n",
       "1328                 7                     4757         10+ years  \n",
       "93                   9                    15207         10+ years  \n",
       "256                  8                    16211          < 1 year  \n",
       "87                   5                     2697          < 1 year  "
      ]
     },
     "execution_count": 10,
     "metadata": {},
     "output_type": "execute_result"
    }
   ],
   "source": [
    "print(df_train[obj_cols].shape)\n",
    "df_train[obj_cols].sample(5) #slicing of dataframe-->dataframe[list_of_desired_cols]"
   ]
  },
  {
   "cell_type": "code",
   "execution_count": 11,
   "metadata": {
    "ExecuteTime": {
     "end_time": "2022-04-10T10:11:42.624014Z",
     "start_time": "2022-04-10T10:11:42.602892Z"
    },
    "hidden": true
   },
   "outputs": [
    {
     "data": {
      "text/plain": [
       "36 months    1722\n",
       "60 months     476\n",
       ".               1\n",
       "Name: Loan.Length, dtype: int64"
      ]
     },
     "execution_count": 11,
     "metadata": {},
     "output_type": "execute_result"
    }
   ],
   "source": [
    "df_train[\"Loan.Length\"].value_counts() #unique value and the count of each value"
   ]
  },
  {
   "cell_type": "code",
   "execution_count": 12,
   "metadata": {
    "ExecuteTime": {
     "end_time": "2022-04-10T10:12:05.312147Z",
     "start_time": "2022-04-10T10:12:05.295411Z"
    },
    "hidden": true
   },
   "outputs": [
    {
     "data": {
      "text/plain": [
       "debt_consolidation    1147\n",
       "credit_card            394\n",
       "other                  174\n",
       "home_improvement       135\n",
       "major_purchase          84\n",
       "small_business          80\n",
       "car                     45\n",
       "wedding                 35\n",
       "medical                 26\n",
       "moving                  25\n",
       "house                   19\n",
       "vacation                18\n",
       "educational             14\n",
       "renewable_energy         3\n",
       "Name: Loan.Purpose, dtype: int64"
      ]
     },
     "execution_count": 12,
     "metadata": {},
     "output_type": "execute_result"
    }
   ],
   "source": [
    "df_train[\"Loan.Purpose\"].value_counts()"
   ]
  },
  {
   "cell_type": "code",
   "execution_count": 13,
   "metadata": {
    "ExecuteTime": {
     "end_time": "2022-04-10T10:12:20.466815Z",
     "start_time": "2022-04-10T10:12:20.451554Z"
    },
    "hidden": true
   },
   "outputs": [
    {
     "data": {
      "text/plain": [
       "MORTGAGE    1018\n",
       "RENT         999\n",
       "OWN          177\n",
       "OTHER          4\n",
       "NONE           1\n",
       "Name: Home.Ownership, dtype: int64"
      ]
     },
     "execution_count": 13,
     "metadata": {},
     "output_type": "execute_result"
    }
   ],
   "source": [
    "df_train[\"Home.Ownership\"].value_counts()"
   ]
  },
  {
   "cell_type": "code",
   "execution_count": 14,
   "metadata": {
    "ExecuteTime": {
     "end_time": "2022-04-10T10:12:59.289841Z",
     "start_time": "2022-04-10T10:12:59.265168Z"
    },
    "hidden": true,
    "scrolled": true
   },
   "outputs": [
    {
     "data": {
      "text/plain": [
       "10+ years    575\n",
       "< 1 year     229\n",
       "2 years      217\n",
       "3 years      203\n",
       "5 years      181\n",
       "4 years      162\n",
       "1 year       159\n",
       "6 years      134\n",
       "7 years      109\n",
       "8 years       95\n",
       "9 years       66\n",
       ".              1\n",
       "Name: Employment.Length, dtype: int64"
      ]
     },
     "execution_count": 14,
     "metadata": {},
     "output_type": "execute_result"
    }
   ],
   "source": [
    "df_train[\"Employment.Length\"].value_counts()"
   ]
  },
  {
   "cell_type": "markdown",
   "metadata": {
    "heading_collapsed": true
   },
   "source": [
    "### 2.1.1. Some observations"
   ]
  },
  {
   "cell_type": "markdown",
   "metadata": {
    "hidden": true
   },
   "source": [
    "1. 'Amount.Requested': **convert it to numeric**\n",
    "2. 'Amount.Funded.By.Investors': **drop**\n",
    "3. 'Interest.Rate': **remove % and then to numeric**\n",
    "4. 'Loan.Length': **dummies for categories**\n",
    "5. 'Loan.Purpose': **dummies for categories**\n",
    "6. 'Debt.To.Income.Ratio': **remove % and then to numeric**\n",
    "7. 'State': **dummies for categories**\n",
    "8. 'Home.Ownership': **dummies for categories**\n",
    "9. 'FICO.Range': **replace it by a numeric column which is average of the range**\n",
    "10. 'Open.CREDIT.Lines': **convert it to numeric**\n",
    "11. 'Revolving.CREDIT.Balance': **convert it to numeric**\n",
    "12. 'Employment.Length': **convert it to number**\n",
    "\n",
    "\n",
    "##### Lets group by operation:\n",
    "\n",
    "1. drop: \n",
    "    - ID \n",
    "    - Amount.Funded.By.Investors\n",
    "<br>\n",
    "2. convert it to numeric \n",
    "    - Amount.Requested\n",
    "    - Open.CREDIT.Lines\n",
    "    - Revolving.CREDIT.Balance\n",
    "<br>\n",
    "3. remove % and then to numeric\n",
    "    - Interest Rate\n",
    "    - Debt to income ratio\n",
    "<br>\n",
    "4. replace it by a numeric column which is average of the range\n",
    "    - FICO.Range \n",
    "<br>\n",
    "5. convert to number:\n",
    "    - Employment Length \n",
    "<br>\n",
    "6. dummies for categories with good occurence rate:\n",
    "    - Loan Lenth\n",
    "    - Loan Purpose\n",
    "    - State\n",
    "    - Home ownership"
   ]
  },
  {
   "cell_type": "markdown",
   "metadata": {
    "heading_collapsed": true
   },
   "source": [
    "### 2.1.2. Fix Dtypes"
   ]
  },
  {
   "cell_type": "markdown",
   "metadata": {
    "heading_collapsed": true,
    "hidden": true
   },
   "source": [
    "#### Operation 1: df.drop([ ], inplace=True)"
   ]
  },
  {
   "cell_type": "code",
   "execution_count": 15,
   "metadata": {
    "ExecuteTime": {
     "end_time": "2022-04-10T10:19:04.273274Z",
     "start_time": "2022-04-10T10:19:04.263483Z"
    },
    "hidden": true
   },
   "outputs": [
    {
     "data": {
      "text/plain": [
       "(2200, 15)"
      ]
     },
     "execution_count": 15,
     "metadata": {},
     "output_type": "execute_result"
    }
   ],
   "source": [
    "df_train.shape"
   ]
  },
  {
   "cell_type": "code",
   "execution_count": 19,
   "metadata": {
    "ExecuteTime": {
     "end_time": "2022-04-10T10:21:12.761305Z",
     "start_time": "2022-04-10T10:21:12.753408Z"
    },
    "hidden": true
   },
   "outputs": [],
   "source": [
    "df_train.drop(['ID','Amount.Funded.By.Investors'], axis=1, inplace=True)\n",
    "#with inplace=True df_train will itself change. "
   ]
  },
  {
   "cell_type": "code",
   "execution_count": 20,
   "metadata": {
    "ExecuteTime": {
     "end_time": "2022-04-10T10:21:13.575674Z",
     "start_time": "2022-04-10T10:21:13.565408Z"
    },
    "hidden": true
   },
   "outputs": [
    {
     "data": {
      "text/plain": [
       "(2200, 13)"
      ]
     },
     "execution_count": 20,
     "metadata": {},
     "output_type": "execute_result"
    }
   ],
   "source": [
    "df_train.shape"
   ]
  },
  {
   "cell_type": "markdown",
   "metadata": {
    "heading_collapsed": true,
    "hidden": true
   },
   "source": [
    "#### Operation 2: pd.to_numeric"
   ]
  },
  {
   "cell_type": "markdown",
   "metadata": {
    "hidden": true
   },
   "source": [
    "We can see that many columns which should have really been numbers have been imported as character columns , probably because some characters values in those columns in the files. We'll convert all such columns to numbers ."
   ]
  },
  {
   "cell_type": "code",
   "execution_count": 23,
   "metadata": {
    "ExecuteTime": {
     "end_time": "2022-04-10T10:22:36.519767Z",
     "start_time": "2022-04-10T10:22:36.505100Z"
    },
    "hidden": true
   },
   "outputs": [
    {
     "data": {
      "text/plain": [
       "Amount.Requested                   object\n",
       "Interest.Rate                      object\n",
       "Loan.Length                        object\n",
       "Loan.Purpose                       object\n",
       "Debt.To.Income.Ratio               object\n",
       "State                              object\n",
       "Home.Ownership                     object\n",
       "Monthly.Income                    float64\n",
       "FICO.Range                         object\n",
       "Open.CREDIT.Lines                  object\n",
       "Revolving.CREDIT.Balance           object\n",
       "Inquiries.in.the.Last.6.Months    float64\n",
       "Employment.Length                  object\n",
       "dtype: object"
      ]
     },
     "execution_count": 23,
     "metadata": {},
     "output_type": "execute_result"
    }
   ],
   "source": [
    "df_train.dtypes"
   ]
  },
  {
   "cell_type": "code",
   "execution_count": 24,
   "metadata": {
    "ExecuteTime": {
     "end_time": "2022-04-10T10:23:47.547701Z",
     "start_time": "2022-04-10T10:23:47.522396Z"
    },
    "hidden": true
   },
   "outputs": [],
   "source": [
    "for col in ['Amount.Requested', 'Open.CREDIT.Lines','Revolving.CREDIT.Balance']:\n",
    "    df_train[col] = pd.to_numeric(df_train[col], errors='coerce') "
   ]
  },
  {
   "cell_type": "code",
   "execution_count": 25,
   "metadata": {
    "ExecuteTime": {
     "end_time": "2022-04-10T10:23:52.635206Z",
     "start_time": "2022-04-10T10:23:52.624084Z"
    },
    "hidden": true,
    "scrolled": true
   },
   "outputs": [
    {
     "data": {
      "text/plain": [
       "Amount.Requested                  float64\n",
       "Interest.Rate                      object\n",
       "Loan.Length                        object\n",
       "Loan.Purpose                       object\n",
       "Debt.To.Income.Ratio               object\n",
       "State                              object\n",
       "Home.Ownership                     object\n",
       "Monthly.Income                    float64\n",
       "FICO.Range                         object\n",
       "Open.CREDIT.Lines                 float64\n",
       "Revolving.CREDIT.Balance          float64\n",
       "Inquiries.in.the.Last.6.Months    float64\n",
       "Employment.Length                  object\n",
       "dtype: object"
      ]
     },
     "execution_count": 25,
     "metadata": {},
     "output_type": "execute_result"
    }
   ],
   "source": [
    "df_train.dtypes"
   ]
  },
  {
   "cell_type": "markdown",
   "metadata": {
    "heading_collapsed": true,
    "hidden": true
   },
   "source": [
    "#### Operation 3: First String operation df[col].str.string_operation --> pd.to_numeric"
   ]
  },
  {
   "cell_type": "markdown",
   "metadata": {
    "hidden": true
   },
   "source": [
    "variable `Interest.Rate` and `Debt.To.Income.Ratio` contain \"%\" sign in their values and because of which they have come as character columns in the data. Lets remove these percentages first."
   ]
  },
  {
   "cell_type": "code",
   "execution_count": 26,
   "metadata": {
    "ExecuteTime": {
     "end_time": "2022-04-10T10:26:42.825006Z",
     "start_time": "2022-04-10T10:26:42.812219Z"
    },
    "hidden": true
   },
   "outputs": [
    {
     "data": {
      "text/plain": [
       "'aabb'"
      ]
     },
     "execution_count": 26,
     "metadata": {},
     "output_type": "execute_result"
    }
   ],
   "source": [
    "# \"aa%bb\".replace(\"%\",\"\") #\"aabb\""
   ]
  },
  {
   "cell_type": "code",
   "execution_count": 27,
   "metadata": {
    "ExecuteTime": {
     "end_time": "2022-04-10T10:26:58.670126Z",
     "start_time": "2022-04-10T10:26:58.650956Z"
    },
    "hidden": true
   },
   "outputs": [
    {
     "data": {
      "text/plain": [
       "1100     5.42%\n",
       "1502    11.14%\n",
       "Name: Interest.Rate, dtype: object"
      ]
     },
     "execution_count": 27,
     "metadata": {},
     "output_type": "execute_result"
    }
   ],
   "source": [
    "df_train['Interest.Rate'].sample(2)"
   ]
  },
  {
   "cell_type": "code",
   "execution_count": 28,
   "metadata": {
    "ExecuteTime": {
     "end_time": "2022-04-10T10:28:27.961892Z",
     "start_time": "2022-04-10T10:28:27.942264Z"
    },
    "hidden": true
   },
   "outputs": [
    {
     "name": "stdout",
     "output_type": "stream",
     "text": [
      "Interest.Rate\n",
      "Debt.To.Income.Ratio\n"
     ]
    }
   ],
   "source": [
    "for col in ['Interest.Rate','Debt.To.Income.Ratio']:\n",
    "    print(col)\n",
    "    df_train[col] = df_train[col].str.replace(\"%\",\"\") #first convert the row value to string type\n",
    "                                                      #and then perfrom replace operation"
   ]
  },
  {
   "cell_type": "code",
   "execution_count": 29,
   "metadata": {
    "ExecuteTime": {
     "end_time": "2022-04-10T10:28:31.833263Z",
     "start_time": "2022-04-10T10:28:31.823143Z"
    },
    "hidden": true
   },
   "outputs": [
    {
     "data": {
      "text/plain": [
       "2083    19.05\n",
       "1637    10.62\n",
       "Name: Interest.Rate, dtype: object"
      ]
     },
     "execution_count": 29,
     "metadata": {},
     "output_type": "execute_result"
    }
   ],
   "source": [
    "#Lets check the effect of replace operation\n",
    "df_train['Interest.Rate'].sample(2)"
   ]
  },
  {
   "cell_type": "code",
   "execution_count": 30,
   "metadata": {
    "ExecuteTime": {
     "end_time": "2022-04-10T10:29:26.979543Z",
     "start_time": "2022-04-10T10:29:26.964819Z"
    },
    "hidden": true
   },
   "outputs": [],
   "source": [
    "#Now we can convert to numeric\n",
    "for col in ['Interest.Rate','Debt.To.Income.Ratio']:\n",
    "    df_train[col]=pd.to_numeric(df_train[col],errors='coerce') "
   ]
  },
  {
   "cell_type": "code",
   "execution_count": 31,
   "metadata": {
    "ExecuteTime": {
     "end_time": "2022-04-10T10:29:27.770483Z",
     "start_time": "2022-04-10T10:29:27.759922Z"
    },
    "hidden": true
   },
   "outputs": [
    {
     "data": {
      "text/plain": [
       "Amount.Requested                  float64\n",
       "Interest.Rate                     float64\n",
       "Loan.Length                        object\n",
       "Loan.Purpose                       object\n",
       "Debt.To.Income.Ratio              float64\n",
       "State                              object\n",
       "Home.Ownership                     object\n",
       "Monthly.Income                    float64\n",
       "FICO.Range                         object\n",
       "Open.CREDIT.Lines                 float64\n",
       "Revolving.CREDIT.Balance          float64\n",
       "Inquiries.in.the.Last.6.Months    float64\n",
       "Employment.Length                  object\n",
       "dtype: object"
      ]
     },
     "execution_count": 31,
     "metadata": {},
     "output_type": "execute_result"
    }
   ],
   "source": [
    "df_train.dtypes"
   ]
  },
  {
   "cell_type": "markdown",
   "metadata": {
    "heading_collapsed": true,
    "hidden": true
   },
   "source": [
    "#### Operation 4: .str.split(expand=True) -->df_train[new_name]"
   ]
  },
  {
   "cell_type": "markdown",
   "metadata": {
    "hidden": true
   },
   "source": [
    "If we look at first few values of variable FICO.Range , we can see that we can convert it to numeric by taking average of the range given. To do that first we need to split the column with \"-\", so that we can have both end of ranges in separate columns and then we can simply average them."
   ]
  },
  {
   "cell_type": "code",
   "execution_count": 33,
   "metadata": {
    "ExecuteTime": {
     "end_time": "2022-04-10T10:32:20.183353Z",
     "start_time": "2022-04-10T10:32:20.156878Z"
    },
    "hidden": true
   },
   "outputs": [],
   "source": [
    "# \"660-770\".split(\"-\") #for understanding"
   ]
  },
  {
   "cell_type": "code",
   "execution_count": 34,
   "metadata": {
    "ExecuteTime": {
     "end_time": "2022-04-10T10:32:27.610150Z",
     "start_time": "2022-04-10T10:32:27.598621Z"
    },
    "hidden": true
   },
   "outputs": [
    {
     "data": {
      "text/plain": [
       "0    720-724\n",
       "1    710-714\n",
       "2    690-694\n",
       "3    710-714\n",
       "4    730-734\n",
       "Name: FICO.Range, dtype: object"
      ]
     },
     "execution_count": 34,
     "metadata": {},
     "output_type": "execute_result"
    }
   ],
   "source": [
    "df_train['FICO.Range'].head(5)"
   ]
  },
  {
   "cell_type": "code",
   "execution_count": 35,
   "metadata": {
    "ExecuteTime": {
     "end_time": "2022-04-10T10:33:21.784133Z",
     "start_time": "2022-04-10T10:33:21.766245Z"
    },
    "hidden": true
   },
   "outputs": [],
   "source": [
    "#When using expand=True, the split elements will expand out into separate columns. \n",
    "k = df_train['FICO.Range'].str.split(\"-\", expand=True).astype(float)"
   ]
  },
  {
   "cell_type": "code",
   "execution_count": 36,
   "metadata": {
    "ExecuteTime": {
     "end_time": "2022-04-10T10:33:26.517174Z",
     "start_time": "2022-04-10T10:33:26.492507Z"
    },
    "hidden": true
   },
   "outputs": [
    {
     "data": {
      "text/html": [
       "<div>\n",
       "<style scoped>\n",
       "    .dataframe tbody tr th:only-of-type {\n",
       "        vertical-align: middle;\n",
       "    }\n",
       "\n",
       "    .dataframe tbody tr th {\n",
       "        vertical-align: top;\n",
       "    }\n",
       "\n",
       "    .dataframe thead th {\n",
       "        text-align: right;\n",
       "    }\n",
       "</style>\n",
       "<table border=\"1\" class=\"dataframe\">\n",
       "  <thead>\n",
       "    <tr style=\"text-align: right;\">\n",
       "      <th></th>\n",
       "      <th>0</th>\n",
       "      <th>1</th>\n",
       "    </tr>\n",
       "  </thead>\n",
       "  <tbody>\n",
       "    <tr>\n",
       "      <th>0</th>\n",
       "      <td>720.0</td>\n",
       "      <td>724.0</td>\n",
       "    </tr>\n",
       "    <tr>\n",
       "      <th>1</th>\n",
       "      <td>710.0</td>\n",
       "      <td>714.0</td>\n",
       "    </tr>\n",
       "    <tr>\n",
       "      <th>2</th>\n",
       "      <td>690.0</td>\n",
       "      <td>694.0</td>\n",
       "    </tr>\n",
       "    <tr>\n",
       "      <th>3</th>\n",
       "      <td>710.0</td>\n",
       "      <td>714.0</td>\n",
       "    </tr>\n",
       "    <tr>\n",
       "      <th>4</th>\n",
       "      <td>730.0</td>\n",
       "      <td>734.0</td>\n",
       "    </tr>\n",
       "  </tbody>\n",
       "</table>\n",
       "</div>"
      ],
      "text/plain": [
       "       0      1\n",
       "0  720.0  724.0\n",
       "1  710.0  714.0\n",
       "2  690.0  694.0\n",
       "3  710.0  714.0\n",
       "4  730.0  734.0"
      ]
     },
     "execution_count": 36,
     "metadata": {},
     "output_type": "execute_result"
    }
   ],
   "source": [
    "#now k is a new dataframe with two columns and same no of rows\n",
    "k.head(5)"
   ]
  },
  {
   "cell_type": "code",
   "execution_count": 37,
   "metadata": {
    "ExecuteTime": {
     "end_time": "2022-04-10T10:33:59.241286Z",
     "start_time": "2022-04-10T10:33:59.225087Z"
    },
    "hidden": true
   },
   "outputs": [
    {
     "data": {
      "text/plain": [
       "0    float64\n",
       "1    float64\n",
       "dtype: object"
      ]
     },
     "execution_count": 37,
     "metadata": {},
     "output_type": "execute_result"
    }
   ],
   "source": [
    "k.dtypes"
   ]
  },
  {
   "cell_type": "code",
   "execution_count": 38,
   "metadata": {
    "ExecuteTime": {
     "end_time": "2022-04-10T10:34:29.458922Z",
     "start_time": "2022-04-10T10:34:29.442353Z"
    },
    "hidden": true
   },
   "outputs": [],
   "source": [
    "#creating a new column \"fico\" with average from k[0] (ie lower range) and k[1] (ie upper range)\n",
    "df_train['fico']=0.5*(k[0]+k[1])\n",
    "del df_train['FICO.Range']"
   ]
  },
  {
   "cell_type": "code",
   "execution_count": 39,
   "metadata": {
    "ExecuteTime": {
     "end_time": "2022-04-10T10:34:48.246633Z",
     "start_time": "2022-04-10T10:34:48.235852Z"
    },
    "hidden": true
   },
   "outputs": [
    {
     "data": {
      "text/plain": [
       "(2200, 13)"
      ]
     },
     "execution_count": 39,
     "metadata": {},
     "output_type": "execute_result"
    }
   ],
   "source": [
    "df_train.shape"
   ]
  },
  {
   "cell_type": "code",
   "execution_count": 40,
   "metadata": {
    "ExecuteTime": {
     "end_time": "2022-04-10T10:34:49.259712Z",
     "start_time": "2022-04-10T10:34:49.244229Z"
    },
    "hidden": true
   },
   "outputs": [
    {
     "data": {
      "text/plain": [
       "Amount.Requested                  float64\n",
       "Interest.Rate                     float64\n",
       "Loan.Length                        object\n",
       "Loan.Purpose                       object\n",
       "Debt.To.Income.Ratio              float64\n",
       "State                              object\n",
       "Home.Ownership                     object\n",
       "Monthly.Income                    float64\n",
       "Open.CREDIT.Lines                 float64\n",
       "Revolving.CREDIT.Balance          float64\n",
       "Inquiries.in.the.Last.6.Months    float64\n",
       "Employment.Length                  object\n",
       "fico                              float64\n",
       "dtype: object"
      ]
     },
     "execution_count": 40,
     "metadata": {},
     "output_type": "execute_result"
    }
   ],
   "source": [
    "df_train.dtypes"
   ]
  },
  {
   "cell_type": "markdown",
   "metadata": {
    "heading_collapsed": true,
    "hidden": true
   },
   "source": [
    "#### Operation 5: np.where(condition, value_if_True, value_if_False)"
   ]
  },
  {
   "cell_type": "code",
   "execution_count": 42,
   "metadata": {
    "ExecuteTime": {
     "end_time": "2022-04-10T10:42:06.111464Z",
     "start_time": "2022-04-10T10:42:06.092759Z"
    },
    "hidden": true
   },
   "outputs": [
    {
     "data": {
      "text/plain": [
       "10+ years    575\n",
       "< 1 year     229\n",
       "2 years      217\n",
       "3 years      203\n",
       "5 years      181\n",
       "4 years      162\n",
       "1 year       159\n",
       "6 years      134\n",
       "7 years      109\n",
       "8 years       95\n",
       "9 years       66\n",
       ".              1\n",
       "Name: Employment.Length, dtype: int64"
      ]
     },
     "execution_count": 42,
     "metadata": {},
     "output_type": "execute_result"
    }
   ],
   "source": [
    "#checking unique values for \"Employment.Length\" and their corresponding values\n",
    "df_train['Employment.Length'].value_counts()"
   ]
  },
  {
   "cell_type": "code",
   "execution_count": 43,
   "metadata": {
    "ExecuteTime": {
     "end_time": "2022-04-10T10:43:01.146992Z",
     "start_time": "2022-04-10T10:43:01.132465Z"
    },
    "hidden": true
   },
   "outputs": [],
   "source": [
    "df_train['Employment.Length'] = df_train['Employment.Length'].str.replace('years',\"\")\n",
    "df_train['Employment.Length'] = df_train['Employment.Length'].str.replace('year',\"\")"
   ]
  },
  {
   "cell_type": "code",
   "execution_count": 44,
   "metadata": {
    "ExecuteTime": {
     "end_time": "2022-04-10T10:43:02.239454Z",
     "start_time": "2022-04-10T10:43:02.230459Z"
    },
    "hidden": true
   },
   "outputs": [
    {
     "data": {
      "text/plain": [
       "10+     575\n",
       "< 1     229\n",
       "2       217\n",
       "3       203\n",
       "5       181\n",
       "4       162\n",
       "1       159\n",
       "6       134\n",
       "7       109\n",
       "8        95\n",
       "9        66\n",
       ".         1\n",
       "Name: Employment.Length, dtype: int64"
      ]
     },
     "execution_count": 44,
     "metadata": {},
     "output_type": "execute_result"
    }
   ],
   "source": [
    "#verifying the two replace operations we performed\n",
    "df_train['Employment.Length'].value_counts()"
   ]
  },
  {
   "cell_type": "code",
   "execution_count": 45,
   "metadata": {
    "ExecuteTime": {
     "end_time": "2022-04-10T10:43:40.818409Z",
     "start_time": "2022-04-10T10:43:40.800109Z"
    },
    "hidden": true
   },
   "outputs": [
    {
     "data": {
      "text/plain": [
       "'78'"
      ]
     },
     "execution_count": 45,
     "metadata": {},
     "output_type": "execute_result"
    }
   ],
   "source": [
    "\"78+00\"[:2] #take index 0 and index 1. "
   ]
  },
  {
   "cell_type": "code",
   "execution_count": 46,
   "metadata": {
    "ExecuteTime": {
     "end_time": "2022-04-10T10:46:03.608706Z",
     "start_time": "2022-04-10T10:46:03.581269Z"
    },
    "hidden": true
   },
   "outputs": [],
   "source": [
    "#np.where(condition, value_if_True, value_if_False)\n",
    "df_train['Employment.Length'] = np.where(df_train['Employment.Length'].str[:2]==\"10\",10,\n",
    "                                         df_train['Employment.Length'])\n",
    "\n",
    "df_train['Employment.Length'] = np.where(df_train['Employment.Length'].str[0]==\"<\",0,\n",
    "                                       df_train['Employment.Length'])"
   ]
  },
  {
   "cell_type": "code",
   "execution_count": 47,
   "metadata": {
    "ExecuteTime": {
     "end_time": "2022-04-10T10:46:04.174079Z",
     "start_time": "2022-04-10T10:46:04.164024Z"
    },
    "hidden": true
   },
   "outputs": [
    {
     "data": {
      "text/plain": [
       "10    575\n",
       "0     229\n",
       "2     217\n",
       "3     203\n",
       "5     181\n",
       "4     162\n",
       "1     159\n",
       "6     134\n",
       "7     109\n",
       "8      95\n",
       "9      66\n",
       ".       1\n",
       "Name: Employment.Length, dtype: int64"
      ]
     },
     "execution_count": 47,
     "metadata": {},
     "output_type": "execute_result"
    }
   ],
   "source": [
    "df_train['Employment.Length'].value_counts()"
   ]
  },
  {
   "cell_type": "code",
   "execution_count": 48,
   "metadata": {
    "ExecuteTime": {
     "end_time": "2022-04-10T10:46:37.642832Z",
     "start_time": "2022-04-10T10:46:37.632345Z"
    },
    "hidden": true
   },
   "outputs": [],
   "source": [
    "df_train['Employment.Length']=pd.to_numeric(df_train['Employment.Length'],errors='coerce')"
   ]
  },
  {
   "cell_type": "code",
   "execution_count": 49,
   "metadata": {
    "ExecuteTime": {
     "end_time": "2022-04-10T10:46:39.470835Z",
     "start_time": "2022-04-10T10:46:39.437884Z"
    },
    "hidden": true
   },
   "outputs": [
    {
     "data": {
      "text/plain": [
       "10.0    575\n",
       "0.0     229\n",
       "2.0     217\n",
       "3.0     203\n",
       "5.0     181\n",
       "4.0     162\n",
       "1.0     159\n",
       "6.0     134\n",
       "7.0     109\n",
       "8.0      95\n",
       "9.0      66\n",
       "Name: Employment.Length, dtype: int64"
      ]
     },
     "execution_count": 49,
     "metadata": {},
     "output_type": "execute_result"
    }
   ],
   "source": [
    "df_train['Employment.Length'].value_counts()"
   ]
  },
  {
   "cell_type": "code",
   "execution_count": 50,
   "metadata": {
    "ExecuteTime": {
     "end_time": "2022-04-10T10:46:42.615167Z",
     "start_time": "2022-04-10T10:46:42.600862Z"
    },
    "hidden": true
   },
   "outputs": [
    {
     "data": {
      "text/plain": [
       "Amount.Requested                  float64\n",
       "Interest.Rate                     float64\n",
       "Loan.Length                        object\n",
       "Loan.Purpose                       object\n",
       "Debt.To.Income.Ratio              float64\n",
       "State                              object\n",
       "Home.Ownership                     object\n",
       "Monthly.Income                    float64\n",
       "Open.CREDIT.Lines                 float64\n",
       "Revolving.CREDIT.Balance          float64\n",
       "Inquiries.in.the.Last.6.Months    float64\n",
       "Employment.Length                 float64\n",
       "fico                              float64\n",
       "dtype: object"
      ]
     },
     "execution_count": 50,
     "metadata": {},
     "output_type": "execute_result"
    }
   ],
   "source": [
    "df_train.dtypes"
   ]
  },
  {
   "cell_type": "markdown",
   "metadata": {
    "heading_collapsed": true,
    "hidden": true
   },
   "source": [
    "#### Operation 6: One hot encoding"
   ]
  },
  {
   "cell_type": "code",
   "execution_count": 51,
   "metadata": {
    "ExecuteTime": {
     "end_time": "2022-04-10T10:49:32.116692Z",
     "start_time": "2022-04-10T10:49:32.096058Z"
    },
    "hidden": true
   },
   "outputs": [
    {
     "data": {
      "text/plain": [
       "Index(['Loan.Length', 'Loan.Purpose', 'State', 'Home.Ownership'], dtype='object')"
      ]
     },
     "execution_count": 51,
     "metadata": {},
     "output_type": "execute_result"
    }
   ],
   "source": [
    "# Notice that to apply string function on pandas data frame columns you need to str attribute\n",
    "cat_cols=df_train.select_dtypes(['object']).columns\n",
    "cat_cols"
   ]
  },
  {
   "cell_type": "code",
   "execution_count": 52,
   "metadata": {
    "ExecuteTime": {
     "end_time": "2022-04-10T10:50:08.312256Z",
     "start_time": "2022-04-10T10:50:08.274165Z"
    },
    "hidden": true
   },
   "outputs": [
    {
     "name": "stdout",
     "output_type": "stream",
     "text": [
      "**************************************************\n",
      "Loan.Length\n",
      "--------------------------------------------------\n",
      "3\n",
      "--------------------------------------------------\n",
      "36 months    1722\n",
      "60 months     476\n",
      ".               1\n",
      "Name: Loan.Length, dtype: int64\n",
      "**************************************************\n",
      "Loan.Purpose\n",
      "--------------------------------------------------\n",
      "14\n",
      "--------------------------------------------------\n",
      "debt_consolidation    1147\n",
      "credit_card            394\n",
      "other                  174\n",
      "home_improvement       135\n",
      "major_purchase          84\n",
      "small_business          80\n",
      "car                     45\n",
      "wedding                 35\n",
      "medical                 26\n",
      "moving                  25\n",
      "house                   19\n",
      "vacation                18\n",
      "educational             14\n",
      "renewable_energy         3\n",
      "Name: Loan.Purpose, dtype: int64\n",
      "**************************************************\n",
      "State\n",
      "--------------------------------------------------\n",
      "46\n",
      "--------------------------------------------------\n",
      "CA    376\n",
      "NY    231\n",
      "FL    149\n",
      "TX    146\n",
      "PA     88\n",
      "IL     87\n",
      "GA     82\n",
      "NJ     81\n",
      "VA     70\n",
      "MA     64\n",
      "OH     59\n",
      "NC     59\n",
      "MD     59\n",
      "CO     54\n",
      "WA     52\n",
      "CT     44\n",
      "AZ     44\n",
      "MI     38\n",
      "AL     34\n",
      "MN     30\n",
      "MO     29\n",
      "NV     29\n",
      "SC     27\n",
      "WI     25\n",
      "OR     25\n",
      "KS     21\n",
      "OK     20\n",
      "LA     20\n",
      "KY     20\n",
      "NH     14\n",
      "RI     13\n",
      "UT     13\n",
      "NM     12\n",
      "WV     12\n",
      "HI     12\n",
      "AR     11\n",
      "DC      9\n",
      "AK      8\n",
      "DE      7\n",
      "MT      7\n",
      "VT      5\n",
      "WY      4\n",
      "SD      4\n",
      "IN      3\n",
      "MS      1\n",
      ".       1\n",
      "Name: State, dtype: int64\n",
      "**************************************************\n",
      "Home.Ownership\n",
      "--------------------------------------------------\n",
      "5\n",
      "--------------------------------------------------\n",
      "MORTGAGE    1018\n",
      "RENT         999\n",
      "OWN          177\n",
      "OTHER          4\n",
      "NONE           1\n",
      "Name: Home.Ownership, dtype: int64\n",
      "**************************************************\n"
     ]
    }
   ],
   "source": [
    "print(\"*\"*50)\n",
    "for col in cat_cols:\n",
    "    print(col)\n",
    "    print(\"-\"*50)\n",
    "    print(df_train[col].nunique())\n",
    "    print(\"-\"*50)\n",
    "    print(df_train[col].value_counts())\n",
    "    print(\"*\"*50)"
   ]
  },
  {
   "cell_type": "code",
   "execution_count": 53,
   "metadata": {
    "ExecuteTime": {
     "end_time": "2022-04-10T10:54:54.866250Z",
     "start_time": "2022-04-10T10:54:54.768898Z"
    },
    "hidden": true
   },
   "outputs": [
    {
     "name": "stdout",
     "output_type": "stream",
     "text": [
      "Loan.Length\n",
      "Loan.Purpose\n",
      "State\n",
      "Home.Ownership\n"
     ]
    }
   ],
   "source": [
    "# you can use following method if you want to ignore categories with too low frequencies ,\n",
    "# in next section for logistic regression we will be using  pandas' get dummies function. \n",
    "# you can work with either of these . \n",
    "# ignoring categories with low frequencies however will result in fewer columns without \n",
    "# affecting model performance too much .\n",
    "\n",
    "to_store = []\n",
    "new_cols = []\n",
    "\n",
    "for col in cat_cols:\n",
    "    \n",
    "    freqs = df_train[col].value_counts()\n",
    "    categories = freqs.index[freqs>20]\n",
    "    to_store.append((col, categories))\n",
    "    \n",
    "    for category in categories:\n",
    "        name=col+'.'+category\n",
    "        new_cols.append(name)\n",
    "        df_train[name]=(df_train[col]==category).astype(int)\n",
    "    del df_train[col]\n",
    "    print(col)"
   ]
  },
  {
   "cell_type": "code",
   "execution_count": 54,
   "metadata": {
    "ExecuteTime": {
     "end_time": "2022-04-10T10:55:17.466345Z",
     "start_time": "2022-04-10T10:55:17.446725Z"
    },
    "hidden": true
   },
   "outputs": [
    {
     "data": {
      "text/plain": [
       "(2200, 50)"
      ]
     },
     "execution_count": 54,
     "metadata": {},
     "output_type": "execute_result"
    }
   ],
   "source": [
    "df_train.shape"
   ]
  },
  {
   "cell_type": "code",
   "execution_count": 55,
   "metadata": {
    "ExecuteTime": {
     "end_time": "2022-04-10T10:55:31.387475Z",
     "start_time": "2022-04-10T10:55:31.368026Z"
    },
    "hidden": true
   },
   "outputs": [
    {
     "data": {
      "text/plain": [
       "41"
      ]
     },
     "execution_count": 55,
     "metadata": {},
     "output_type": "execute_result"
    }
   ],
   "source": [
    "len(new_cols)"
   ]
  },
  {
   "cell_type": "code",
   "execution_count": 56,
   "metadata": {
    "ExecuteTime": {
     "end_time": "2022-04-10T10:55:36.317439Z",
     "start_time": "2022-04-10T10:55:36.308010Z"
    },
    "hidden": true
   },
   "outputs": [
    {
     "data": {
      "text/plain": [
       "['Loan.Length.36 months',\n",
       " 'Loan.Length.60 months',\n",
       " 'Loan.Purpose.debt_consolidation',\n",
       " 'Loan.Purpose.credit_card',\n",
       " 'Loan.Purpose.other',\n",
       " 'Loan.Purpose.home_improvement',\n",
       " 'Loan.Purpose.major_purchase',\n",
       " 'Loan.Purpose.small_business',\n",
       " 'Loan.Purpose.car',\n",
       " 'Loan.Purpose.wedding',\n",
       " 'Loan.Purpose.medical',\n",
       " 'Loan.Purpose.moving',\n",
       " 'State.CA',\n",
       " 'State.NY',\n",
       " 'State.FL',\n",
       " 'State.TX',\n",
       " 'State.PA',\n",
       " 'State.IL',\n",
       " 'State.GA',\n",
       " 'State.NJ',\n",
       " 'State.VA',\n",
       " 'State.MA',\n",
       " 'State.OH',\n",
       " 'State.NC',\n",
       " 'State.MD',\n",
       " 'State.CO',\n",
       " 'State.WA',\n",
       " 'State.CT',\n",
       " 'State.AZ',\n",
       " 'State.MI',\n",
       " 'State.AL',\n",
       " 'State.MN',\n",
       " 'State.MO',\n",
       " 'State.NV',\n",
       " 'State.SC',\n",
       " 'State.WI',\n",
       " 'State.OR',\n",
       " 'State.KS',\n",
       " 'Home.Ownership.MORTGAGE',\n",
       " 'Home.Ownership.RENT',\n",
       " 'Home.Ownership.OWN']"
      ]
     },
     "execution_count": 56,
     "metadata": {},
     "output_type": "execute_result"
    }
   ],
   "source": [
    "new_cols #we are storing all categorical feature names so that extracting numerical feature name is easy. "
   ]
  },
  {
   "cell_type": "code",
   "execution_count": 59,
   "metadata": {
    "ExecuteTime": {
     "end_time": "2022-04-10T10:59:18.186287Z",
     "start_time": "2022-04-10T10:59:18.163941Z"
    },
    "hidden": true
   },
   "outputs": [
    {
     "data": {
      "text/plain": [
       "[('Loan.Length', Index(['36 months', '60 months'], dtype='object')),\n",
       " ('Loan.Purpose',\n",
       "  Index(['debt_consolidation', 'credit_card', 'other', 'home_improvement',\n",
       "         'major_purchase', 'small_business', 'car', 'wedding', 'medical',\n",
       "         'moving'],\n",
       "        dtype='object')),\n",
       " ('State',\n",
       "  Index(['CA', 'NY', 'FL', 'TX', 'PA', 'IL', 'GA', 'NJ', 'VA', 'MA', 'OH', 'NC',\n",
       "         'MD', 'CO', 'WA', 'CT', 'AZ', 'MI', 'AL', 'MN', 'MO', 'NV', 'SC', 'WI',\n",
       "         'OR', 'KS'],\n",
       "        dtype='object')),\n",
       " ('Home.Ownership', Index(['MORTGAGE', 'RENT', 'OWN'], dtype='object'))]"
      ]
     },
     "execution_count": 59,
     "metadata": {},
     "output_type": "execute_result"
    }
   ],
   "source": [
    "to_store #we are storing \"features\" used for one-hot-encoding, and for each feature the corresponding categories\n",
    "         #used. This will help in replicating the same procedure for the test dataset. "
   ]
  },
  {
   "cell_type": "code",
   "execution_count": 57,
   "metadata": {
    "ExecuteTime": {
     "end_time": "2022-04-10T10:56:39.954507Z",
     "start_time": "2022-04-10T10:56:39.936359Z"
    },
    "hidden": true
   },
   "outputs": [
    {
     "data": {
      "text/plain": [
       "array([dtype('float64'), dtype('int64')], dtype=object)"
      ]
     },
     "execution_count": 57,
     "metadata": {},
     "output_type": "execute_result"
    }
   ],
   "source": [
    "df_train.dtypes.unique() #mission successful"
   ]
  },
  {
   "cell_type": "code",
   "execution_count": 58,
   "metadata": {
    "ExecuteTime": {
     "end_time": "2022-04-10T10:56:47.883618Z",
     "start_time": "2022-04-10T10:56:47.854956Z"
    },
    "hidden": true
   },
   "outputs": [
    {
     "data": {
      "text/plain": [
       "Amount.Requested                   float64\n",
       "Interest.Rate                      float64\n",
       "Debt.To.Income.Ratio               float64\n",
       "Monthly.Income                     float64\n",
       "Open.CREDIT.Lines                  float64\n",
       "Revolving.CREDIT.Balance           float64\n",
       "Inquiries.in.the.Last.6.Months     float64\n",
       "Employment.Length                  float64\n",
       "fico                               float64\n",
       "Loan.Length.36 months                int64\n",
       "Loan.Length.60 months                int64\n",
       "Loan.Purpose.debt_consolidation      int64\n",
       "Loan.Purpose.credit_card             int64\n",
       "Loan.Purpose.other                   int64\n",
       "Loan.Purpose.home_improvement        int64\n",
       "Loan.Purpose.major_purchase          int64\n",
       "Loan.Purpose.small_business          int64\n",
       "Loan.Purpose.car                     int64\n",
       "Loan.Purpose.wedding                 int64\n",
       "Loan.Purpose.medical                 int64\n",
       "Loan.Purpose.moving                  int64\n",
       "State.CA                             int64\n",
       "State.NY                             int64\n",
       "State.FL                             int64\n",
       "State.TX                             int64\n",
       "State.PA                             int64\n",
       "State.IL                             int64\n",
       "State.GA                             int64\n",
       "State.NJ                             int64\n",
       "State.VA                             int64\n",
       "State.MA                             int64\n",
       "State.OH                             int64\n",
       "State.NC                             int64\n",
       "State.MD                             int64\n",
       "State.CO                             int64\n",
       "State.WA                             int64\n",
       "State.CT                             int64\n",
       "State.AZ                             int64\n",
       "State.MI                             int64\n",
       "State.AL                             int64\n",
       "State.MN                             int64\n",
       "State.MO                             int64\n",
       "State.NV                             int64\n",
       "State.SC                             int64\n",
       "State.WI                             int64\n",
       "State.OR                             int64\n",
       "State.KS                             int64\n",
       "Home.Ownership.MORTGAGE              int64\n",
       "Home.Ownership.RENT                  int64\n",
       "Home.Ownership.OWN                   int64\n",
       "dtype: object"
      ]
     },
     "execution_count": 58,
     "metadata": {},
     "output_type": "execute_result"
    }
   ],
   "source": [
    "df_train.dtypes"
   ]
  },
  {
   "cell_type": "markdown",
   "metadata": {
    "heading_collapsed": true
   },
   "source": [
    "### 2.2. Correlation Coefficient"
   ]
  },
  {
   "cell_type": "code",
   "execution_count": 60,
   "metadata": {
    "ExecuteTime": {
     "end_time": "2022-04-10T11:05:15.977899Z",
     "start_time": "2022-04-10T11:05:15.947360Z"
    },
    "hidden": true
   },
   "outputs": [
    {
     "data": {
      "text/plain": [
       "Index(['Amount.Requested', 'Interest.Rate', 'Debt.To.Income.Ratio',\n",
       "       'Monthly.Income', 'Open.CREDIT.Lines', 'Revolving.CREDIT.Balance',\n",
       "       'Inquiries.in.the.Last.6.Months', 'Employment.Length', 'fico'],\n",
       "      dtype='object')"
      ]
     },
     "execution_count": 60,
     "metadata": {},
     "output_type": "execute_result"
    }
   ],
   "source": [
    "df_train.columns.drop(new_cols) #list of all numerical features"
   ]
  },
  {
   "cell_type": "code",
   "execution_count": 64,
   "metadata": {
    "ExecuteTime": {
     "end_time": "2022-04-10T11:06:58.937574Z",
     "start_time": "2022-04-10T11:06:58.914704Z"
    },
    "hidden": true
   },
   "outputs": [
    {
     "data": {
      "text/plain": [
       "(2200, 9)"
      ]
     },
     "execution_count": 64,
     "metadata": {},
     "output_type": "execute_result"
    }
   ],
   "source": [
    "numerical = df_train[df_train.columns.drop(new_cols)]\n",
    "numerical.shape"
   ]
  },
  {
   "cell_type": "code",
   "execution_count": 65,
   "metadata": {
    "ExecuteTime": {
     "end_time": "2022-04-10T11:07:02.346420Z",
     "start_time": "2022-04-10T11:07:02.287389Z"
    },
    "hidden": true
   },
   "outputs": [
    {
     "data": {
      "text/html": [
       "<div>\n",
       "<style scoped>\n",
       "    .dataframe tbody tr th:only-of-type {\n",
       "        vertical-align: middle;\n",
       "    }\n",
       "\n",
       "    .dataframe tbody tr th {\n",
       "        vertical-align: top;\n",
       "    }\n",
       "\n",
       "    .dataframe thead th {\n",
       "        text-align: right;\n",
       "    }\n",
       "</style>\n",
       "<table border=\"1\" class=\"dataframe\">\n",
       "  <thead>\n",
       "    <tr style=\"text-align: right;\">\n",
       "      <th></th>\n",
       "      <th>Amount.Requested</th>\n",
       "      <th>Interest.Rate</th>\n",
       "      <th>Debt.To.Income.Ratio</th>\n",
       "      <th>Monthly.Income</th>\n",
       "      <th>Open.CREDIT.Lines</th>\n",
       "      <th>Revolving.CREDIT.Balance</th>\n",
       "      <th>Inquiries.in.the.Last.6.Months</th>\n",
       "      <th>Employment.Length</th>\n",
       "      <th>fico</th>\n",
       "    </tr>\n",
       "  </thead>\n",
       "  <tbody>\n",
       "    <tr>\n",
       "      <th>count</th>\n",
       "      <td>2195.000000</td>\n",
       "      <td>2200.000000</td>\n",
       "      <td>2199.000000</td>\n",
       "      <td>2197.000000</td>\n",
       "      <td>2193.000000</td>\n",
       "      <td>2195.000000</td>\n",
       "      <td>2197.000000</td>\n",
       "      <td>2130.000000</td>\n",
       "      <td>2200.000000</td>\n",
       "    </tr>\n",
       "    <tr>\n",
       "      <th>mean</th>\n",
       "      <td>12496.469248</td>\n",
       "      <td>13.051218</td>\n",
       "      <td>15.371105</td>\n",
       "      <td>5727.459290</td>\n",
       "      <td>10.081623</td>\n",
       "      <td>15335.575399</td>\n",
       "      <td>0.898498</td>\n",
       "      <td>5.364319</td>\n",
       "      <td>708.084091</td>\n",
       "    </tr>\n",
       "    <tr>\n",
       "      <th>std</th>\n",
       "      <td>7856.983598</td>\n",
       "      <td>4.173349</td>\n",
       "      <td>7.520480</td>\n",
       "      <td>4073.529708</td>\n",
       "      <td>4.497992</td>\n",
       "      <td>18720.803212</td>\n",
       "      <td>1.219223</td>\n",
       "      <td>3.611558</td>\n",
       "      <td>35.263185</td>\n",
       "    </tr>\n",
       "    <tr>\n",
       "      <th>min</th>\n",
       "      <td>1000.000000</td>\n",
       "      <td>5.420000</td>\n",
       "      <td>0.000000</td>\n",
       "      <td>588.500000</td>\n",
       "      <td>2.000000</td>\n",
       "      <td>0.000000</td>\n",
       "      <td>0.000000</td>\n",
       "      <td>0.000000</td>\n",
       "      <td>642.000000</td>\n",
       "    </tr>\n",
       "    <tr>\n",
       "      <th>25%</th>\n",
       "      <td>6000.000000</td>\n",
       "      <td>10.160000</td>\n",
       "      <td>9.735000</td>\n",
       "      <td>3458.000000</td>\n",
       "      <td>7.000000</td>\n",
       "      <td>5600.500000</td>\n",
       "      <td>0.000000</td>\n",
       "      <td>2.000000</td>\n",
       "      <td>682.000000</td>\n",
       "    </tr>\n",
       "    <tr>\n",
       "      <th>50%</th>\n",
       "      <td>10000.000000</td>\n",
       "      <td>13.110000</td>\n",
       "      <td>15.220000</td>\n",
       "      <td>5000.000000</td>\n",
       "      <td>9.000000</td>\n",
       "      <td>11011.000000</td>\n",
       "      <td>0.000000</td>\n",
       "      <td>5.000000</td>\n",
       "      <td>702.000000</td>\n",
       "    </tr>\n",
       "    <tr>\n",
       "      <th>75%</th>\n",
       "      <td>17000.000000</td>\n",
       "      <td>15.800000</td>\n",
       "      <td>20.675000</td>\n",
       "      <td>6883.330000</td>\n",
       "      <td>13.000000</td>\n",
       "      <td>18835.500000</td>\n",
       "      <td>1.000000</td>\n",
       "      <td>10.000000</td>\n",
       "      <td>727.000000</td>\n",
       "    </tr>\n",
       "    <tr>\n",
       "      <th>max</th>\n",
       "      <td>35000.000000</td>\n",
       "      <td>24.890000</td>\n",
       "      <td>34.910000</td>\n",
       "      <td>102750.000000</td>\n",
       "      <td>38.000000</td>\n",
       "      <td>270800.000000</td>\n",
       "      <td>9.000000</td>\n",
       "      <td>10.000000</td>\n",
       "      <td>832.000000</td>\n",
       "    </tr>\n",
       "  </tbody>\n",
       "</table>\n",
       "</div>"
      ],
      "text/plain": [
       "       Amount.Requested  Interest.Rate  Debt.To.Income.Ratio  Monthly.Income  \\\n",
       "count       2195.000000    2200.000000           2199.000000     2197.000000   \n",
       "mean       12496.469248      13.051218             15.371105     5727.459290   \n",
       "std         7856.983598       4.173349              7.520480     4073.529708   \n",
       "min         1000.000000       5.420000              0.000000      588.500000   \n",
       "25%         6000.000000      10.160000              9.735000     3458.000000   \n",
       "50%        10000.000000      13.110000             15.220000     5000.000000   \n",
       "75%        17000.000000      15.800000             20.675000     6883.330000   \n",
       "max        35000.000000      24.890000             34.910000   102750.000000   \n",
       "\n",
       "       Open.CREDIT.Lines  Revolving.CREDIT.Balance  \\\n",
       "count        2193.000000               2195.000000   \n",
       "mean           10.081623              15335.575399   \n",
       "std             4.497992              18720.803212   \n",
       "min             2.000000                  0.000000   \n",
       "25%             7.000000               5600.500000   \n",
       "50%             9.000000              11011.000000   \n",
       "75%            13.000000              18835.500000   \n",
       "max            38.000000             270800.000000   \n",
       "\n",
       "       Inquiries.in.the.Last.6.Months  Employment.Length         fico  \n",
       "count                     2197.000000        2130.000000  2200.000000  \n",
       "mean                         0.898498           5.364319   708.084091  \n",
       "std                          1.219223           3.611558    35.263185  \n",
       "min                          0.000000           0.000000   642.000000  \n",
       "25%                          0.000000           2.000000   682.000000  \n",
       "50%                          0.000000           5.000000   702.000000  \n",
       "75%                          1.000000          10.000000   727.000000  \n",
       "max                          9.000000          10.000000   832.000000  "
      ]
     },
     "execution_count": 65,
     "metadata": {},
     "output_type": "execute_result"
    }
   ],
   "source": [
    "numerical.describe()"
   ]
  },
  {
   "cell_type": "code",
   "execution_count": 66,
   "metadata": {
    "ExecuteTime": {
     "end_time": "2022-04-10T11:07:28.793614Z",
     "start_time": "2022-04-10T11:07:28.106403Z"
    },
    "hidden": true
   },
   "outputs": [
    {
     "data": {
      "image/png": "[encoded data removed]",
      "text/plain": [
       "<Figure size 720x576 with 2 Axes>"
      ]
     },
     "metadata": {
      "needs_background": "light"
     },
     "output_type": "display_data"
    }
   ],
   "source": [
    "ax, fig = plt.subplots(figsize=(10,8))\n",
    "sns.heatmap(numerical.corr(), annot=True, cmap='coolwarm')\n",
    "plt.show()"
   ]
  },
  {
   "cell_type": "markdown",
   "metadata": {
    "heading_collapsed": true
   },
   "source": [
    "### 2.3. Outliers"
   ]
  },
  {
   "cell_type": "code",
   "execution_count": 71,
   "metadata": {
    "ExecuteTime": {
     "end_time": "2022-04-10T11:20:39.655421Z",
     "start_time": "2022-04-10T11:20:37.720249Z"
    },
    "hidden": true
   },
   "outputs": [
    {
     "data": {
      "image/png": "[encoded data removed]",
      "text/plain": [
       "<Figure size 2160x1800 with 9 Axes>"
      ]
     },
     "metadata": {
      "needs_background": "light"
     },
     "output_type": "display_data"
    }
   ],
   "source": [
    "from scipy import stats\n",
    "\n",
    "fig, axs = plt.subplots(ncols=3, nrows=3, figsize=(30, 25))\n",
    "index = 0\n",
    "axs = axs.flatten()\n",
    "for k,v in numerical.items():\n",
    "#     print(f\"k: {k} v: \\n{v}\")\n",
    "    sns.boxplot(y=k, data=numerical, ax=axs[index])\n",
    "    index += 1\n",
    "plt.tight_layout(pad=0.4, w_pad=0.5, h_pad=5.0)"
   ]
  },
  {
   "cell_type": "code",
   "execution_count": 72,
   "metadata": {
    "ExecuteTime": {
     "end_time": "2022-04-10T11:21:17.809605Z",
     "start_time": "2022-04-10T11:21:17.744390Z"
    },
    "hidden": true
   },
   "outputs": [
    {
     "name": "stdout",
     "output_type": "stream",
     "text": [
      "Column Amount.Requested outliers = 2.32%\n",
      "Column Interest.Rate outliers = 0.23%\n",
      "Column Debt.To.Income.Ratio outliers = 0.00%\n",
      "Column Monthly.Income outliers = 4.95%\n",
      "Column Open.CREDIT.Lines outliers = 1.55%\n",
      "Column Revolving.CREDIT.Balance outliers = 5.64%\n",
      "Column Inquiries.in.the.Last.6.Months outliers = 10.09%\n",
      "Column Employment.Length outliers = 0.00%\n",
      "Column fico outliers = 2.23%\n"
     ]
    }
   ],
   "source": [
    "for k, v in numerical.items(): #k=column_name, v=values\n",
    "    q1 = v.quantile(0.25)\n",
    "    q3 = v.quantile(0.75)\n",
    "    iqr = q3 - q1\n",
    "    v_col = v[(v <= q1 - 1.5 * iqr) | (v >= q3 + 1.5 * iqr)]\n",
    "    perc = np.shape(v_col)[0] * 100.0 / np.shape(numerical)[0]\n",
    "    print(\"Column %s outliers = %.2f%%\" % (k, perc))"
   ]
  },
  {
   "cell_type": "markdown",
   "metadata": {},
   "source": [
    "### 2.4. Missing values: SimpleImputer"
   ]
  },
  {
   "cell_type": "code",
   "execution_count": 73,
   "metadata": {
    "ExecuteTime": {
     "end_time": "2022-04-10T11:28:34.797824Z",
     "start_time": "2022-04-10T11:28:34.781783Z"
    }
   },
   "outputs": [
    {
     "data": {
      "text/plain": [
       "Amount.Requested                    5\n",
       "Interest.Rate                       0\n",
       "Debt.To.Income.Ratio                1\n",
       "Monthly.Income                      3\n",
       "Open.CREDIT.Lines                   7\n",
       "Revolving.CREDIT.Balance            5\n",
       "Inquiries.in.the.Last.6.Months      3\n",
       "Employment.Length                  70\n",
       "fico                                0\n",
       "Loan.Length.36 months               0\n",
       "Loan.Length.60 months               0\n",
       "Loan.Purpose.debt_consolidation     0\n",
       "Loan.Purpose.credit_card            0\n",
       "Loan.Purpose.other                  0\n",
       "Loan.Purpose.home_improvement       0\n",
       "Loan.Purpose.major_purchase         0\n",
       "Loan.Purpose.small_business         0\n",
       "Loan.Purpose.car                    0\n",
       "Loan.Purpose.wedding                0\n",
       "Loan.Purpose.medical                0\n",
       "Loan.Purpose.moving                 0\n",
       "State.CA                            0\n",
       "State.NY                            0\n",
       "State.FL                            0\n",
       "State.TX                            0\n",
       "State.PA                            0\n",
       "State.IL                            0\n",
       "State.GA                            0\n",
       "State.NJ                            0\n",
       "State.VA                            0\n",
       "State.MA                            0\n",
       "State.OH                            0\n",
       "State.NC                            0\n",
       "State.MD                            0\n",
       "State.CO                            0\n",
       "State.WA                            0\n",
       "State.CT                            0\n",
       "State.AZ                            0\n",
       "State.MI                            0\n",
       "State.AL                            0\n",
       "State.MN                            0\n",
       "State.MO                            0\n",
       "State.NV                            0\n",
       "State.SC                            0\n",
       "State.WI                            0\n",
       "State.OR                            0\n",
       "State.KS                            0\n",
       "Home.Ownership.MORTGAGE             0\n",
       "Home.Ownership.RENT                 0\n",
       "Home.Ownership.OWN                  0\n",
       "dtype: int64"
      ]
     },
     "execution_count": 73,
     "metadata": {},
     "output_type": "execute_result"
    }
   ],
   "source": [
    "df_train.isnull().sum()"
   ]
  },
  {
   "cell_type": "code",
   "execution_count": 74,
   "metadata": {
    "ExecuteTime": {
     "end_time": "2022-04-10T11:29:31.529812Z",
     "start_time": "2022-04-10T11:29:31.404590Z"
    }
   },
   "outputs": [
    {
     "data": {
      "text/plain": [
       "'1.0.2'"
      ]
     },
     "execution_count": 74,
     "metadata": {},
     "output_type": "execute_result"
    }
   ],
   "source": [
    "import sklearn\n",
    "sklearn.__version__"
   ]
  },
  {
   "cell_type": "code",
   "execution_count": 75,
   "metadata": {
    "ExecuteTime": {
     "end_time": "2022-04-10T11:32:05.516837Z",
     "start_time": "2022-04-10T11:32:05.341054Z"
    }
   },
   "outputs": [],
   "source": [
    "from sklearn.impute import SimpleImputer\n",
    "imputer = SimpleImputer(missing_values=np.nan, strategy='mean')"
   ]
  },
  {
   "attachments": {
    "image.png": {
     "image/png": "[encoded data removed]"
    }
   },
   "cell_type": "markdown",
   "metadata": {},
   "source": [
    "![image.png](attachment:image.png)"
   ]
  },
  {
   "cell_type": "code",
   "execution_count": null,
   "metadata": {
    "ExecuteTime": {
     "end_time": "2019-11-17T08:45:34.379604Z",
     "start_time": "2019-11-17T08:45:34.377153Z"
    }
   },
   "outputs": [],
   "source": [
    "# imputer.fit(df_train) #learn the positions which has to be imputed\n",
    "# imputer.transform(df_train) #actually perform the imputer operation \n",
    "# imputer.fit(df_train) + imputer.transform(df_train) = imputer.fit_transform(df_train)"
   ]
  },
  {
   "cell_type": "code",
   "execution_count": null,
   "metadata": {
    "ExecuteTime": {
     "end_time": "2019-11-17T08:45:34.810597Z",
     "start_time": "2019-11-17T08:45:34.808526Z"
    }
   },
   "outputs": [],
   "source": [
    "# return type for imputer is always array. We have to convert that back to dataframe\n",
    "# How to convert array to dataframe:\n",
    "# new_df = pd.Dataframe(array)"
   ]
  },
  {
   "cell_type": "code",
   "execution_count": 76,
   "metadata": {
    "ExecuteTime": {
     "end_time": "2022-04-10T11:34:07.163722Z",
     "start_time": "2022-04-10T11:34:07.138321Z"
    }
   },
   "outputs": [],
   "source": [
    "df_train = pd.DataFrame(imputer.fit_transform(df_train), columns=df_train.columns)"
   ]
  },
  {
   "cell_type": "code",
   "execution_count": 77,
   "metadata": {
    "ExecuteTime": {
     "end_time": "2022-04-10T11:34:11.785963Z",
     "start_time": "2022-04-10T11:34:11.767933Z"
    }
   },
   "outputs": [
    {
     "data": {
      "text/plain": [
       "Amount.Requested                   0\n",
       "Interest.Rate                      0\n",
       "Debt.To.Income.Ratio               0\n",
       "Monthly.Income                     0\n",
       "Open.CREDIT.Lines                  0\n",
       "Revolving.CREDIT.Balance           0\n",
       "Inquiries.in.the.Last.6.Months     0\n",
       "Employment.Length                  0\n",
       "fico                               0\n",
       "Loan.Length.36 months              0\n",
       "Loan.Length.60 months              0\n",
       "Loan.Purpose.debt_consolidation    0\n",
       "Loan.Purpose.credit_card           0\n",
       "Loan.Purpose.other                 0\n",
       "Loan.Purpose.home_improvement      0\n",
       "Loan.Purpose.major_purchase        0\n",
       "Loan.Purpose.small_business        0\n",
       "Loan.Purpose.car                   0\n",
       "Loan.Purpose.wedding               0\n",
       "Loan.Purpose.medical               0\n",
       "Loan.Purpose.moving                0\n",
       "State.CA                           0\n",
       "State.NY                           0\n",
       "State.FL                           0\n",
       "State.TX                           0\n",
       "State.PA                           0\n",
       "State.IL                           0\n",
       "State.GA                           0\n",
       "State.NJ                           0\n",
       "State.VA                           0\n",
       "State.MA                           0\n",
       "State.OH                           0\n",
       "State.NC                           0\n",
       "State.MD                           0\n",
       "State.CO                           0\n",
       "State.WA                           0\n",
       "State.CT                           0\n",
       "State.AZ                           0\n",
       "State.MI                           0\n",
       "State.AL                           0\n",
       "State.MN                           0\n",
       "State.MO                           0\n",
       "State.NV                           0\n",
       "State.SC                           0\n",
       "State.WI                           0\n",
       "State.OR                           0\n",
       "State.KS                           0\n",
       "Home.Ownership.MORTGAGE            0\n",
       "Home.Ownership.RENT                0\n",
       "Home.Ownership.OWN                 0\n",
       "dtype: int64"
      ]
     },
     "execution_count": 77,
     "metadata": {},
     "output_type": "execute_result"
    }
   ],
   "source": [
    "df_train.isnull().sum()"
   ]
  },
  {
   "cell_type": "markdown",
   "metadata": {
    "heading_collapsed": true
   },
   "source": [
    "## Step 3: Defining Training and Test Set"
   ]
  },
  {
   "cell_type": "code",
   "execution_count": null,
   "metadata": {
    "ExecuteTime": {
     "end_time": "2019-11-17T08:45:36.510111Z",
     "start_time": "2019-11-17T08:45:36.502816Z"
    },
    "hidden": true
   },
   "outputs": [],
   "source": [
    "#dataframe.values --> will return array\n",
    "X_train, y_train = df_train.loc[:,df_train.columns!=\"Interest.Rate\"].values, df_train[\"Interest.Rate\"].values\n",
    "X_train.shape, y_train.shape"
   ]
  },
  {
   "cell_type": "markdown",
   "metadata": {
    "heading_collapsed": true
   },
   "source": [
    "## Step 4: Data Scaling"
   ]
  },
  {
   "cell_type": "code",
   "execution_count": null,
   "metadata": {
    "ExecuteTime": {
     "end_time": "2019-11-17T08:45:37.480455Z",
     "start_time": "2019-11-17T08:45:37.438655Z"
    },
    "hidden": true
   },
   "outputs": [],
   "source": [
    "from sklearn.preprocessing import StandardScaler #mean=0, std_deviation=1.0\n",
    "std = StandardScaler().fit(X_train)\n",
    "X_train = std.transform(X_train)"
   ]
  },
  {
   "cell_type": "markdown",
   "metadata": {
    "hidden": true
   },
   "source": [
    "#### There are three different types of scaler: Standard, MixMax and Robust. Read about them here: http://benalexkeen.com/feature-scaling-with-scikit-learn/"
   ]
  },
  {
   "cell_type": "markdown",
   "metadata": {
    "heading_collapsed": true
   },
   "source": [
    "## Step 5: Test set pipeline"
   ]
  },
  {
   "cell_type": "code",
   "execution_count": null,
   "metadata": {
    "ExecuteTime": {
     "end_time": "2019-11-17T08:45:39.313098Z",
     "start_time": "2019-11-17T08:45:39.301143Z"
    },
    "hidden": true
   },
   "outputs": [],
   "source": [
    "def preprocessing(dataframe, to_store, std):\n",
    "    \n",
    "    #Operation1\n",
    "    dataframe = dataframe.drop(['ID','Amount.Funded.By.Investors'],axis=1)\n",
    "    \n",
    "    #Operation2\n",
    "    for col in ['Amount.Requested', 'Open.CREDIT.Lines','Revolving.CREDIT.Balance']:\n",
    "        dataframe[col]=pd.to_numeric(dataframe[col],errors='coerce')\n",
    "    \n",
    "    #Operation3\n",
    "    for col in ['Debt.To.Income.Ratio']:\n",
    "        dataframe[col] = dataframe[col].str.replace(\"%\",\"\") \n",
    "    \n",
    "    for col in ['Debt.To.Income.Ratio']:\n",
    "        dataframe[col]=pd.to_numeric(dataframe[col],errors='coerce') \n",
    "    \n",
    "    #Operation4\n",
    "    k=dataframe['FICO.Range'].str.split(\"-\",expand=True).astype(float)\n",
    "    dataframe['fico']=0.5*(k[0]+k[1])\n",
    "    del dataframe['FICO.Range']\n",
    "    \n",
    "    #Operation5\n",
    "    dataframe['Employment.Length']=dataframe['Employment.Length'].str.replace('years',\"\")\n",
    "    dataframe['Employment.Length']=dataframe['Employment.Length'].str.replace('year',\"\")\n",
    "    \n",
    "    dataframe['Employment.Length']=np.where(dataframe['Employment.Length'].str[:2]==\"10\",10,\n",
    "                                       dataframe['Employment.Length'])\n",
    "\n",
    "    dataframe['Employment.Length']=np.where(dataframe['Employment.Length'].str[0]==\"<\",0,\n",
    "                                       dataframe['Employment.Length'])\n",
    "    \n",
    "    dataframe['Employment.Length']=pd.to_numeric(dataframe['Employment.Length'],errors='coerce')\n",
    "    \n",
    "    #Operation6\n",
    "    for column, categories in to_store:\n",
    "        for category in categories:\n",
    "            name=column+'.'+category\n",
    "            dataframe[name]=(dataframe[column]==category).astype(int)\n",
    "        del dataframe[column]\n",
    "    \n",
    "    #Missing values\n",
    "    imputer = SimpleImputer(missing_values=np.nan, strategy='mean')\n",
    "    dataframe = pd.DataFrame(imputer.fit_transform(dataframe), columns=dataframe.columns)\n",
    "    \n",
    "    #data scaling\n",
    "    X_test = dataframe.values\n",
    "    X_test = std.transform(X_test) #standard scaling\n",
    "    \n",
    "    return X_test"
   ]
  },
  {
   "cell_type": "code",
   "execution_count": null,
   "metadata": {
    "ExecuteTime": {
     "end_time": "2019-11-17T08:45:39.795156Z",
     "start_time": "2019-11-17T08:45:39.729866Z"
    },
    "hidden": true
   },
   "outputs": [],
   "source": [
    "X_test = preprocessing(df_test, to_store, std)\n",
    "X_test.shape"
   ]
  },
  {
   "cell_type": "code",
   "execution_count": null,
   "metadata": {
    "ExecuteTime": {
     "end_time": "2019-11-17T08:45:58.235666Z",
     "start_time": "2019-11-17T08:45:58.231046Z"
    },
    "hidden": true
   },
   "outputs": [],
   "source": [
    "X_train.shape, y_train.shape, X_test.shape"
   ]
  },
  {
   "cell_type": "markdown",
   "metadata": {
    "heading_collapsed": true
   },
   "source": [
    "## Step 6: Modelling"
   ]
  },
  {
   "cell_type": "markdown",
   "metadata": {
    "hidden": true
   },
   "source": [
    "### Linear Regression"
   ]
  },
  {
   "cell_type": "code",
   "execution_count": null,
   "metadata": {
    "ExecuteTime": {
     "end_time": "2019-11-17T08:49:20.699051Z",
     "start_time": "2019-11-17T08:49:20.601288Z"
    },
    "hidden": true
   },
   "outputs": [],
   "source": [
    "from sklearn.linear_model import LinearRegression\n",
    "lm=LinearRegression()\n",
    "lm.fit(X_train, y_train)"
   ]
  },
  {
   "cell_type": "code",
   "execution_count": null,
   "metadata": {
    "ExecuteTime": {
     "end_time": "2019-11-17T08:50:33.430650Z",
     "start_time": "2019-11-17T08:50:33.427185Z"
    },
    "hidden": true
   },
   "outputs": [],
   "source": [
    "test_pred = lm.predict(X_test)"
   ]
  },
  {
   "cell_type": "code",
   "execution_count": null,
   "metadata": {
    "ExecuteTime": {
     "end_time": "2019-11-17T08:52:31.289218Z",
     "start_time": "2019-11-17T08:52:31.284462Z"
    },
    "hidden": true
   },
   "outputs": [],
   "source": [
    "test_pred.shape"
   ]
  },
  {
   "cell_type": "code",
   "execution_count": null,
   "metadata": {
    "ExecuteTime": {
     "end_time": "2019-11-17T08:53:10.254321Z",
     "start_time": "2019-11-17T08:53:10.249348Z"
    },
    "hidden": true
   },
   "outputs": [],
   "source": [
    "test_pred[:5]"
   ]
  },
  {
   "cell_type": "markdown",
   "metadata": {
    "hidden": true
   },
   "source": [
    "We can write these to a csv file for submission like this :"
   ]
  },
  {
   "cell_type": "code",
   "execution_count": null,
   "metadata": {
    "ExecuteTime": {
     "end_time": "2019-11-16T12:32:35.048748Z",
     "start_time": "2019-11-16T12:32:35.036029Z"
    },
    "hidden": true
   },
   "outputs": [],
   "source": [
    "pd.DataFrame(test_pred).to_csv(\"mysubmission.csv\",index=False)"
   ]
  },
  {
   "cell_type": "markdown",
   "metadata": {
    "heading_collapsed": true,
    "hidden": true
   },
   "source": [
    "### Ridge  Regression"
   ]
  },
  {
   "cell_type": "code",
   "execution_count": null,
   "metadata": {
    "ExecuteTime": {
     "end_time": "2019-11-17T09:00:12.910105Z",
     "start_time": "2019-11-17T09:00:12.907394Z"
    },
    "hidden": true
   },
   "outputs": [],
   "source": [
    "from sklearn.linear_model import Ridge\n",
    "from sklearn.model_selection import GridSearchCV"
   ]
  },
  {
   "cell_type": "code",
   "execution_count": null,
   "metadata": {
    "ExecuteTime": {
     "end_time": "2019-11-17T09:24:53.062901Z",
     "start_time": "2019-11-17T09:24:53.059954Z"
    },
    "hidden": true
   },
   "outputs": [],
   "source": [
    "model=Ridge()"
   ]
  },
  {
   "cell_type": "code",
   "execution_count": null,
   "metadata": {
    "ExecuteTime": {
     "end_time": "2019-11-17T09:25:34.324587Z",
     "start_time": "2019-11-17T09:25:34.318279Z"
    },
    "hidden": true
   },
   "outputs": [],
   "source": [
    "alpha=np.linspace(0.1,5,100) #defiing range for values for lambda\n",
    "params={'alpha':alpha}\n",
    "alpha"
   ]
  },
  {
   "cell_type": "code",
   "execution_count": null,
   "metadata": {
    "ExecuteTime": {
     "end_time": "2019-11-17T09:25:37.848743Z",
     "start_time": "2019-11-17T09:25:37.845644Z"
    },
    "hidden": true
   },
   "outputs": [],
   "source": [
    "#GridSearchCV by default choses best model based on max score obtained. \n",
    "grid_search = GridSearchCV(model, param_grid=params, cv=10, scoring='neg_mean_absolute_error')"
   ]
  },
  {
   "cell_type": "code",
   "execution_count": null,
   "metadata": {
    "ExecuteTime": {
     "end_time": "2019-11-17T09:25:40.138784Z",
     "start_time": "2019-11-17T09:25:38.409702Z"
    },
    "hidden": true
   },
   "outputs": [],
   "source": [
    "grid_search.fit(X_train, y_train)"
   ]
  },
  {
   "cell_type": "code",
   "execution_count": null,
   "metadata": {
    "ExecuteTime": {
     "end_time": "2019-11-17T09:25:40.919051Z",
     "start_time": "2019-11-17T09:25:40.913879Z"
    },
    "hidden": true
   },
   "outputs": [],
   "source": [
    "grid_search.best_estimator_"
   ]
  },
  {
   "cell_type": "code",
   "execution_count": null,
   "metadata": {
    "ExecuteTime": {
     "end_time": "2019-11-17T09:26:51.540331Z",
     "start_time": "2019-11-17T09:26:51.504593Z"
    },
    "hidden": true
   },
   "outputs": [],
   "source": [
    "grid_search.cv_results_"
   ]
  },
  {
   "cell_type": "markdown",
   "metadata": {
    "hidden": true
   },
   "source": [
    " if you want you can now fit a ridge regression model with obtained value of alpha , although there is no need, grid search automatically fits the best estimator on the entire data, you can directly use this to make predictions on test_data. But if you want to look at coefficients , its much more convenient to fit the model with direct function"
   ]
  },
  {
   "cell_type": "markdown",
   "metadata": {
    "hidden": true
   },
   "source": [
    "Using the report function given below you can see the cv performance of top few models as well, that will the tentative performance"
   ]
  },
  {
   "cell_type": "code",
   "execution_count": null,
   "metadata": {
    "ExecuteTime": {
     "end_time": "2019-11-17T09:28:24.464659Z",
     "start_time": "2019-11-17T09:28:24.459473Z"
    },
    "hidden": true
   },
   "outputs": [],
   "source": [
    "def report(results, n_top=3):\n",
    "    for i in range(1, n_top + 1):\n",
    "        candidates = np.flatnonzero(results['rank_test_score'] == i)\n",
    "        for candidate in candidates:\n",
    "            print(\"Model with rank: {0}\".format(i))\n",
    "            print(\"Mean validation score: {0:.3f} (std: {1:.3f})\".format(\n",
    "                  results['mean_test_score'][candidate],\n",
    "                  results['std_test_score'][candidate]))\n",
    "            print(\"Parameters: {0}\".format(results['params'][candidate]))\n",
    "            print(\"\")"
   ]
  },
  {
   "cell_type": "code",
   "execution_count": null,
   "metadata": {
    "ExecuteTime": {
     "end_time": "2019-11-17T09:28:27.864187Z",
     "start_time": "2019-11-17T09:28:27.814002Z"
    },
    "hidden": true
   },
   "outputs": [],
   "source": [
    "report(grid_search.cv_results_,100)"
   ]
  },
  {
   "cell_type": "code",
   "execution_count": null,
   "metadata": {
    "ExecuteTime": {
     "end_time": "2019-11-17T09:34:18.467585Z",
     "start_time": "2019-11-17T09:34:18.464008Z"
    },
    "hidden": true
   },
   "outputs": [],
   "source": [
    "test_pred=grid_search.predict(X_test)"
   ]
  },
  {
   "cell_type": "code",
   "execution_count": null,
   "metadata": {
    "ExecuteTime": {
     "end_time": "2019-11-17T09:34:34.925008Z",
     "start_time": "2019-11-17T09:34:34.920135Z"
    },
    "hidden": true
   },
   "outputs": [],
   "source": [
    "test_pred[:5]"
   ]
  },
  {
   "cell_type": "code",
   "execution_count": null,
   "metadata": {
    "hidden": true
   },
   "outputs": [],
   "source": [
    "pd.DataFrame(test_pred).to_csv(\"mysubmission.csv\",index=False)"
   ]
  },
  {
   "cell_type": "markdown",
   "metadata": {
    "collapsed": true,
    "hidden": true
   },
   "source": [
    "#### For looking at coefficients"
   ]
  },
  {
   "cell_type": "code",
   "execution_count": null,
   "metadata": {
    "ExecuteTime": {
     "end_time": "2019-11-17T09:36:01.847329Z",
     "start_time": "2019-11-17T09:36:01.844384Z"
    },
    "hidden": true
   },
   "outputs": [],
   "source": [
    "ridge_model=grid_search.best_estimator_"
   ]
  },
  {
   "cell_type": "code",
   "execution_count": null,
   "metadata": {
    "ExecuteTime": {
     "end_time": "2019-11-17T09:36:07.709134Z",
     "start_time": "2019-11-17T09:36:07.701621Z"
    },
    "hidden": true
   },
   "outputs": [],
   "source": [
    "ridge_model.fit(X_train,y_train)"
   ]
  },
  {
   "cell_type": "code",
   "execution_count": null,
   "metadata": {
    "ExecuteTime": {
     "end_time": "2019-11-17T09:39:19.957292Z",
     "start_time": "2019-11-17T09:39:19.953045Z"
    },
    "hidden": true
   },
   "outputs": [],
   "source": [
    "df = df_train.loc[:,df_train.columns!=\"Interest.Rate\"]"
   ]
  },
  {
   "cell_type": "code",
   "execution_count": null,
   "metadata": {
    "ExecuteTime": {
     "end_time": "2019-11-17T09:39:21.901174Z",
     "start_time": "2019-11-17T09:39:21.894202Z"
    },
    "hidden": true
   },
   "outputs": [],
   "source": [
    "list(zip(df.columns,ridge_model.coef_))"
   ]
  },
  {
   "cell_type": "markdown",
   "metadata": {
    "heading_collapsed": true,
    "hidden": true
   },
   "source": [
    "### Lasso Regression"
   ]
  },
  {
   "cell_type": "code",
   "execution_count": null,
   "metadata": {
    "ExecuteTime": {
     "end_time": "2019-11-17T09:45:04.104163Z",
     "start_time": "2019-11-17T09:45:04.101249Z"
    },
    "hidden": true
   },
   "outputs": [],
   "source": [
    "from sklearn.linear_model import Lasso\n",
    "from sklearn.model_selection import GridSearchCV"
   ]
  },
  {
   "cell_type": "code",
   "execution_count": null,
   "metadata": {
    "ExecuteTime": {
     "end_time": "2019-11-17T09:51:25.790476Z",
     "start_time": "2019-11-17T09:51:25.786936Z"
    },
    "hidden": true
   },
   "outputs": [],
   "source": [
    "alpha=np.linspace(0.01,1,100)\n",
    "model=Lasso(fit_intercept=True)\n",
    "params={'alpha':alpha}"
   ]
  },
  {
   "cell_type": "code",
   "execution_count": null,
   "metadata": {
    "ExecuteTime": {
     "end_time": "2019-11-17T09:51:26.308399Z",
     "start_time": "2019-11-17T09:51:26.305093Z"
    },
    "hidden": true
   },
   "outputs": [],
   "source": [
    "grid_search=GridSearchCV(model,param_grid=params,cv=10,scoring='neg_mean_absolute_error')"
   ]
  },
  {
   "cell_type": "code",
   "execution_count": null,
   "metadata": {
    "ExecuteTime": {
     "end_time": "2019-11-17T09:51:32.918716Z",
     "start_time": "2019-11-17T09:51:26.872388Z"
    },
    "hidden": true
   },
   "outputs": [],
   "source": [
    "grid_search.fit(X_train,y_train)"
   ]
  },
  {
   "cell_type": "code",
   "execution_count": null,
   "metadata": {
    "ExecuteTime": {
     "end_time": "2019-11-17T09:51:36.989967Z",
     "start_time": "2019-11-17T09:51:36.984987Z"
    },
    "hidden": true
   },
   "outputs": [],
   "source": [
    "grid_search.best_estimator_"
   ]
  },
  {
   "cell_type": "markdown",
   "metadata": {
    "hidden": true
   },
   "source": [
    "you can see that, the best value of alpha comes at the edge of the range that we tried , we should expand the trial range on that side and run this again"
   ]
  },
  {
   "cell_type": "code",
   "execution_count": null,
   "metadata": {
    "ExecuteTime": {
     "end_time": "2019-11-17T09:54:06.467070Z",
     "start_time": "2019-11-17T09:54:06.463533Z"
    },
    "hidden": true
   },
   "outputs": [],
   "source": [
    "test_pred=grid_search.predict(X_test)"
   ]
  },
  {
   "cell_type": "code",
   "execution_count": null,
   "metadata": {
    "ExecuteTime": {
     "end_time": "2019-11-17T09:54:14.803442Z",
     "start_time": "2019-11-17T09:54:14.798354Z"
    },
    "hidden": true
   },
   "outputs": [],
   "source": [
    "test_pred[:5]"
   ]
  },
  {
   "cell_type": "code",
   "execution_count": null,
   "metadata": {
    "ExecuteTime": {
     "end_time": "2019-11-17T09:52:08.623817Z",
     "start_time": "2019-11-17T09:52:08.616620Z"
    },
    "hidden": true,
    "scrolled": true
   },
   "outputs": [],
   "source": [
    "report(grid_search.cv_results_,5)"
   ]
  },
  {
   "cell_type": "code",
   "execution_count": null,
   "metadata": {
    "ExecuteTime": {
     "end_time": "2019-11-17T09:54:41.877139Z",
     "start_time": "2019-11-17T09:54:41.874144Z"
    },
    "hidden": true
   },
   "outputs": [],
   "source": [
    "lasso_model=grid_search.best_estimator_"
   ]
  },
  {
   "cell_type": "code",
   "execution_count": null,
   "metadata": {
    "ExecuteTime": {
     "end_time": "2019-11-17T09:54:46.531507Z",
     "start_time": "2019-11-17T09:54:46.511083Z"
    },
    "hidden": true
   },
   "outputs": [],
   "source": [
    "lasso_model.fit(X_train,y_train)"
   ]
  },
  {
   "cell_type": "code",
   "execution_count": null,
   "metadata": {
    "ExecuteTime": {
     "end_time": "2019-11-17T09:54:52.713930Z",
     "start_time": "2019-11-17T09:54:52.706602Z"
    },
    "hidden": true
   },
   "outputs": [],
   "source": [
    "list(zip(df.columns,lasso_model.coef_))"
   ]
  }
 ],
 "metadata": {
  "kernelspec": {
   "display_name": "Python 3 (ipykernel)",
   "language": "python",
   "name": "python3"
  },
  "language_info": {
   "codemirror_mode": {
    "name": "ipython",
    "version": 3
   },
   "file_extension": ".py",
   "mimetype": "text/x-python",
   "name": "python",
   "nbconvert_exporter": "python",
   "pygments_lexer": "ipython3",
   "version": "3.7.11"
  }
 },
 "nbformat": 4,
 "nbformat_minor": 2
}
