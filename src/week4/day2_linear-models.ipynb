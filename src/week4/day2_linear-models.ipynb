{
 "cells": [
  {
   "cell_type": "markdown",
   "metadata": {},
   "source": [
    "# Linear Regression"
   ]
  },
  {
   "cell_type": "code",
   "execution_count": 1,
   "metadata": {
    "ExecuteTime": {
     "end_time": "2022-04-16T08:37:05.187621Z",
     "start_time": "2022-04-16T08:37:04.277875Z"
    }
   },
   "outputs": [],
   "source": [
    "from sklearn.linear_model import LinearRegression"
   ]
  },
  {
   "cell_type": "markdown",
   "metadata": {},
   "source": [
    "## Hypothesis Function"
   ]
  },
  {
   "cell_type": "markdown",
   "metadata": {},
   "source": [
    "Consider a linear regression model with an input vector $x^i = (X_1 , X_2 , \\dots , X_m )$, and a real-valued output $y$. The linear regression model has the form:\n",
    "\n",
    "$$\\large y_p = f_\\theta(X) = \\theta_0 + \\sum_{i=1}^mx^i\\theta_i$$\n",
    "\n",
    "Here:\n",
    "- $[\\theta_1, \\theta_2, ... , \\theta_n]$ are called **model weights** (generally) OR **coefficients** (in linear regression)\n",
    "- $\\theta_0$ is called **bias** (generally) OR **intercept** (in linear regression)\n",
    "\n",
    "We consider a set of training data $(x_1 , y_1 ) \\dots (x_m , y_m )$ from which to estimate the parameters $\\theta$. Here m is the no of training examples we have. "
   ]
  },
  {
   "cell_type": "markdown",
   "metadata": {},
   "source": [
    "## Cost/Loss Function "
   ]
  },
  {
   "cell_type": "markdown",
   "metadata": {
    "heading_collapsed": true
   },
   "source": [
    "### Residual sum of squares or Oridnary Least Squares or MSE or L2 loss:\n",
    "\n",
    "$$\\large J_\\theta = \\frac{1}{2m} \\sum_{i=1}^me_i^2 = \\sum_{i=1}^m(y_t - \\theta_0 - \\theta_1X_1 - \\theta_2X_2)^2$$\n",
    "\n",
    "- The coefficient estimates for MSE rely on the independence of the features. \n",
    "- When features are correlated and the columns of the design matrix \\(X\\) have an approximate linear dependence, the design matrix becomes close to singular and as a result, the MSE estimate becomes highly sensitive to random errors in the observed target, producing a large variance. \n",
    "- This situation of multicollinearity can arise, for example, when data are collected without an experimental design.\n",
    "\n",
    "<br>\n",
    "* Sensitive to outliers, use when outliers are minimum.\n",
    "* Great to penalize/learn outliers.  Outliers get exponential weightage.\n",
    "\n",
    "**Advantage:**\n",
    "- The MSE is great for ensuring that our trained model has no outlier predictions with huge errors, since the MSE puts larger weight on theses errors due to the squaring part of the function.\n",
    "\n",
    "**Disadvantage:**\n",
    "- If our model makes a single very bad prediction, the squaring part of the function magnifies the error. Yet in many practical cases we don’t care much about these outliers and are aiming for more of a well-rounded model that performs good enough on the majority."
   ]
  },
  {
   "cell_type": "markdown",
   "metadata": {},
   "source": [
    "### Absolute or Laplace or MAE  or L1 loss:\n",
    "$$\\large J_\\theta = \\frac{1}{m} \\sum_{i=1}^m|e_i| = \\sum_{i=1}^m|y_t - \\theta_0 - \\theta_1X_1 - \\theta_2X_2|$$\n",
    "\n",
    "**Advantage:**\n",
    "- Will ignore outliers in your data. Because it is takign absolute error, and so it will weight all data points on the same linear scale. \n",
    "- So, Outliers are handled better than MSE, as it is not penalising the model by squaring the error value. \n",
    "\n",
    "**Disadvantage:**\n",
    "- Computaionally Expensive\n",
    "\n",
    "**MAE vs MSE:**\n",
    "In general, MSE loss is preferred in most cases. But when there are outliers in the dataset, MSE loss will not perform well, because the error rate is magnified. One should consider using MAE or simply remove the outliers from the dataset before training."
   ]
  },
  {
   "cell_type": "code",
   "execution_count": 2,
   "metadata": {
    "ExecuteTime": {
     "end_time": "2022-04-16T08:42:47.823810Z",
     "start_time": "2022-04-16T08:42:47.797915Z"
    }
   },
   "outputs": [],
   "source": [
    "import numpy as np\n",
    "\n",
    "y = np.array([1,200,3,4,5], dtype=int)\n",
    "y_p = np.array([1,25,3,4,5], dtype=int)\n",
    "\n",
    "def MSE(y,y_p):\n",
    "    return sum(np.square((y-y_p)))/len(y)\n",
    "\n",
    "def MAE(y,y_p):\n",
    "    return sum(np.abs((y-y_p)))/len(y)"
   ]
  },
  {
   "cell_type": "code",
   "execution_count": 3,
   "metadata": {
    "ExecuteTime": {
     "end_time": "2022-04-16T08:42:52.924793Z",
     "start_time": "2022-04-16T08:42:52.886501Z"
    }
   },
   "outputs": [
    {
     "name": "stdout",
     "output_type": "stream",
     "text": [
      "6125.0\n"
     ]
    }
   ],
   "source": [
    "print(MSE(y,y_p)) #Allows outlier errors to contribute more to the overall error"
   ]
  },
  {
   "cell_type": "code",
   "execution_count": 4,
   "metadata": {
    "ExecuteTime": {
     "end_time": "2022-04-16T08:43:24.055456Z",
     "start_time": "2022-04-16T08:43:24.020547Z"
    }
   },
   "outputs": [
    {
     "name": "stdout",
     "output_type": "stream",
     "text": [
      "35.0\n"
     ]
    }
   ],
   "source": [
    "print(MAE(y,y_p)) #Not sensitive to outliers, Treats all points equally"
   ]
  },
  {
   "attachments": {
    "Quadratic.webp": {
     "image/webp": "[encoded data removed]"
    }
   },
   "cell_type": "markdown",
   "metadata": {},
   "source": [
    "### Huber loss:\n",
    "\n",
    "It is between L1 and L2 loss.\n",
    "\n",
    "![Quadratic.webp](attachment:Quadratic.webp)"
   ]
  },
  {
   "cell_type": "code",
   "execution_count": 5,
   "metadata": {
    "ExecuteTime": {
     "end_time": "2022-04-16T08:46:09.943275Z",
     "start_time": "2022-04-16T08:46:09.926769Z"
    }
   },
   "outputs": [],
   "source": [
    "# Huber loss function\n",
    "def huber_loss(y, y_pred, delta=1.0):\n",
    "    huber_mse = 0.5*(y-y_pred)**2\n",
    "    huber_mae = delta * (np.abs(y - y_pred) - 0.5 * delta)\n",
    "    return sum(np.where(np.abs(y - y_pred) <= delta, huber_mse, huber_mae))/len(y)"
   ]
  },
  {
   "cell_type": "code",
   "execution_count": 6,
   "metadata": {
    "ExecuteTime": {
     "end_time": "2022-04-16T08:46:14.602997Z",
     "start_time": "2022-04-16T08:46:14.570492Z"
    }
   },
   "outputs": [
    {
     "name": "stdout",
     "output_type": "stream",
     "text": [
      "34.9\n"
     ]
    }
   ],
   "source": [
    "print(huber_loss(y, y_p))"
   ]
  },
  {
   "cell_type": "markdown",
   "metadata": {
    "heading_collapsed": true
   },
   "source": [
    "## Assumptions of Linear Regression"
   ]
  },
  {
   "cell_type": "markdown",
   "metadata": {
    "hidden": true
   },
   "source": [
    "The regression model relies on several assumptions:\n",
    "\n",
    " - The independent variable is not random.\n",
    " - Homoscedasticity: The variance of the error term is constant across observations. This is important for evaluating the goodness of the fit.\n",
    " - The errors are not autocorrelated. The Durbin-Watson statistic detects this; if it is close to 2, there is no autocorrelation.\n",
    " - The errors are normally distributed. If this does not hold, we cannot use some of the statistics, such as the F-test.\n",
    "\n",
    "If we confirm that the necessary assumptions of the regression model are satisfied, we can safely use the statistics reported to analyze the fit. "
   ]
  },
  {
   "cell_type": "markdown",
   "metadata": {},
   "source": [
    "# Linear Models with Regularisation"
   ]
  },
  {
   "cell_type": "markdown",
   "metadata": {},
   "source": [
    "- Regularization is the process of introducing additional information to minimize overfitting. \n",
    "- Regularization discourages unnecessary complexity.\n",
    "- In regularisation, we try to shrink the regression coefficients by imposing a penalty on their size. "
   ]
  },
  {
   "cell_type": "markdown",
   "metadata": {},
   "source": [
    "#### One Way to Regularize: Add a constraint to the loss function\n",
    "\n",
    "Regularized Loss = Loss Function + Constraint\n",
    "\n",
    "Here constraint = $\\large \\sum_{j=1}^n |\\theta_j|^p$ ."
   ]
  },
  {
   "cell_type": "markdown",
   "metadata": {},
   "source": [
    "- Depending upon the value of the parameter $p$ in the constraint, we can have different types of regularisation like L1 (p=1) and L2 (p2). \n",
    "\n",
    "- This is more generally known as Lp regularizer.\n",
    "\n",
    "- For making visualization easy, let us plot them in 2D space. For that we suppose that we just have two parameters.\n",
    "\n",
    "<center><img src=\"images/lp_reg.png\" width=\"80%\"/></center>"
   ]
  },
  {
   "cell_type": "markdown",
   "metadata": {
    "heading_collapsed": true
   },
   "source": [
    "## Lasso (Least Absolute Shrinkage Selector Operator) Regression"
   ]
  },
  {
   "cell_type": "code",
   "execution_count": null,
   "metadata": {
    "ExecuteTime": {
     "end_time": "2022-04-10T07:04:00.590285Z",
     "start_time": "2022-04-10T07:03:58.488836Z"
    },
    "hidden": true
   },
   "outputs": [],
   "source": [
    "from sklearn.linear_model import Lasso"
   ]
  },
  {
   "cell_type": "markdown",
   "metadata": {
    "hidden": true
   },
   "source": [
    "#### Linear Regression Loss Function + L1 Regularization\n",
    "\n",
    "Here we see that the loss function is modified with an extra term called the penalty term. \n",
    "\n",
    "$$\\large J_\\theta = \\frac{1}{2m} \\sum_{i=1}^me_i^2 = \\frac{1}{2m} \\sum_{i=1}^m(y_t - \\theta_0 - \\theta_1X_1 - \\theta_2X_2)^2 + \\lambda \\sum_{j=1}^n|\\theta_j|$$\n",
    "\n",
    "$$ L1 = \\large \\lambda \\sum_{j=1}^n|\\theta_j| $$\n",
    "\n",
    "Considering two independent variables, the penalty can be given as = $|\\theta_1| + |\\theta_2|$ .\n",
    "\n",
    "Notice that the intercept $\\theta_0$ has been left out of the penalty term. Penalization of the intercept would make the  procedure depend on the origin chosen for y.\n",
    "\n",
    "- Here $\\lambda$ is a **hyperparameter** and should be _set at the time of model training_. Higher the values of lambda, bigger is the penalty.\n",
    "- L1 shrinks the weights using the absolute values of the weight coefficients (i.e., the weight vector).\n",
    "- Penalize the model by the absolute weight coefficients."
   ]
  },
  {
   "cell_type": "markdown",
   "metadata": {
    "hidden": true
   },
   "source": [
    "<center><img src=\"images/lasso.png\" width=\"50%\"/></center>"
   ]
  },
  {
   "cell_type": "markdown",
   "metadata": {
    "hidden": true
   },
   "source": [
    "#### The effect of L1 loss\n",
    " - Penalize large coefficients - Large coefficients will increase the size of the total error functions.\n",
    " - L1 regularization induces sparsity. Sparsity means as many values will be zero as possible.\n",
    "\n",
    "#### Why Lasso?\n",
    " - lasso selects only some feature while reduces the coefficients of others to zero. This property is known as **feature selection** and which is absent in case of ridge.\n",
    " - It is generally used when we have more number of features, because it automatically does feature selection."
   ]
  },
  {
   "cell_type": "markdown",
   "metadata": {
    "heading_collapsed": true
   },
   "source": [
    "## Ridge Regression"
   ]
  },
  {
   "cell_type": "code",
   "execution_count": null,
   "metadata": {
    "ExecuteTime": {
     "end_time": "2022-04-10T07:05:08.574084Z",
     "start_time": "2022-04-10T07:05:08.567332Z"
    },
    "hidden": true
   },
   "outputs": [],
   "source": [
    "from sklearn.linear_model import Ridge"
   ]
  },
  {
   "cell_type": "markdown",
   "metadata": {
    "hidden": true
   },
   "source": [
    "#### Linear Regression Loss Function + L2 Regularization"
   ]
  },
  {
   "cell_type": "markdown",
   "metadata": {
    "hidden": true
   },
   "source": [
    "$$\\large J_\\theta = \\frac{1}{2m} \\sum_{i=1}^me_i^2 = \\sum_{i=1}^m(y_t - \\theta_0 - \\theta_1X_1 - \\theta_2X_2)^2 + \\lambda \\sum_{j=1}^n\\theta_j^2$$\n",
    "\n",
    "$$ \\large L2 = \\lambda \\sum_{j=1}^n\\theta_j^2$$"
   ]
  },
  {
   "cell_type": "markdown",
   "metadata": {
    "hidden": true
   },
   "source": [
    "The ridge coefficients minimize a penalized residual sum of squares\n",
    "\n",
    "- Here again $\\lambda$ is a hyperparameter\n",
    "- L2 shrinks the weights by computing the Euclidean norm of the weight coefficients (the weight vector )\n",
    "- it is mostly used to prevent multicollinearity."
   ]
  },
  {
   "cell_type": "markdown",
   "metadata": {
    "hidden": true
   },
   "source": [
    "<center><img src=\"images/ridge.png\" width=\"50%\"/></center> "
   ]
  },
  {
   "cell_type": "markdown",
   "metadata": {
    "hidden": true
   },
   "source": [
    "For both Lasso and Ridge: λ -> Regularization parameter\n",
    "-----\n",
    "\n",
    "λ parameter controls the regularization strength, aka the size of the shaded area.\n",
    "\n",
    "The larger the value of the stronger the regularization of the model. "
   ]
  },
  {
   "cell_type": "markdown",
   "metadata": {
    "heading_collapsed": true
   },
   "source": [
    "## Elastic Net\n",
    "\n",
    "Elastic net is basically a combination of both L1 and L2 regularization. So if you know elastic net, you can implement both Ridge and Lasso by tuning the parameters. So it uses both L1 and L2 penality term"
   ]
  },
  {
   "cell_type": "markdown",
   "metadata": {
    "hidden": true
   },
   "source": [
    "<center><img src=\"images/elastic.png\" width=\"75%\"/></center>"
   ]
  }
 ],
 "metadata": {
  "kernelspec": {
   "display_name": "Python 3 (ipykernel)",
   "language": "python",
   "name": "python3"
  },
  "language_info": {
   "codemirror_mode": {
    "name": "ipython",
    "version": 3
   },
   "file_extension": ".py",
   "mimetype": "text/x-python",
   "name": "python",
   "nbconvert_exporter": "python",
   "pygments_lexer": "ipython3",
   "version": "3.7.11"
  }
 },
 "nbformat": 4,
 "nbformat_minor": 2
}
