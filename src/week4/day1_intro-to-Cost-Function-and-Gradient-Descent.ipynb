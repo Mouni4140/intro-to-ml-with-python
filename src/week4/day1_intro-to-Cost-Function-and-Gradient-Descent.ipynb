{
 "cells": [
  {
   "cell_type": "markdown",
   "metadata": {},
   "source": [
    "# Cost Function and Gradient Descent"
   ]
  },
  {
   "cell_type": "markdown",
   "metadata": {},
   "source": [
    "## Introduction"
   ]
  },
  {
   "cell_type": "markdown",
   "metadata": {},
   "source": [
    "### Consider the following notations:\n",
    "\n",
    "- $m$ = no. of training examples\n",
    "- $n$ = no. of features corresponding to each training example\n",
    "- $x^i$ = input(feature) of the $i^{th}$ training example\n",
    "- $x^i_j$ = value of the feature $j$ in the $i^{th}$ training example\n",
    "\n",
    "We will stick to this notation (and others as we discuss further in this notebook) throughout all our future discussion"
   ]
  },
  {
   "cell_type": "markdown",
   "metadata": {},
   "source": [
    "Now, for understanding cost function and its role, consider a linear regression model with an input vector $x^i = (X_1 , X_2)$, and a real-valued output $y$. The linear regression model has the form:\n",
    "\n",
    "$$y_\\text{pred} = f_\\theta(X) = \\theta_0 + \\theta_1X_1 + \\theta_2X_2$$\n",
    "\n",
    "Here:\n",
    "- $f_\\theta(X)$ is called the **hypothesis function**\n",
    "- $[\\theta_1, \\theta_2]$ are called **model weights/parameters** (generally) OR **coefficients** (in linear regression)\n",
    "- $\\theta_0$ is called **bias** (generally) OR **intercept** (in linear regression)\n",
    "\n",
    "We consider a set of training data $(x_1 , y_1 ) \\dots (x_m , y_m )$ from which to estimate the parameters $\\theta$. Here m is the no of training examples we have. \n",
    "\n",
    "The Linear model can be plotted as:"
   ]
  },
  {
   "cell_type": "markdown",
   "metadata": {},
   "source": [
    "<center><img src=\"images/lr.png\" width=\"600\"/></center>"
   ]
  },
  {
   "cell_type": "markdown",
   "metadata": {},
   "source": [
    "## Cost function"
   ]
  },
  {
   "cell_type": "markdown",
   "metadata": {},
   "source": [
    "A cost function is a measure of how wrong the model is in terms of its ability to estimate the relationship between X (independent variables) and y (dependent variable).\n",
    "\n",
    "The function that defines the difference between your actual value ($y_t$) and the predicted value ($y_p$). \n",
    "\n",
    "$$\n",
    "y_t = y_p + e\n",
    "$$\n",
    "\n",
    "In case of Linear regression with $y_p = f_\\theta(X) = \\theta_0 + \\theta_1X_1 + \\theta_2X_2$\n",
    "\n",
    "The error can be represented as:\n",
    "\n",
    "$$\n",
    "error = y_t - y_p = y_t - (\\theta_0 + \\theta_1X_1 + \\theta_2X_2)\n",
    "$$\n",
    "\n",
    "A more ML-ly term for error is **residual** and so going forward we will use that. "
   ]
  },
  {
   "cell_type": "markdown",
   "metadata": {},
   "source": [
    "Graphically the errors can be represented as: \n",
    "\n",
    "<center><img src=\"images/error.png\" width=\"700\"/></center>"
   ]
  },
  {
   "cell_type": "markdown",
   "metadata": {},
   "source": [
    "We have different kinds of error like- total error, mean error, mean squared error etc.\n",
    "\n",
    "**Total error:** Summation of the absolute difference between predicted and actual value for all the data points. Mathematically, this is\n",
    "\n",
    "<img src=\"images/total_err.png\">\n",
    "\n",
    "**Mean error:** Total error divided by number of data points. Mathematically, this is\n",
    "\n",
    "<img src=\"images/mean_err.png\">\n",
    "\n",
    "**Mean squared error:** Summation of the square of absolute difference divided by number of data points. Mathematically, this is\n",
    "\n",
    "<img src=\"images/mean_sq_err.png\">"
   ]
  },
  {
   "cell_type": "markdown",
   "metadata": {},
   "source": [
    "#### The cost function is a function of the errors/residuals , and in turn the function of the parameters. The same can be represented as:\n",
    "\n",
    "cost function = $ J_\\theta = f(\\theta_i) $"
   ]
  },
  {
   "cell_type": "markdown",
   "metadata": {},
   "source": [
    "Let use consider the MSE as our cost/loss funtion here. The same can be represented as:\n",
    "\n",
    "#### Mean Square Errors:\n",
    "$$J_\\theta =  \\frac{1}{2m}\\sum_{i=1}^me_i^2 = \\frac{1}{2m}\\sum_{i=1}^m(y_t - \\theta_0 - \\theta_1X_1 - \\theta_2X_2)^2$$"
   ]
  },
  {
   "cell_type": "markdown",
   "metadata": {},
   "source": [
    "The goal of any model training in machine learning is to **minimise the associated cost function**: $ minimise \\ J_\\theta $"
   ]
  },
  {
   "cell_type": "markdown",
   "metadata": {},
   "source": [
    "## Gradient descent"
   ]
  },
  {
   "cell_type": "markdown",
   "metadata": {},
   "source": [
    "##### Before jumping into \"Gradient Descent\", first lets understand what is \"Gradient\" : \n",
    "\n",
    " - A gradient is an extension of partial derivatives. Gradients take the partial derivatives of each variable in a function and then places each partial derivative in a vector. The gradient value is zero at a local maximum or local minimum (because there is no single direction of increase) -  also referred to as **convergence**.\n",
    " \n",
    " \n",
    " - In mathematics, the **gradient is a multi-variable generalization of the derivative**. While a derivative can be defined on functions of a single variable, for functions of several variables, the gradient takes its place. The gradient is a vector-valued function, as opposed to a derivative, which is scalar-valued.\n",
    " \n",
    " \n",
    " - **Gradient** of a function (at any given point) gives the direction of the **steepest ascent**, i.e. the direction to move if you want to increase the function. "
   ]
  },
  {
   "cell_type": "markdown",
   "metadata": {},
   "source": [
    "### Gradient Descent is an **optimisation algorithm** that attempts to find the **local or global minima** of a **convex** function by using its **partial derivatives**. In ML it is used to __optimise the cost function__ (reduce our total error). "
   ]
  },
  {
   "cell_type": "markdown",
   "metadata": {},
   "source": [
    "### Before proceeding, let us first understand what is a convex function:\n",
    "\n",
    "A convex function in its simplest form have the useful property that local minima is the global minima.\n",
    "<center><img src=\"images/convexity.png\" width=\"500\"/></center>\n",
    "\n",
    "Geometrically, a function is convex if a line segment drawn from any point (x, f(x)) to another point (y, f(y)) -- called the chord from x to y -- lies on or above the graph of f, as in the picture below:\n",
    "\n",
    "<center><img src=\"images/convex_def.png\" width=\"500\"/></center>\n",
    "\n",
    "A function is **concave** if -f is convex -- i.e. if the chord from x to y lies on or below the graph of f.\n",
    "<center><img src=\"images/concave.png\" width=\"500\"/></center>\n",
    "\n",
    "A **non-convex** function \"curves up and down\" -- it is neither convex nor concave.  A familiar example is the sine function:\n",
    "<center><img src=\"images/non_convex_def.png\" width=\"500\"/></center>\n"
   ]
  },
  {
   "cell_type": "markdown",
   "metadata": {},
   "source": [
    "The idea behind \"Gradient Descent\" is very simple — to reach the global optimum of a convex function from any point, we need to move in the direction **opposite** to that of greatest increase of the function. As the function is convex, this strategy will always take us to the global optimum. \n",
    "\n",
    "<center><img src=\"images/gd1.png\" width=\"400\"/></center>"
   ]
  },
  {
   "cell_type": "markdown",
   "metadata": {},
   "source": [
    "Let us now understand this in terms of the cost function $J_\\theta$\n",
    "\n",
    "Now, we know that the _direction_ of **greatest increase of any function** is determined by taking the partial derivatives of the function with respect to every variable (aka the gradient). For example, let us say we wish to optimise a convex function $J(\\theta)$, where $\\theta = (\\theta_1, \\theta_2, \\ldots, \\theta_n)^T$. Let us say, we start at a point $s \\in \\mathbb{R}^d$. Then, the direction of greatest increase of $J$ at $s$ is given by \n",
    "\n",
    "$$\n",
    "\\nabla J(s) = \\left(\\frac{\\partial J(s)}{\\partial \\theta_1}, \\frac{\\partial J(s)}{\\partial \\theta_2}, \\ldots ,\\frac{\\partial J(s)}{\\partial \\theta_n} \\right)^T.\n",
    "$$"
   ]
  },
  {
   "cell_type": "markdown",
   "metadata": {},
   "source": [
    "Since we want to **decrease the function**, we take the **negative gradient**. The length of the gradient function is an indication of how step the slope is. \n",
    " \n",
    "With this derivative, we design an update rule, which asks us to move in the direction opposite to the direction of greatest increase. By repeatedly applying this rule, we hope to reach the global minimum. We hence move to $t$, which is given by\n",
    "\n",
    "$$\n",
    "t = s - \\eta \\nabla J(s),\n",
    "$$\n",
    "where $\\eta$ is a parameter called the *learning rate*."
   ]
  },
  {
   "cell_type": "code",
   "execution_count": null,
   "metadata": {
    "ExecuteTime": {
     "end_time": "2019-11-08T16:45:33.568438Z",
     "start_time": "2019-11-08T16:45:33.185828Z"
    }
   },
   "outputs": [],
   "source": [
    "from IPython.display import YouTubeVideo\n",
    "\n",
    "#https://www.youtube.com/watch?v=vWFjqgb-ylQ\n",
    "YouTubeVideo(\"vWFjqgb-ylQ\", width=1000, height=500)"
   ]
  },
  {
   "cell_type": "markdown",
   "metadata": {},
   "source": [
    "#### Gradient with level curves\n",
    "![Gradient descent on a 2D convex function](images/gd.png)"
   ]
  },
  {
   "cell_type": "markdown",
   "metadata": {},
   "source": [
    "## Practical Example"
   ]
  },
  {
   "cell_type": "markdown",
   "metadata": {},
   "source": [
    "Consider a Liner regression problem, to find the equation of the straight line $f_\\theta(x) = \\theta_0 + \\theta_1X_1 + \\theta_2X_2$ that best fits our data points. \n",
    "\n",
    "First lets create dummy data around this model:\n",
    "- m = 50\n",
    "- n = 2"
   ]
  },
  {
   "cell_type": "code",
   "execution_count": null,
   "metadata": {
    "ExecuteTime": {
     "end_time": "2019-11-10T10:07:34.043423Z",
     "start_time": "2019-11-10T10:07:34.040337Z"
    }
   },
   "outputs": [],
   "source": [
    "import numpy as np\n",
    "import matplotlib.pyplot as plt"
   ]
  },
  {
   "cell_type": "code",
   "execution_count": null,
   "metadata": {
    "ExecuteTime": {
     "end_time": "2019-11-10T10:07:34.366246Z",
     "start_time": "2019-11-10T10:07:34.360082Z"
    }
   },
   "outputs": [],
   "source": [
    "feature_1=np.random.randint(low=1,high=20,size=(50,))\n",
    "feature_2=np.random.randint(low=1,high=20,size=(50,)) \n",
    "\n",
    "feature_1.shape, feature_2.shape"
   ]
  },
  {
   "cell_type": "code",
   "execution_count": null,
   "metadata": {
    "ExecuteTime": {
     "end_time": "2019-11-10T10:07:34.681926Z",
     "start_time": "2019-11-10T10:07:34.677338Z"
    }
   },
   "outputs": [],
   "source": [
    "type(feature_1)"
   ]
  },
  {
   "cell_type": "code",
   "execution_count": null,
   "metadata": {
    "ExecuteTime": {
     "end_time": "2019-11-10T10:07:35.077492Z",
     "start_time": "2019-11-10T10:07:35.064080Z"
    }
   },
   "outputs": [],
   "source": [
    "x1 = np.array(feature_1).reshape(50,1)\n",
    "x0 = np.ones_like(feature_1).reshape(50,1)\n",
    "x2 = np.array(feature_2).reshape(50,1)\n",
    "\n",
    "x = np.hstack((x0,x1,x2))\n",
    "x.shape, x[:3,:]"
   ]
  },
  {
   "cell_type": "code",
   "execution_count": null,
   "metadata": {
    "ExecuteTime": {
     "end_time": "2019-11-10T10:07:35.459162Z",
     "start_time": "2019-11-10T10:07:35.452051Z"
    }
   },
   "outputs": [],
   "source": [
    "y_true=3+2*x[:,1]-4*x[:,2]+np.random.random((50,))\n",
    "print(y_true.shape)\n",
    "y_true[:3]"
   ]
  },
  {
   "cell_type": "code",
   "execution_count": null,
   "metadata": {
    "ExecuteTime": {
     "end_time": "2019-11-10T10:07:36.071289Z",
     "start_time": "2019-11-10T10:07:35.861570Z"
    }
   },
   "outputs": [],
   "source": [
    "plt.scatter(x[:,1], y_true, marker='o', c='b')\n",
    "plt.show()"
   ]
  },
  {
   "cell_type": "code",
   "execution_count": null,
   "metadata": {
    "ExecuteTime": {
     "end_time": "2019-11-10T10:07:36.430681Z",
     "start_time": "2019-11-10T10:07:36.260937Z"
    }
   },
   "outputs": [],
   "source": [
    "plt.scatter(x[:,2], y_true, marker='o', c='b')\n",
    "plt.show()"
   ]
  },
  {
   "cell_type": "code",
   "execution_count": null,
   "metadata": {
    "ExecuteTime": {
     "end_time": "2019-11-10T10:07:36.870494Z",
     "start_time": "2019-11-10T10:07:36.866337Z"
    }
   },
   "outputs": [],
   "source": [
    "m = len(x)\n",
    "m"
   ]
  },
  {
   "cell_type": "markdown",
   "metadata": {},
   "source": [
    "The function that we are trying to minimize in this case is:\n",
    "\n",
    "$J(\\theta_0,\\theta_1, \\theta_2) = {1 \\over 2m} \\sum\\limits_{i=1}^m (f_\\theta(x^i)-y^i)^2$\n",
    "\n",
    "In this case, our gradient will be defined in three dimensions as:\n",
    "\n",
    "$\\frac{\\partial}{\\partial \\theta_0} J(\\theta_0,\\theta_1, \\theta_2) = \\frac{1}{m}  \\sum\\limits_{i=1}^m (f_\\theta(x^i)-y^i)$\n",
    "\n",
    "$\\frac{\\partial}{\\partial \\theta_1} J(\\theta_0,\\theta_1, \\theta_2) = \\frac{1}{m}  \\sum\\limits_{i=1}^m ((f_\\theta(x^i)-y^i) \\cdot x^i_1)$\n",
    "\n",
    "$\\frac{\\partial}{\\partial \\theta_2} J(\\theta_0,\\theta_1, \\theta_2) = \\frac{1}{m}  \\sum\\limits_{i=1}^m ((f_\\theta(x^i)-y^i) \\cdot x^i_2)$\n",
    "\n",
    "\n",
    "The weight matrix will be updated following the equation:\n",
    "\n",
    "$w_{t+1} = w_t - \\eta \\nabla J(s)$\n",
    "\n",
    "Below, we set up our function for f, J and the gradient:"
   ]
  },
  {
   "cell_type": "code",
   "execution_count": null,
   "metadata": {
    "ExecuteTime": {
     "end_time": "2019-11-10T10:07:38.262497Z",
     "start_time": "2019-11-10T10:07:38.259053Z"
    }
   },
   "outputs": [],
   "source": [
    "f = lambda theta_0,theta_1, theta_2, x: theta_0 + theta_1*x[1] + theta_2*x[2]"
   ]
  },
  {
   "cell_type": "code",
   "execution_count": null,
   "metadata": {
    "ExecuteTime": {
     "end_time": "2019-11-10T10:07:39.557817Z",
     "start_time": "2019-11-10T10:07:39.553424Z"
    }
   },
   "outputs": [],
   "source": [
    "def J(x,y,m,theta_0,theta_1, theta_2):\n",
    "    \n",
    "    returnValue = 0\n",
    "    \n",
    "    for i in range(m):        \n",
    "        returnValue += (f(theta_0,theta_1, theta_2, x[i])-y[i])**2\n",
    "        \n",
    "    returnValue = returnValue/(2*m)\n",
    "    \n",
    "    return returnValue"
   ]
  },
  {
   "cell_type": "code",
   "execution_count": null,
   "metadata": {
    "ExecuteTime": {
     "end_time": "2019-11-10T10:07:57.787875Z",
     "start_time": "2019-11-10T10:07:57.781610Z"
    }
   },
   "outputs": [],
   "source": [
    "def grad_J(x,y,m,theta_0,theta_1, theta_2):\n",
    "    \n",
    "    returnValue = np.array([0.,0.,0.]) #initalise all the parameter values\n",
    "    \n",
    "    for i in range(m):\n",
    "        returnValue[0] += (f(theta_0,theta_1, theta_2, x[i])-y[i])\n",
    "        returnValue[1] += (f(theta_0,theta_1, theta_2, x[i])-y[i])*x[:,1][i]\n",
    "        returnValue[2] += (f(theta_0,theta_1, theta_2, x[i])-y[i])*x[:,2][i]\n",
    "        \n",
    "    returnValue = returnValue/m\n",
    "    \n",
    "    return returnValue"
   ]
  },
  {
   "cell_type": "markdown",
   "metadata": {},
   "source": [
    "And we run our gradient descent algorithm (without adaptive step sizes in this example):"
   ]
  },
  {
   "cell_type": "code",
   "execution_count": null,
   "metadata": {
    "ExecuteTime": {
     "end_time": "2019-11-10T10:09:05.361141Z",
     "start_time": "2019-11-10T10:09:05.356930Z"
    }
   },
   "outputs": [],
   "source": [
    "x.shape"
   ]
  },
  {
   "cell_type": "code",
   "execution_count": null,
   "metadata": {
    "ExecuteTime": {
     "end_time": "2019-11-10T10:09:05.683536Z",
     "start_time": "2019-11-10T10:09:05.678427Z"
    }
   },
   "outputs": [],
   "source": [
    "w=np.zeros(x.shape[1]) #weight matrix\n",
    "w.shape"
   ]
  },
  {
   "cell_type": "code",
   "execution_count": null,
   "metadata": {
    "ExecuteTime": {
     "end_time": "2019-11-10T10:09:09.245933Z",
     "start_time": "2019-11-10T10:09:06.226619Z"
    }
   },
   "outputs": [],
   "source": [
    "n_k = 0.001 # learning rate\n",
    "#s_k = float(\"inf\")\n",
    "s_k = np.array([float(\"inf\"),float(\"inf\"),float(\"inf\")])\n",
    "\n",
    "num_steps = 12000\n",
    "for i in range(num_steps):\n",
    "    s_k = -grad_J(x,y_true,m,w[0],w[1], w[2])\n",
    "\n",
    "    if i%500==0:\n",
    "        cost = J(x,y_true,m,w[0],w[1], w[2])\n",
    "        print(\"steps:{}, cost:{}, neg_gradient:{} weights:{} {} {}\".format(i, round(cost,3), s_k, round(w[0],3),\n",
    "                                                                           round(w[1],3), round(w[2],3)))\n",
    "        \n",
    "    w = w + n_k * s_k\n",
    "\n",
    "print(\"\\nLocal minimum occurs where:\")\n",
    "print(\"theta_0 =\", w[0])\n",
    "print(\"theta_1 =\", w[1])\n",
    "print(\"theta_2 =\", w[2])\n",
    "print(\"This took\",num_steps,\"steps to converge\")"
   ]
  },
  {
   "cell_type": "markdown",
   "metadata": {},
   "source": [
    "For comparison, let's see the actual values for $\\theta_0$, $\\theta_1$ and $\\theta_2$:"
   ]
  },
  {
   "cell_type": "code",
   "execution_count": null,
   "metadata": {
    "ExecuteTime": {
     "end_time": "2019-11-09T12:33:58.784079Z",
     "start_time": "2019-11-09T12:33:58.779027Z"
    }
   },
   "outputs": [],
   "source": [
    "print(\"Actual values for theta are:\")\n",
    "print(\"theta_0 =\", 3)\n",
    "print(\"theta_1 =\", 2)\n",
    "print(\"theta_2 =\", -4)"
   ]
  },
  {
   "cell_type": "markdown",
   "metadata": {},
   "source": [
    "So we see that our values are relatively close to the actual values (even though our method was pretty slow)."
   ]
  },
  {
   "cell_type": "markdown",
   "metadata": {},
   "source": [
    "Notice that in the method above we need to calculate the gradient over all the m training samples, in every step of our algorithm. With the dummy dataset, this is not a big deal since there are only 50 data points. But imagine that we had 10 million data points. If this were the case, it would certainly make the method above far less efficient.\n",
    "\n",
    "In machine learning, the algorithm above is often called <b>batch gradient descent</b> (each step of gradient descent uses all the training examples) to contrast it with <b>mini-batch gradient descent</b> (which we will not go into here) and <b>stochastic gradient descent</b>."
   ]
  },
  {
   "cell_type": "markdown",
   "metadata": {},
   "source": [
    "## Stochastic gradient descent"
   ]
  },
  {
   "cell_type": "markdown",
   "metadata": {},
   "source": [
    "As we said above, in batch gradient descent, we must look at every example in the entire training set on every step. This can be quite slow if the training set is sufficiently large. In <b>stochastic gradient descent</b>, we update our values after looking at <i>each</i> item in the training set, so that we can start making progress right away. Recall the linear regression example above. In that example, we calculated the gradient for each of the three theta values as follows:\n",
    "\n",
    "\n",
    "$\\frac{\\partial}{\\partial \\theta_0} J(\\theta_0,\\theta_1, \\theta_2) = \\frac{1}{m}  \\sum\\limits_{i=1}^m (f_\\theta(x^i)-y^i)$\n",
    "\n",
    "$\\frac{\\partial}{\\partial \\theta_1} J(\\theta_0,\\theta_1, \\theta_2) = \\frac{1}{m}  \\sum\\limits_{i=1}^m ((f_\\theta(x^i)-y^i) \\cdot x^i_1)$\n",
    "\n",
    "$\\frac{\\partial}{\\partial \\theta_2} J(\\theta_0,\\theta_1, \\theta_2) = \\frac{1}{m}  \\sum\\limits_{i=1}^m ((f_\\theta(x^i)-y^i) \\cdot x^i_2)$\n",
    "\n",
    "Where $f_\\theta(x) = \\theta_0 + \\theta_1X_1 + \\theta_2X_2$\n",
    "\n",
    "Then we followed this algorithm (where $\\alpha$ was a non-adapting stepsize):\n",
    "\n",
    "&nbsp;&nbsp;&nbsp; 1: &nbsp; Choose initial guess $w_0$ <br>\n",
    "&nbsp;&nbsp;&nbsp;    2: &nbsp; <b>for</b> k = 0, 1, 2, ... <b>do</b> <br>\n",
    "&nbsp;&nbsp;&nbsp;    3:   &nbsp;&nbsp;&nbsp;&nbsp;&nbsp; $s_k$ = -$\\nabla J(x_k)$ <br>\n",
    "&nbsp;&nbsp;&nbsp;    4:   &nbsp;&nbsp;&nbsp;&nbsp;&nbsp; $w_{k+1} = w_k + \\alpha s_k$ <br>\n",
    "&nbsp;&nbsp;&nbsp;    5: &nbsp;  <b>end for</b>\n",
    "\n",
    "When the sample data had 50 data points as in the example above, calculating the gradient was not very costly. But for very large data sets, this would not be the case. So instead, we consider a stochastic gradient descent algorithm for simple linear regression such as the following, where m is the size of the data set:\n",
    "\n",
    "&nbsp;&nbsp;&nbsp; 1: &nbsp; Randomly shuffle the data set <br>\n",
    "&nbsp;&nbsp;&nbsp;    2: &nbsp; <b>for</b> k = 0, 1, 2, ... <b>do</b> <br>\n",
    "&nbsp;&nbsp;&nbsp;    3: &nbsp;&nbsp;&nbsp;&nbsp;&nbsp; <b>for</b> i = 1 to m <b>do</b> <br>\n",
    "&nbsp;&nbsp;&nbsp;    4:   &nbsp;&nbsp;&nbsp;&nbsp;&nbsp;&nbsp;&nbsp;&nbsp;&nbsp;&nbsp; $\\begin{bmatrix}\n",
    " \\theta_{1} \\\\ \n",
    " \\theta_2 \\\\ \n",
    " \\theta_3 \\\\ \n",
    " \\end{bmatrix}=\\begin{bmatrix}\n",
    " \\theta_1 \\\\ \n",
    " \\theta_2 \\\\\n",
    " \\theta_3 \\\\ \n",
    " \\end{bmatrix}-\\alpha\\begin{bmatrix}\n",
    " 2(f_\\theta(x^i)-y^i) \\\\ \n",
    " 2x^i_j(f_\\theta(x^i)-y^i) \\\\ \n",
    " 2x^i_j(f_\\theta(x^i)-y^i) \\\\ \n",
    " \\end{bmatrix}$ <br>\n",
    "&nbsp;&nbsp;&nbsp;    5: &nbsp;&nbsp;&nbsp;&nbsp;&nbsp; <b>end for</b> <br> \n",
    "&nbsp;&nbsp;&nbsp;    6: &nbsp;  <b>end for</b>\n",
    "\n",
    "The update rule for weights goes as:\n",
    "$w_{t+1} = w_{t} - \\eta (y_{i} - \\hat{y}) x_{i}$\n",
    "\n",
    "Typically, with stochastic gradient descent, you will run through the entire data set 1 to 10 times (see value for k in line 2 of the pseudocode above), depending on how fast the data is converging and how large the data set is.\n",
    "\n",
    "With batch gradient descent, we must go through the entire data set before we make any progress. With this algorithm though, we can make progress right away and continue to make progress as we go through the data set. Therefore, stochastic gradient descent is often preferred when dealing with large data sets.\n",
    "\n",
    "Unlike gradient descent, stochastic gradient descent will tend to oscillate <i>near</i> a minimum value rather than continuously getting closer. It may never actually converge to the minimum though. One way around this is to slowly decrease the step size $\\alpha$ as the algorithm runs. However, this is less common than using a fixed $\\alpha$.\n",
    "\n",
    "Let's look at above example again, but this time with stochastic gradient descent for linear regression."
   ]
  },
  {
   "cell_type": "code",
   "execution_count": null,
   "metadata": {
    "ExecuteTime": {
     "end_time": "2019-11-10T09:12:02.836523Z",
     "start_time": "2019-11-10T09:12:02.791816Z"
    }
   },
   "outputs": [],
   "source": [
    "feature_1=np.random.randint(low=1,high=20,size=(50,))\n",
    "feature_2=np.random.randint(low=1,high=20,size=(50,)) \n",
    "\n",
    "x1 = np.array(feature_1).reshape(50,1)\n",
    "x0 = np.ones_like(feature_1).reshape(50,1)\n",
    "x2 = np.array(feature_2).reshape(50,1)\n",
    "\n",
    "x = np.hstack((x0,x1,x2))\n",
    "\n",
    "y =3+2*x[:,1]-4*x[:,2]+np.random.random((50,))\n",
    "\n",
    "m = len(y)"
   ]
  },
  {
   "cell_type": "markdown",
   "metadata": {},
   "source": [
    "Now we'll setup our h function and our cost function, which we will use to check how the value is improving."
   ]
  },
  {
   "cell_type": "code",
   "execution_count": null,
   "metadata": {
    "ExecuteTime": {
     "end_time": "2019-11-08T17:28:19.093928Z",
     "start_time": "2019-11-08T17:28:19.089713Z"
    }
   },
   "outputs": [],
   "source": [
    "f = lambda theta_0,theta_1, theta_2, x: theta_0 + theta_1*x[1] + theta_2*x[2]\n",
    "cost = lambda theta_0,theta_1, theta_2, x_i, y_i: 0.5*(f(theta_0,theta_1,theta_2,x_i)-y_i)**2"
   ]
  },
  {
   "cell_type": "markdown",
   "metadata": {},
   "source": [
    "Now we'll run our stochastic gradient descent algorithm. To see it's progress, we'll take a cost measurement at every step. We will run through the entire list 1000 times here:"
   ]
  },
  {
   "cell_type": "code",
   "execution_count": null,
   "metadata": {
    "ExecuteTime": {
     "end_time": "2019-11-10T09:25:10.047917Z",
     "start_time": "2019-11-10T09:25:09.873515Z"
    }
   },
   "outputs": [],
   "source": [
    "w=np.zeros(x.shape[1]) #weight matrix\n",
    "n_k = 0.001 # step size\n",
    "\n",
    "s_k = np.array([float(\"inf\"),float(\"inf\"),float(\"inf\")])\n",
    "\n",
    "num_steps=400\n",
    "for j in range(num_steps):\n",
    "    for i in range(m):\n",
    "        s_k[0] = (f(w[0],w[1],w[2],x[i])-y[i])\n",
    "        s_k[1] = (f(w[0],w[1],w[2],x[i])-y[i])*x[:,1][i]\n",
    "        s_k[2] = (f(w[0],w[1],w[2],x[i])-y[i])*x[:,2][i]\n",
    "        \n",
    "        s_k = (-1)*s_k\n",
    "        \n",
    "        w = w + n_k * s_k  \n",
    "            \n",
    "print(\"\\nLocal minimum occurs where:\")\n",
    "print(\"theta_0 =\", w[0])\n",
    "print(\"theta_1 =\", w[1])\n",
    "print(\"theta_2 =\", w[2])"
   ]
  },
  {
   "cell_type": "markdown",
   "metadata": {},
   "source": [
    "As you can see, our values for $\\theta_0$, $\\theta_1$ and $\\theta_2$ are close to their true values."
   ]
  },
  {
   "cell_type": "markdown",
   "metadata": {},
   "source": [
    "## Mini-Batch Gradient Descent (MB-GD)"
   ]
  },
  {
   "cell_type": "markdown",
   "metadata": {},
   "source": [
    "Mini-Batch Gradient Descent (MB-GD) a compromise between batch GD and SGD. In MB-GD, we update the model based on smaller groups of training samples; instead of computing the gradient from 1 sample (SGD) or all n training samples (GD), we compute the gradient from 1<k<n training samples (a common mini-batch size is k=50).\n",
    "\n",
    "MB-GD converges in fewer iterations than GD because we update the weights more frequently; however, MB-GD let's us utilize vectorized operation, which typically results in a computational performance gain over SGD."
   ]
  },
  {
   "cell_type": "markdown",
   "metadata": {
    "heading_collapsed": true
   },
   "source": [
    "## Other Optimisation Strategies (other than Gradient Descent)"
   ]
  },
  {
   "cell_type": "markdown",
   "metadata": {
    "hidden": true
   },
   "source": [
    "### Brent's method for optimisation. \n",
    "\n",
    "Brent's method does not require the function to optimize to be convex or derivable everywhere, and works as a combination of the secant method and parabola fittings, as follows:\n",
    "1. Take a, b such that f'(a) < 0 and f'(b) > 0\n",
    "2. Repeat:\n",
    "  * Compute c = (a+b)/2\n",
    "  * Compute the point d where the parabola that goes through a, b and c is minimal\n",
    "  * If f'(d) < 10^{-sthg}: stop\n",
    "  * Otherwise if f'(d) < 0: replace a with d, otherwise: replace b with d.\n",
    "\n",
    "<img src=\"images/brent.png\" width=\"600\"/>\n",
    "\n",
    "Illustration's source: Press, W. H., et al. (1992) \"Numerical Recipes in Fortran, The Art of Scientific Computing\", Cambridge University Press, Chapter 10."
   ]
  },
  {
   "cell_type": "markdown",
   "metadata": {
    "hidden": true
   },
   "source": [
    "To illustrate the above, we begin by defining a function to optimise:\n",
    "$$J(x) = (x - 1)^4 + x^2$$"
   ]
  },
  {
   "cell_type": "code",
   "execution_count": null,
   "metadata": {
    "hidden": true
   },
   "outputs": [],
   "source": [
    "from scipy.optimize import minimize_scalar\n",
    "\n",
    "# specify objective/cost function\n",
    "J = lambda x : (x - 1) ** 4 + x ** 2\n",
    "\n",
    "res = minimize_scalar(J, method='brent')\n",
    "print('xmin: %.02f, fval: %.02f, iter: %d' % (res.x, res.fun, res.nit))"
   ]
  },
  {
   "cell_type": "code",
   "execution_count": null,
   "metadata": {
    "hidden": true
   },
   "outputs": [],
   "source": [
    "# plot curve\n",
    "x = np.linspace(res.x - 0.5, res.x + 0.5, 100)\n",
    "y = [J(val) for val in x]\n",
    "plt.plot(x, y, color='blue', label='f1')\n",
    "\n",
    "# plot optima\n",
    "plt.scatter(res.x, res.fun, color='orange', marker='x', label='opt')\n",
    "\n",
    "plt.grid()\n",
    "plt.legend(loc=1)"
   ]
  },
  {
   "cell_type": "markdown",
   "metadata": {
    "hidden": true
   },
   "source": [
    "### First and second-order characterizations"
   ]
  },
  {
   "cell_type": "markdown",
   "metadata": {
    "hidden": true
   },
   "source": [
    "A twice-differentiable convex function has a positive semi-definite Hessian $\\mathbf{x} \\mapsto \\nabla^2 f(\\mathbf{x})$ and is minimized where the gradient $\\mathbf{x} \\mapsto \\nabla f(\\mathbf{x})$ is equal to 0."
   ]
  },
  {
   "cell_type": "markdown",
   "metadata": {
    "hidden": true
   },
   "source": [
    "### Newton's Method\n",
    "\n",
    "Newton's method is a second order method, minimising a quadratic Taylor approximation to the objective function at each point. It thus combines the gradient and Hessian matrix,\n",
    "\n",
    "$$\\mathbf{x}_{k+1} = \\mathbf{x}_{k} -\\alpha\\mathbf{H}_k^{-1}\\mathbf{g}_k$$\n",
    "\n",
    "where $\\mathbf{g}_k = \\nabla f(\\mathbf{x_k})$ and $\\mathbf{H}_k = \\nabla^2 f(\\mathbf{x_k})$. This is a multi-dimensional generalisation of the Newton root-finding method (here we are finding the root of the gradient). Newton's method typically involves a line search to optimise the size of the descent step, $\\alpha$."
   ]
  },
  {
   "cell_type": "markdown",
   "metadata": {
    "hidden": true
   },
   "source": [
    "Newton's method uses a line search to optimise each descent step by choosing a step size $\\alpha$ that optimises the descent direction, that is, $$\\min_\\alpha f(\\mathbf{x_k} + \\alpha \\mathbf{d}_k),$$ where $\\mathbf{d}_k = \\nabla f({\\mathbf{x}_k})$ is the descent direction."
   ]
  },
  {
   "cell_type": "markdown",
   "metadata": {
    "hidden": true
   },
   "source": [
    "### Conjugate gradient method\n",
    "\n",
    "The [conjugate gradient method](https://en.wikipedia.org/wiki/Conjugate_gradient_method) is an alternative to gradient descent. For a linear system $\\mathbf{A}\\mathbf{x} = \\mathbf{b}$, this algorithm finds a solution as a linear combination of a set of *mutually conjugate vectors*, $\\mathbf{p}_d$, such that,\n",
    "\n",
    "$$\\mathbf{x}^* = \\sum_{d=1}^D \\alpha_d\\mathbf{p}_d$$ for the $D$ dimensions of the problem. The vectors are built determined one by one in a process similar to the [Gram Schmidt process](https://en.wikipedia.org/wiki/Gram%E2%80%93Schmidt_process). Particularly for a sparse system, a good approximate solution can be determined without constructing the entire conjugate set."
   ]
  },
  {
   "cell_type": "markdown",
   "metadata": {},
   "source": [
    "## References"
   ]
  },
  {
   "cell_type": "markdown",
   "metadata": {},
   "source": [
    "1. https://mccormickml.com/2014/03/04/gradient-descent-derivation/"
   ]
  }
 ],
 "metadata": {
  "kernelspec": {
   "display_name": "Python 3",
   "language": "python",
   "name": "python3"
  },
  "language_info": {
   "codemirror_mode": {
    "name": "ipython",
    "version": 3
   },
   "file_extension": ".py",
   "mimetype": "text/x-python",
   "name": "python",
   "nbconvert_exporter": "python",
   "pygments_lexer": "ipython3",
   "version": "3.6.5"
  }
 },
 "nbformat": 4,
 "nbformat_minor": 2
}
