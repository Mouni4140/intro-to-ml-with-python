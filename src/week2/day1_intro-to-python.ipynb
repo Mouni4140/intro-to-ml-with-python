{
 "cells": [
  {
   "cell_type": "markdown",
   "metadata": {},
   "source": [
    "# Introduction to Python- Part 3\n",
    "        by Pradip Gupta (pradip.mech13@gmail.com)"
   ]
  },
  {
   "cell_type": "markdown",
   "metadata": {},
   "source": [
    "# Writing your own functions in python\n",
    " - The keyword **def** introduces a function definition. It must be followed by the **function_name** and the **parenthesized** list of formal parameters. \n",
    " - The statements that form the body of the function start at the next line, and must be indented.\n"
   ]
  },
  {
   "cell_type": "markdown",
   "metadata": {},
   "source": [
    "## First-Class Functions"
   ]
  },
  {
   "cell_type": "markdown",
   "metadata": {},
   "source": [
    "- **First-Class Function:** A programming language is said to have First-class functions when functions in that language are treated like any other variable. For example, in such a language:\n",
    "    - a function can be passed as an argument to other functions, \n",
    "    - can be returned by another function and \n",
    "    - can be assigned as a value to a variable."
   ]
  },
  {
   "cell_type": "code",
   "execution_count": null,
   "metadata": {},
   "outputs": [],
   "source": [
    "x = list(range(100))"
   ]
  },
  {
   "cell_type": "code",
   "execution_count": null,
   "metadata": {},
   "outputs": [],
   "source": [
    "# write a function with the name \"my_func\"\n",
    "# the function should take 3 arguments as input: i)start, ii)end and iii)gap\n",
    "# assign a default value of 1 to gap i.e gap=1\n",
    "# the function should return a list of integers beginning from \"start\" till \"end\" with a difference of \"gap\"\n",
    "\n",
    "# TO-DO: Write the program\n",
    "\n",
    "def my_func(start, end, gap=1):\n",
    "    \"\"\"\n",
    "    Function to generate a list. \n",
    "    params:\n",
    "        start: type int\n",
    "        end: type int\n",
    "        gap: type int\n",
    "    \n",
    "    return:\n",
    "        result: type list\n",
    "    \"\"\"\n",
    "    \n",
    "    #to do\n",
    "    result = list(range(start, end, gap))\n",
    "    \n",
    "    return result "
   ]
  },
  {
   "cell_type": "code",
   "execution_count": null,
   "metadata": {},
   "outputs": [],
   "source": [
    "help(my_func)"
   ]
  },
  {
   "cell_type": "code",
   "execution_count": null,
   "metadata": {},
   "outputs": [],
   "source": [
    "# run 1\n",
    "result = my_func(5,20,5)\n",
    "result"
   ]
  },
  {
   "cell_type": "code",
   "execution_count": null,
   "metadata": {},
   "outputs": [],
   "source": [
    "# run 2\n",
    "result = my_func(end=20,start=5)\n",
    "result"
   ]
  },
  {
   "cell_type": "code",
   "execution_count": null,
   "metadata": {},
   "outputs": [],
   "source": [
    "result = my_func(end=20,gap=1)\n",
    "result"
   ]
  },
  {
   "cell_type": "markdown",
   "metadata": {},
   "source": [
    "## Multiple returns"
   ]
  },
  {
   "cell_type": "code",
   "execution_count": null,
   "metadata": {},
   "outputs": [],
   "source": [
    "# The same function can have different returns depending upon different conditions. \n",
    "# Write a function \"my_func2\"\n",
    "# the function should take 2 arguments x and y. Both should be integers. \n",
    "# if x>y: return x\n",
    "# if y>x: return float(y/x)\n",
    "# if y==x: return \"equal\"\n",
    "\n",
    "# TODO: Write the function\n",
    "\n",
    "def my_func2(x, y):\n",
    "    \"\"\"\n",
    "    Second Example describing function usage.\n",
    "    \"\"\"\n",
    "    # condition 1\n",
    "    print(\"Checkign Condition 1\")\n",
    "    if x > y:\n",
    "        return x\n",
    "    \n",
    "    # condition 2\n",
    "    print(\"Checkign Condition 2\")\n",
    "    if y > x:\n",
    "        return round(float(y/x), 3)\n",
    "    \n",
    "    # condition 3\n",
    "    print(\"Checkign Condition 3\")\n",
    "    if y==x:\n",
    "        return \"equal\""
   ]
  },
  {
   "cell_type": "code",
   "execution_count": null,
   "metadata": {},
   "outputs": [],
   "source": [
    "help(my_func2)"
   ]
  },
  {
   "cell_type": "code",
   "execution_count": null,
   "metadata": {},
   "outputs": [],
   "source": [
    "b = my_func2(3,4)\n",
    "print(b)"
   ]
  },
  {
   "cell_type": "code",
   "execution_count": null,
   "metadata": {},
   "outputs": [],
   "source": [
    "b = my_func2(2,1)\n",
    "print(b)"
   ]
  },
  {
   "cell_type": "code",
   "execution_count": null,
   "metadata": {},
   "outputs": [],
   "source": [
    "b = my_func2(2,2)\n",
    "print(b)"
   ]
  },
  {
   "cell_type": "markdown",
   "metadata": {},
   "source": [
    "## higher-order function: functions as arguments"
   ]
  },
  {
   "cell_type": "markdown",
   "metadata": {},
   "source": [
    "- Instead of just passing data-types, We can also pass another function as an argument to our function. "
   ]
  },
  {
   "cell_type": "code",
   "execution_count": null,
   "metadata": {},
   "outputs": [],
   "source": [
    "# Write 2 functions.\n",
    "# Write a function \"product\" that takes 2 nos as inputs (say x and y), and returns product of the two nos (i.e x*y) \n",
    "# Write a second function \"compute\", that takes 3 inputs: i)the function \"product\", ii)x and iii)y, and returns product(x,y)+y^x \n",
    "\n",
    "# TODO: Write your functions\n",
    "def product(x, y):\n",
    "    return x*y\n",
    "\n",
    "# higer order function\n",
    "def compute(prod, a, b):\n",
    "    print(\"first function result:\", prod(a,b))\n",
    "    result = prod(a,b) + b**a #243+15\n",
    "    return result"
   ]
  },
  {
   "cell_type": "code",
   "execution_count": null,
   "metadata": {},
   "outputs": [],
   "source": [
    "res = compute(product,5,3)\n",
    "print(res)"
   ]
  },
  {
   "cell_type": "code",
   "execution_count": null,
   "metadata": {},
   "outputs": [],
   "source": [
    "def check(x):\n",
    "    y = x.pop()\n",
    "    return y"
   ]
  },
  {
   "cell_type": "code",
   "execution_count": null,
   "metadata": {},
   "outputs": [],
   "source": [
    "x = [1,2,3]\n",
    "id(x)"
   ]
  },
  {
   "cell_type": "code",
   "execution_count": null,
   "metadata": {},
   "outputs": [],
   "source": [
    "# pass by reference\n",
    "res = check(x)\n",
    "print(res)"
   ]
  },
  {
   "cell_type": "code",
   "execution_count": null,
   "metadata": {},
   "outputs": [],
   "source": [
    "print(x)\n",
    "print(id(x))"
   ]
  },
  {
   "cell_type": "code",
   "execution_count": null,
   "metadata": {},
   "outputs": [],
   "source": [
    "x = [1,2,3]\n",
    "id(x)"
   ]
  },
  {
   "cell_type": "code",
   "execution_count": null,
   "metadata": {},
   "outputs": [],
   "source": [
    "# pass by value\n",
    "res = check(x.copy())\n",
    "print(res)"
   ]
  },
  {
   "cell_type": "code",
   "execution_count": null,
   "metadata": {},
   "outputs": [],
   "source": [
    "print(x)\n",
    "print(id(x))"
   ]
  },
  {
   "cell_type": "markdown",
   "metadata": {
    "heading_collapsed": true
   },
   "source": [
    "## functions with list comprehension"
   ]
  },
  {
   "cell_type": "code",
   "execution_count": null,
   "metadata": {
    "hidden": true
   },
   "outputs": [],
   "source": [
    "import math\n",
    "\n",
    "def my_func(x):\n",
    "    if x%2!=0:\n",
    "        return(math.log(x))\n",
    "    else:\n",
    "        return(x)"
   ]
  },
  {
   "cell_type": "code",
   "execution_count": null,
   "metadata": {
    "hidden": true
   },
   "outputs": [],
   "source": [
    "my_func(18)"
   ]
  },
  {
   "cell_type": "code",
   "execution_count": null,
   "metadata": {
    "hidden": true
   },
   "outputs": [],
   "source": [
    "my_func(19)"
   ]
  },
  {
   "cell_type": "code",
   "execution_count": null,
   "metadata": {
    "hidden": true
   },
   "outputs": [],
   "source": [
    "x = list(range(5))\n",
    "x"
   ]
  },
  {
   "cell_type": "code",
   "execution_count": null,
   "metadata": {
    "hidden": true
   },
   "outputs": [],
   "source": [
    "x_ls3 = []\n",
    "\n",
    "for element in x:\n",
    "    x_ls3.append(my_func(element))\n",
    "    \n",
    "print(x_ls3)"
   ]
  },
  {
   "cell_type": "code",
   "execution_count": null,
   "metadata": {
    "hidden": true
   },
   "outputs": [],
   "source": [
    "del x_ls3"
   ]
  },
  {
   "cell_type": "code",
   "execution_count": null,
   "metadata": {
    "hidden": true
   },
   "outputs": [],
   "source": [
    "x_ls3=[my_func(a) for a in x]\n",
    "x_ls3"
   ]
  },
  {
   "cell_type": "markdown",
   "metadata": {
    "heading_collapsed": true
   },
   "source": [
    "## Exercise 1: average_grade"
   ]
  },
  {
   "cell_type": "markdown",
   "metadata": {
    "hidden": true
   },
   "source": [
    "    \"\"\" Return students' names and their average grades.\n",
    "    \n",
    "    >>> average_grade([['Bob', 56, 80, 72, 90], ['Alice', 60, 88, 44, 70]])\n",
    "    >>> [['Bob', 74.5], ['Alice', 65.5]]\n",
    "    \"\"\""
   ]
  },
  {
   "cell_type": "code",
   "execution_count": null,
   "metadata": {
    "hidden": true
   },
   "outputs": [],
   "source": [
    "def average_grade(lst):\n",
    "    averages = []\n",
    "    \n",
    "    for sub in lst:\n",
    "        name =sub[0]\n",
    "        \n",
    "        \n",
    "    return averages"
   ]
  },
  {
   "cell_type": "code",
   "execution_count": null,
   "metadata": {
    "hidden": true
   },
   "outputs": [],
   "source": [
    "lst = [['Alice', 60, 88, 44, 70], ['Joe', 44, 100, 80, 60, 50]]"
   ]
  },
  {
   "cell_type": "code",
   "execution_count": null,
   "metadata": {
    "hidden": true
   },
   "outputs": [],
   "source": [
    "len(lst)"
   ]
  },
  {
   "cell_type": "code",
   "execution_count": null,
   "metadata": {
    "hidden": true
   },
   "outputs": [],
   "source": [
    "lst[0]"
   ]
  },
  {
   "cell_type": "code",
   "execution_count": null,
   "metadata": {
    "hidden": true
   },
   "outputs": [],
   "source": [
    "lst[1]"
   ]
  },
  {
   "cell_type": "code",
   "execution_count": null,
   "metadata": {
    "hidden": true
   },
   "outputs": [],
   "source": [
    "(60+88+44+70)/4"
   ]
  },
  {
   "cell_type": "code",
   "execution_count": null,
   "metadata": {
    "hidden": true
   },
   "outputs": [],
   "source": [
    "for sub in lst:\n",
    "    print(\"sub elem has val as \", sub)\n",
    "    print(\"name is\", sub[0])\n",
    "    print(\"marks is\", sub[1:])"
   ]
  },
  {
   "cell_type": "code",
   "execution_count": null,
   "metadata": {
    "hidden": true
   },
   "outputs": [],
   "source": [
    "result = [[\"Alice\",65.5],[\"Joe\",66.8]]"
   ]
  },
  {
   "cell_type": "code",
   "execution_count": null,
   "metadata": {
    "hidden": true
   },
   "outputs": [],
   "source": [
    "result == average_grade(lst)"
   ]
  },
  {
   "cell_type": "markdown",
   "metadata": {
    "heading_collapsed": true,
    "hidden": true
   },
   "source": [
    "### solution"
   ]
  },
  {
   "cell_type": "code",
   "execution_count": null,
   "metadata": {
    "hidden": true
   },
   "outputs": [],
   "source": [
    "def average_grade(lst):\n",
    "    \n",
    "    averages = []\n",
    "    \n",
    "    for sublist in lst:\n",
    "        name_student = sublist[0]\n",
    "        marks_student = sublist[1:] #list[a:b]\n",
    "        avg_student = sum(marks_student)/len(marks_student)\n",
    "        averages.append([name_student, avg_student])\n",
    "        \n",
    "    return averages"
   ]
  },
  {
   "cell_type": "markdown",
   "metadata": {
    "heading_collapsed": true
   },
   "source": [
    "## Exercise 2: combine_dict_values"
   ]
  },
  {
   "cell_type": "markdown",
   "metadata": {
    "hidden": true
   },
   "source": [
    "    \"\"\" Return a dict with values added to existing keys\n",
    "    \n",
    "    d_list = [{'Money': .3, 'Strength': .25, 'Speed': .05},\n",
    "                {'Money': .3, 'Age': 25, 'Speed': .7}, \n",
    "                {'Money': .3, 'Strength': .25, 'Power': 5}]\n",
    "    \n",
    "    >>> combine_dict_values(d_list)\n",
    "    {\n",
    "    'Age': 25,\n",
    "    'Money': 0.9,\n",
    "    'Power': 5,\n",
    "    'Speed': 0.75,\n",
    "    'Strength': 0.50\n",
    "    }\n",
    "    \"\"\""
   ]
  },
  {
   "cell_type": "code",
   "execution_count": null,
   "metadata": {
    "hidden": true
   },
   "outputs": [],
   "source": [
    "def combine_dict_values(dict_list):\n",
    "    \n",
    "    return result"
   ]
  },
  {
   "cell_type": "code",
   "execution_count": null,
   "metadata": {
    "hidden": true
   },
   "outputs": [],
   "source": [
    "d_list = [\n",
    "                {'Money': 0.30, 'Strength': 0.25, 'Stamina': 5},\n",
    "                {'Money': 0.40, 'Entertainment': 25, 'Food': 10}, \n",
    "                {'Money': 0.10, 'Food': 25, 'Strength': 0.50}\n",
    "         ]\n",
    "\n",
    "\n",
    "combine_dict_values(d_list)"
   ]
  },
  {
   "cell_type": "markdown",
   "metadata": {
    "heading_collapsed": true,
    "hidden": true
   },
   "source": [
    "### solution"
   ]
  },
  {
   "cell_type": "code",
   "execution_count": null,
   "metadata": {
    "hidden": true
   },
   "outputs": [],
   "source": [
    "def combine_dict_values(d_list):\n",
    "    \n",
    "    result = {}\n",
    "    \n",
    "    for element in d_list:\n",
    "        print(f\"element in d_list is {element}\")\n",
    "        \n",
    "        for k,v in element.items():\n",
    "            print(f\"for the given element: key: {k}, value is:{v}\")\n",
    "            \n",
    "            if k in result:\n",
    "                result[k] = round(result[k] + v, 2)\n",
    "                print(result)\n",
    "            else:\n",
    "                result[k] = v\n",
    "                print(result)\n",
    "    \n",
    "    return result"
   ]
  },
  {
   "cell_type": "code",
   "execution_count": null,
   "metadata": {
    "hidden": true
   },
   "outputs": [],
   "source": [
    "d_list"
   ]
  },
  {
   "cell_type": "code",
   "execution_count": null,
   "metadata": {
    "hidden": true
   },
   "outputs": [],
   "source": [
    "combine_dict_values(d_list)"
   ]
  },
  {
   "cell_type": "markdown",
   "metadata": {
    "heading_collapsed": true
   },
   "source": [
    "## Exercise 3: get_average_report"
   ]
  },
  {
   "cell_type": "markdown",
   "metadata": {
    "hidden": true
   },
   "source": [
    "**Define a function that does this:** <br> \n",
    "\n",
    "Given a list of strings, with each string having a student’s name and their grades, mutate the input list so the original string positions are replaced with their average grades. The function doesn’t need an explicit return statement.\n",
    "```\n",
    ">>> reports = ['Anna, 50, 92, 80', 'Bill, 60, 70', 'Cal, 98.5, 100, 95.5, 98']\n",
    ">>> get_averages(reports)\n",
    ">>> [74.0, 65.0, 98.0]\n",
    "```"
   ]
  },
  {
   "cell_type": "code",
   "execution_count": null,
   "metadata": {
    "hidden": true
   },
   "outputs": [],
   "source": [
    "reports = ['Anna, 50, 92, 80', 'Bill, 60, 70', 'Cal, 98.5, 100, 95.5, 98']"
   ]
  },
  {
   "cell_type": "code",
   "execution_count": null,
   "metadata": {
    "hidden": true
   },
   "outputs": [],
   "source": [
    "def get_averages(reports):\n"
   ]
  },
  {
   "cell_type": "markdown",
   "metadata": {
    "hidden": true
   },
   "source": [
    "### solution"
   ]
  },
  {
   "cell_type": "code",
   "execution_count": null,
   "metadata": {
    "hidden": true
   },
   "outputs": [],
   "source": []
  },
  {
   "cell_type": "markdown",
   "metadata": {
    "heading_collapsed": true
   },
   "source": [
    "## Exercise 4: swap_elements"
   ]
  },
  {
   "cell_type": "markdown",
   "metadata": {
    "hidden": true
   },
   "source": [
    "    \"\"\" Return the list after swapping the biggest integer in the list \n",
    "    with the one at the last position.\n",
    "    \n",
    "    >>> swap_elements([3, 4, 2, 2, 43, 7])\n",
    "    >>> [3, 4, 2, 2, 7, 43]\n",
    "    \"\"\""
   ]
  },
  {
   "cell_type": "code",
   "execution_count": null,
   "metadata": {
    "hidden": true
   },
   "outputs": [],
   "source": [
    "a = [3,4,15,8,8,1]"
   ]
  },
  {
   "cell_type": "code",
   "execution_count": null,
   "metadata": {
    "hidden": true
   },
   "outputs": [],
   "source": [
    "last_elm = a[-1]\n",
    "last_elm"
   ]
  },
  {
   "cell_type": "code",
   "execution_count": null,
   "metadata": {
    "hidden": true
   },
   "outputs": [],
   "source": [
    "max_no = max(a)"
   ]
  },
  {
   "cell_type": "code",
   "execution_count": null,
   "metadata": {
    "hidden": true
   },
   "outputs": [],
   "source": [
    "max_index = a.index(max_no)"
   ]
  },
  {
   "cell_type": "code",
   "execution_count": null,
   "metadata": {
    "hidden": true
   },
   "outputs": [],
   "source": [
    "def swap_elements(in_list):\n",
    "    \n",
    "    max_no = max(in_list)\n",
    "    max_index = in_list.index(max_no)\n",
    "    lst_elm = in_list[-1]\n",
    "    \n",
    "    in_list[max_index] = lst_elm\n",
    "    in_list[-1] = max_no\n",
    "    \n",
    "    return in_list"
   ]
  },
  {
   "cell_type": "code",
   "execution_count": null,
   "metadata": {
    "hidden": true
   },
   "outputs": [],
   "source": [
    "in_list = [2,3,4,10,11,12,99,0,1,2,3]"
   ]
  },
  {
   "cell_type": "code",
   "execution_count": null,
   "metadata": {
    "hidden": true
   },
   "outputs": [],
   "source": [
    "in_list[3]"
   ]
  },
  {
   "cell_type": "code",
   "execution_count": null,
   "metadata": {
    "hidden": true
   },
   "outputs": [],
   "source": [
    "in_list[3] = 11"
   ]
  },
  {
   "cell_type": "code",
   "execution_count": null,
   "metadata": {
    "hidden": true
   },
   "outputs": [],
   "source": [
    "in_list"
   ]
  },
  {
   "cell_type": "code",
   "execution_count": null,
   "metadata": {
    "hidden": true
   },
   "outputs": [],
   "source": [
    "swap_elements(in_list)"
   ]
  },
  {
   "cell_type": "markdown",
   "metadata": {
    "hidden": true
   },
   "source": [
    "### solution"
   ]
  },
  {
   "cell_type": "code",
   "execution_count": null,
   "metadata": {
    "hidden": true
   },
   "outputs": [],
   "source": []
  },
  {
   "cell_type": "markdown",
   "metadata": {
    "heading_collapsed": true
   },
   "source": [
    "## Exercise 5:  See if a string is an integer or a float"
   ]
  },
  {
   "cell_type": "code",
   "execution_count": null,
   "metadata": {
    "hidden": true
   },
   "outputs": [],
   "source": [
    "nums = ['12', '12.3', '12.0', '123.002']"
   ]
  },
  {
   "cell_type": "code",
   "execution_count": null,
   "metadata": {
    "hidden": true
   },
   "outputs": [],
   "source": [
    "for num in nums:\n",
    "    if is_int(num):\n",
    "        print(num, 'can be safely converted to an integer.')\n",
    "    elif is_float(num):\n",
    "        print(num, 'is a float with non-zero digit(s) in the fractional-part.')"
   ]
  },
  {
   "cell_type": "markdown",
   "metadata": {
    "hidden": true
   },
   "source": [
    "### solution"
   ]
  },
  {
   "cell_type": "code",
   "execution_count": null,
   "metadata": {
    "hidden": true
   },
   "outputs": [],
   "source": []
  },
  {
   "cell_type": "markdown",
   "metadata": {
    "heading_collapsed": true
   },
   "source": [
    "## Exercise 6: Remove duplicates"
   ]
  },
  {
   "cell_type": "markdown",
   "metadata": {
    "hidden": true
   },
   "source": [
    "Write a function to remove duplicates from a given input list.\n",
    "```\n",
    "# >> remove_duplicates([0, 0, 0, 1, 1, 2, 2, 3, 4, 5])\n",
    "# >> [0, 1, 2, 3, 4, 5]\n",
    "```"
   ]
  },
  {
   "cell_type": "code",
   "execution_count": null,
   "metadata": {
    "hidden": true
   },
   "outputs": [],
   "source": [
    "ip = [0, 0, 0, 1, 1, 2, 2, 3, 4, 5]"
   ]
  },
  {
   "cell_type": "code",
   "execution_count": null,
   "metadata": {
    "hidden": true
   },
   "outputs": [],
   "source": [
    "op = remove_duplicates(ip)"
   ]
  },
  {
   "cell_type": "code",
   "execution_count": null,
   "metadata": {
    "hidden": true
   },
   "outputs": [],
   "source": [
    "op"
   ]
  },
  {
   "cell_type": "markdown",
   "metadata": {
    "hidden": true
   },
   "source": [
    "### solution"
   ]
  },
  {
   "cell_type": "code",
   "execution_count": null,
   "metadata": {
    "hidden": true
   },
   "outputs": [],
   "source": []
  },
  {
   "cell_type": "markdown",
   "metadata": {
    "heading_collapsed": true
   },
   "source": [
    "## Exercise 7: "
   ]
  },
  {
   "cell_type": "markdown",
   "metadata": {
    "hidden": true
   },
   "source": [
    "### Write a loop to generate a list of all even numbers between 0 to 100"
   ]
  },
  {
   "cell_type": "markdown",
   "metadata": {
    "hidden": true
   },
   "source": [
    "#### solution"
   ]
  },
  {
   "cell_type": "code",
   "execution_count": null,
   "metadata": {
    "hidden": true
   },
   "outputs": [],
   "source": [
    "my_list = []\n",
    "for number in range(0, 10):\n",
    "    if number % 2 == 0:\n",
    "        my_list.append(number)\n",
    "my_list"
   ]
  },
  {
   "cell_type": "markdown",
   "metadata": {
    "hidden": true
   },
   "source": [
    "### Write the same loop as a list comprehension"
   ]
  },
  {
   "cell_type": "markdown",
   "metadata": {
    "hidden": true
   },
   "source": [
    "#### solution"
   ]
  },
  {
   "cell_type": "code",
   "execution_count": null,
   "metadata": {
    "hidden": true
   },
   "outputs": [],
   "source": [
    "my_list = [number for number in range(0,10) if number % 2 == 0]\n",
    "my_list"
   ]
  },
  {
   "cell_type": "markdown",
   "metadata": {},
   "source": [
    "# Recursive function"
   ]
  },
  {
   "cell_type": "markdown",
   "metadata": {},
   "source": [
    "<center><img src=\"images/russian_dolls.png\" width=\"80%\"/></center>"
   ]
  },
  {
   "cell_type": "markdown",
   "metadata": {},
   "source": [
    "Have you ever seen Russian dolls? You start with one big Russian doll, and discover smaller and smaller Russian dolls, until you get one that is so small that it could not contain another.\n",
    "\n",
    "What do Russian dolls have to do with python algorithms? Just as one Russian doll has within it a smaller Russian doll, which has an even smaller Russian doll within it, all the way down to a tiny Russian doll that is too small to contain another, we'll see how to design an algorithm to solve a problem by solving a smaller instance of the same problem, unless the problem is so small that we can just solve it directly. We call this technique **recursion**.\n",
    "\n",
    "Recursion has many, many applications. In this module, we'll see how to use recursion to compute the factorial function, to determine whether a word is a palindrome, to compute powers of a number, to draw a type of fractal, and to solve the ancient Towers of Hanoi problem. Later modules will use recursion to solve other problems, including sorting."
   ]
  },
  {
   "cell_type": "markdown",
   "metadata": {},
   "source": [
    "## Exercise: Factorial of n"
   ]
  },
  {
   "cell_type": "markdown",
   "metadata": {},
   "source": [
    "- We indicate the factorial of n by n!.  \n",
    "- It's just the product of the integers 1 through n. For example, 5! equals 1⋅2⋅3⋅4⋅5, or 120\n",
    "- It equals 1 when n = 0, and it equals 1⋅2⋯(n−1)⋅n when n is positive.\n",
    "- For positive values of n, let's write n! as a product of numbers starting from n and going down to `1: n! = n⋅(n−1)⋯2⋅1`. \n",
    "- But notice that (n−1)⋯2⋅1 is another way of writing (n−1)!, and so we can say that n! = n⋅(n−1)!. \n",
    "- Did you see what we just did? We wrote n! as a product in which one of the factors is (n−1)!. We said that you can compute n! by computing (n−1)! and then multiplying the result of computing (n−1)! by n. \n",
    "- You can compute the factorial function on n by first computing the factorial function on n−1. \n",
    "- We say that computing (n-1)! is a subproblem that we solve to compute n!."
   ]
  },
  {
   "cell_type": "markdown",
   "metadata": {},
   "source": [
    "Let's look at an example: computing 5!.\n",
    "\n",
    "- You can compute 5! as 5⋅4!.\n",
    "- Now you need to solve the subproblem of computing 4!, which you can compute as 4⋅3!.\n",
    "- Now you need to solve the subproblem of computing 3!, which is 3⋅2!.\n",
    "- Now 2!, which is 2⋅1!.\n",
    "- Now you need to compute 1!. You could say that 1! equals 1, because it's the product of all the integers from 1 through 1. Or you can apply the formula that 1! = 1⋅0!. Let's do it by applying the formula.\n",
    "- We defined 0! to equal 1.\n",
    "- Now you can compute 1! = 1⋅0!=1.\n",
    "- Having computed 1! = 1, you can compute 2! = 2⋅1! = 2.\n",
    "- Having computed 2! = 2, you can compute 3! = 3⋅2! = 6.\n",
    "- Having computed 3! = 6, you can compute 4! = 4⋅3! = 24.\n",
    "- Finally, having computed 4! = 24, you can finish up by computing 5! = 5⋅4! = 120.\n",
    "\n",
    "So now we have another way of thinking about how to compute the value of n!, for all nonnegative integers n:\n",
    "\n",
    "- If n = 0, then declare that n! = 1.\n",
    "- Otherwise, n must be positive. Solve the subproblem of computing (n−1)!, multiply this result by n, and declare n! equal to the result of this product."
   ]
  },
  {
   "cell_type": "markdown",
   "metadata": {},
   "source": [
    "When we're computing n! in this way, we call the first case, where we immediately know the answer, the **base case**, and we call the second case, where we have to compute the same function but on a different value, the **recursive case.**\n",
    "\n",
    "**IMPORTANT** <br>\n",
    "In order for a recursive algorithm to work, the smaller subproblems must eventually arrive at the base case. When computing n!, the subproblems get smaller and smaller until we compute 0!. You must make sure that eventually, you hit the base case.\n",
    "\n",
    "We can distill the idea of recursion into two simple rules:\n",
    "\n",
    "- Each recursive call should be on a smaller instance of the same problem, that is, a smaller subproblem.\n",
    "- The recursive calls must eventually reach a base case, which is solved without further recursion."
   ]
  },
  {
   "cell_type": "markdown",
   "metadata": {},
   "source": [
    "### solution"
   ]
  },
  {
   "cell_type": "code",
   "execution_count": null,
   "metadata": {},
   "outputs": [],
   "source": [
    "def factorial(n):\n",
    "    \"\"\"\n",
    "    computes the factorial of n\n",
    "    \n",
    "    :param n: an integer to compute the factorial of\n",
    "    \n",
    "    :returns:  the factorial of n\n",
    "    \"\"\"\n",
    "    print(f\"calling factorial, n={n}\")\n",
    "    \n",
    "    # base case\n",
    "    if n==0:\n",
    "        print('Base case is reached')\n",
    "        return 1\n",
    "    else:\n",
    "        facto = n*factorial(n-1)\n",
    "        print(\"return value of:\", facto)\n",
    "        return facto"
   ]
  },
  {
   "cell_type": "code",
   "execution_count": null,
   "metadata": {},
   "outputs": [],
   "source": [
    "factorial(5)"
   ]
  },
  {
   "cell_type": "markdown",
   "metadata": {},
   "source": [
    "## Exercise: Sum of digits"
   ]
  },
  {
   "cell_type": "markdown",
   "metadata": {},
   "source": [
    "    \"\"\" Return sum of the digits (single digit) of the number \n",
    "    \n",
    "    >>> sum_digits(1234)\n",
    "    >>> 1\n",
    "    \"\"\""
   ]
  },
  {
   "cell_type": "markdown",
   "metadata": {},
   "source": [
    "### solution"
   ]
  },
  {
   "cell_type": "code",
   "execution_count": null,
   "metadata": {},
   "outputs": [],
   "source": [
    "def sum_of_digits(number):\n",
    "    \n",
    "    # base case\n",
    "    if number < 10:\n",
    "        print(\"base case reached\")\n",
    "        return number\n",
    "    \n",
    "    result = 0\n",
    "    number = str(number)\n",
    "    \n",
    "    for element in number:\n",
    "        result = result + int(element)\n",
    "    print(\"result:\", result)    \n",
    "    \n",
    "        \n",
    "    return sum_of_digits(result)"
   ]
  },
  {
   "cell_type": "code",
   "execution_count": null,
   "metadata": {},
   "outputs": [],
   "source": [
    "sum_of_digits(1234)"
   ]
  },
  {
   "cell_type": "code",
   "execution_count": null,
   "metadata": {},
   "outputs": [],
   "source": [
    "for i in \"1234\":\n",
    "    print(i)"
   ]
  },
  {
   "cell_type": "markdown",
   "metadata": {},
   "source": [
    "# Lambda, filter and map"
   ]
  },
  {
   "cell_type": "markdown",
   "metadata": {
    "heading_collapsed": true
   },
   "source": [
    "## Lambda"
   ]
  },
  {
   "cell_type": "markdown",
   "metadata": {
    "hidden": true
   },
   "source": [
    " - The lambda operator or lambda function is a way to create small anonymous functions, i.e. functions without a name. \n",
    " - These functions are **throw-away functions**, i.e. they are just needed where they have been created. \n",
    " - Lambda functions are mainly used in combination with the functions `filter()` and `map()`\n",
    " \n",
    "The general syntax of a lambda function is quite simple:  <br>\n",
    " \n",
    "`lambda argument_list: expression`"
   ]
  },
  {
   "cell_type": "code",
   "execution_count": null,
   "metadata": {
    "hidden": true
   },
   "outputs": [],
   "source": [
    "temp = lambda x, y : x + y"
   ]
  },
  {
   "cell_type": "code",
   "execution_count": null,
   "metadata": {
    "hidden": true
   },
   "outputs": [],
   "source": [
    "temp(3,4)"
   ]
  },
  {
   "cell_type": "code",
   "execution_count": null,
   "metadata": {
    "hidden": true
   },
   "outputs": [],
   "source": [
    "def temp(x,y):\n",
    "    return x+y"
   ]
  },
  {
   "cell_type": "markdown",
   "metadata": {},
   "source": [
    "## Map"
   ]
  },
  {
   "cell_type": "markdown",
   "metadata": {},
   "source": [
    "`map()` is a function which takes two arguments: <br>\n",
    "\n",
    "`r = map(func, seq)`\n",
    "\n",
    " - The **first argument** func is the **name of a function** and the **second argument** a **sequence** (e.g. a list) seq. \n",
    "\n",
    " - `map()` applies the function func to all the elements of the sequence seq. \n",
    "\n",
    " - `map()` **returns an iterator**.\n",
    "\n",
    "The true power of lambda can be seen when used in conjugation with map() function. "
   ]
  },
  {
   "cell_type": "code",
   "execution_count": null,
   "metadata": {},
   "outputs": [],
   "source": [
    "mylist = [\"10\",\"20\",\"30\"]"
   ]
  },
  {
   "cell_type": "code",
   "execution_count": null,
   "metadata": {},
   "outputs": [],
   "source": [
    "for i in map(float,mylist):\n",
    "    print(i)"
   ]
  },
  {
   "cell_type": "code",
   "execution_count": null,
   "metadata": {},
   "outputs": [],
   "source": [
    "def sqr(var):\n",
    "    return var*var"
   ]
  },
  {
   "cell_type": "code",
   "execution_count": null,
   "metadata": {},
   "outputs": [],
   "source": [
    "mylist = [1,2,3]"
   ]
  },
  {
   "cell_type": "code",
   "execution_count": null,
   "metadata": {},
   "outputs": [],
   "source": [
    "list(map(sqr, mylist))"
   ]
  },
  {
   "cell_type": "code",
   "execution_count": null,
   "metadata": {},
   "outputs": [],
   "source": [
    "C = [39.2, 36.5, 37.3, 38, 37.8]"
   ]
  },
  {
   "cell_type": "code",
   "execution_count": null,
   "metadata": {},
   "outputs": [],
   "source": [
    "C_toF = lambda c: (float(9)/5)*c + 32\n",
    "list(map(C_toF, C))"
   ]
  },
  {
   "cell_type": "code",
   "execution_count": null,
   "metadata": {},
   "outputs": [],
   "source": [
    "F = list(map(lambda elm: (float(9)/5)*elm + 32, C))\n",
    "F"
   ]
  },
  {
   "cell_type": "code",
   "execution_count": null,
   "metadata": {},
   "outputs": [],
   "source": [
    "C = list(map(lambda x: (float(5)/9)*(x-32), F))\n",
    "C"
   ]
  },
  {
   "cell_type": "markdown",
   "metadata": {},
   "source": [
    "## Filter"
   ]
  },
  {
   "cell_type": "markdown",
   "metadata": {},
   "source": [
    "The filter function also takes in two arguments a function and a sequence. \n",
    "\n",
    "`filter(function, sequence)`\n",
    "\n",
    "It offers an elegant way to filter out all the elements of a `sequence` \"sequence\", for which the function `func` returns True. i.e. an item will be produced by the iterator result of filter(function, sequence) if item is included in the sequence \"sequence\" and if function(item) returns True."
   ]
  },
  {
   "cell_type": "code",
   "execution_count": null,
   "metadata": {},
   "outputs": [],
   "source": [
    "seq = range(0,10)"
   ]
  },
  {
   "cell_type": "code",
   "execution_count": null,
   "metadata": {},
   "outputs": [],
   "source": [
    "list(seq)"
   ]
  },
  {
   "cell_type": "code",
   "execution_count": null,
   "metadata": {},
   "outputs": [],
   "source": [
    "func = lambda x: x%2\n",
    "func(2)"
   ]
  },
  {
   "cell_type": "code",
   "execution_count": null,
   "metadata": {},
   "outputs": [],
   "source": [
    "func = lambda x: x%4==0\n",
    "func(2)"
   ]
  },
  {
   "cell_type": "code",
   "execution_count": null,
   "metadata": {},
   "outputs": [],
   "source": [
    "list(filter(func, seq))"
   ]
  },
  {
   "cell_type": "markdown",
   "metadata": {},
   "source": [
    "## Exercise: contiguous_subarray"
   ]
  },
  {
   "cell_type": "markdown",
   "metadata": {},
   "source": [
    "    \"\"\" Return the length of the longest sub-array which consists of all 1’s.\n",
    "    \n",
    "    a_list = [1, 1, 0, 1, 1, 0, 1, 1, 0, 1, 1, 1, 0, 1, 1, 1, 1, 0]\n",
    "    >>> contiguous_subarray(a_list)\n",
    "    4\n",
    "    \"\"\""
   ]
  },
  {
   "cell_type": "code",
   "execution_count": null,
   "metadata": {},
   "outputs": [],
   "source": [
    "a_list = [1, 1, 0, 1, 1, 0, 1, 1, 0, 1, 1, 1, 0, 1, 1, 1, 1, 0]\n",
    "contiguous_subarray(a_list)"
   ]
  },
  {
   "cell_type": "markdown",
   "metadata": {},
   "source": [
    "### solution"
   ]
  },
  {
   "cell_type": "code",
   "execution_count": null,
   "metadata": {},
   "outputs": [],
   "source": [
    "lst = [1, 1, 0, 1, 1, 0, 1, 1, 0, 1, 1, 1, 0, 1, 1, 1, 1, 0]"
   ]
  },
  {
   "cell_type": "code",
   "execution_count": null,
   "metadata": {},
   "outputs": [],
   "source": [
    "list(map(str, lst))"
   ]
  },
  {
   "cell_type": "code",
   "execution_count": null,
   "metadata": {},
   "outputs": [],
   "source": [
    "''.join(map(str, lst))"
   ]
  },
  {
   "cell_type": "code",
   "execution_count": null,
   "metadata": {},
   "outputs": [],
   "source": [
    "''.join(map(str, lst)).split(\"0\")"
   ]
  },
  {
   "cell_type": "code",
   "execution_count": null,
   "metadata": {},
   "outputs": [],
   "source": [
    "list(map(lambda x: len(x), ''.join(map(str, lst)).split(\"0\")))"
   ]
  },
  {
   "cell_type": "code",
   "execution_count": null,
   "metadata": {},
   "outputs": [],
   "source": [
    "len(max(''.join(map(str, lst)).split(\"0\")))"
   ]
  },
  {
   "cell_type": "code",
   "execution_count": null,
   "metadata": {},
   "outputs": [],
   "source": [
    "str(lst)"
   ]
  },
  {
   "cell_type": "code",
   "execution_count": null,
   "metadata": {},
   "outputs": [],
   "source": [
    "len(max(\"\".join(map(str, lst)).split(\"0\")))"
   ]
  },
  {
   "cell_type": "markdown",
   "metadata": {},
   "source": [
    "# Writing your own Classes:\n",
    " - Class are a collection of similar kind of variables and functions. \n",
    " - The primary difference between a class and a function is that, Class can have objects. \n",
    " \n",
    "**Differences Between Classes and Functions** <br>\n",
    " \n",
    "The key differences between Classes and Functions are:\n",
    "\n",
    "* Functions are much easier to reason about\n",
    "* Functions (typically) have state inside the function only, where classes have state persists outside of the function\n",
    "* Classes can offer a more advanced level of abstraction at the cost of complexity"
   ]
  },
  {
   "cell_type": "code",
   "execution_count": null,
   "metadata": {},
   "outputs": [],
   "source": [
    "import math"
   ]
  },
  {
   "cell_type": "code",
   "execution_count": null,
   "metadata": {},
   "outputs": [],
   "source": [
    "math.pi"
   ]
  },
  {
   "cell_type": "code",
   "execution_count": null,
   "metadata": {},
   "outputs": [],
   "source": [
    "class Circle:\n",
    "    def __init__(self, radius):\n",
    "        self.r = radius\n",
    "    \n",
    "    def area(self):\n",
    "        self.a = math.pi*(self.r**2)\n",
    "\n",
    "    def perimeter(self):\n",
    "        self.p = 2*math.pi*self.r\n",
    "    \n",
    "    def custom(self):\n",
    "        return self.p + self.a"
   ]
  },
  {
   "cell_type": "code",
   "execution_count": null,
   "metadata": {},
   "outputs": [],
   "source": [
    "c1 = Circle(6)\n",
    "c2 = Circle(2)"
   ]
  },
  {
   "cell_type": "code",
   "execution_count": null,
   "metadata": {},
   "outputs": [],
   "source": [
    "c1.area()"
   ]
  },
  {
   "cell_type": "code",
   "execution_count": null,
   "metadata": {},
   "outputs": [],
   "source": [
    "c1.a"
   ]
  },
  {
   "cell_type": "code",
   "execution_count": null,
   "metadata": {},
   "outputs": [],
   "source": [
    "c2.area()"
   ]
  },
  {
   "cell_type": "code",
   "execution_count": null,
   "metadata": {},
   "outputs": [],
   "source": [
    "c1.perimeter()"
   ]
  },
  {
   "cell_type": "code",
   "execution_count": null,
   "metadata": {},
   "outputs": [],
   "source": [
    "c1.p"
   ]
  },
  {
   "cell_type": "code",
   "execution_count": null,
   "metadata": {},
   "outputs": [],
   "source": [
    "c1.custom()"
   ]
  },
  {
   "cell_type": "code",
   "execution_count": null,
   "metadata": {},
   "outputs": [],
   "source": [
    "import math\n",
    "\n",
    "# we start with keyword class and then give our class a name\n",
    "class Point:\n",
    "    var = 0\n",
    "    \n",
    "    def __init__(self, x, y):\n",
    "        '''Defines x and y variables'''\n",
    "        self.X = x\n",
    "        self.Y = y\n",
    "\n",
    "    # self is used as reference to internal objects that get \n",
    "    # created using values supplied from outside \n",
    "    # default function _init_ is used to create internal objects\n",
    "    # which can be accessed by other functions in the class\n",
    "    \n",
    "    def length(self):\n",
    "        return(math.sqrt(self.X**2+self.Y**2))\n",
    "    \n",
    "    # all function inside a class will have access to internal objects \n",
    "    # created inside the class\n",
    "    # you can understand self to be default object of class\n",
    "    \n",
    "    def distance(self, other):\n",
    "        dx = self.X - other.X\n",
    "        dy = self.Y - other.Y\n",
    "        return(math.sqrt(dx**2 + dy**2))\n",
    "    \n",
    "    # a function/method inside the class can take input multiple objects\n",
    "    # of the same class"
   ]
  },
  {
   "cell_type": "code",
   "execution_count": null,
   "metadata": {},
   "outputs": [],
   "source": [
    "p1=Point(2,3)"
   ]
  },
  {
   "cell_type": "code",
   "execution_count": null,
   "metadata": {},
   "outputs": [],
   "source": [
    "p2=Point(4,10)"
   ]
  },
  {
   "cell_type": "code",
   "execution_count": null,
   "metadata": {},
   "outputs": [],
   "source": [
    "p1.length()"
   ]
  },
  {
   "cell_type": "code",
   "execution_count": null,
   "metadata": {},
   "outputs": [],
   "source": [
    "p2.length()"
   ]
  },
  {
   "cell_type": "code",
   "execution_count": null,
   "metadata": {},
   "outputs": [],
   "source": [
    "p1.distance(p2)"
   ]
  },
  {
   "cell_type": "code",
   "execution_count": null,
   "metadata": {},
   "outputs": [],
   "source": [
    "p1.__dict__"
   ]
  },
  {
   "cell_type": "code",
   "execution_count": null,
   "metadata": {},
   "outputs": [],
   "source": [
    "p2.__dict__"
   ]
  },
  {
   "cell_type": "markdown",
   "metadata": {
    "colab_type": "text",
    "id": "9DsnmUoyHGzx"
   },
   "source": [
    "#### Creating an empty Class\n",
    "Using classes and interacting with them can be done iteratively in Jupyter Notebook.\n",
    "The simplest type of class is just a name as shown below:\n",
    "```\n",
    "class Competitor: pass\n",
    "```\n",
    "But, that class can be instantiated into multiple objects"
   ]
  },
  {
   "cell_type": "code",
   "execution_count": null,
   "metadata": {
    "colab": {},
    "colab_type": "code",
    "id": "sNXweYZZHOhS"
   },
   "outputs": [],
   "source": [
    "class Competitor: pass"
   ]
  },
  {
   "cell_type": "markdown",
   "metadata": {
    "colab_type": "text",
    "id": "7bNTtyGvHh7E"
   },
   "source": [
    "#### Setting Attributes on an Object"
   ]
  },
  {
   "cell_type": "code",
   "execution_count": null,
   "metadata": {
    "colab": {
     "base_uri": "https://localhost:8080/",
     "height": 34
    },
    "colab_type": "code",
    "id": "u6WPt43tHkji",
    "outputId": "66723ff4-b028-46bb-a913-b2ccef88030b"
   },
   "outputs": [],
   "source": [
    "conor = Competitor()"
   ]
  },
  {
   "cell_type": "code",
   "execution_count": null,
   "metadata": {},
   "outputs": [],
   "source": [
    "conor.__dict__"
   ]
  },
  {
   "cell_type": "code",
   "execution_count": null,
   "metadata": {},
   "outputs": [],
   "source": [
    "conor.name = \"Conor McGregor\"\n",
    "conor.age = 29\n",
    "conor.weight = 155"
   ]
  },
  {
   "cell_type": "code",
   "execution_count": null,
   "metadata": {
    "colab": {
     "base_uri": "https://localhost:8080/",
     "height": 34
    },
    "colab_type": "code",
    "id": "AKMUUCnAHmM1",
    "outputId": "9ea6015c-d18d-4488-f015-5c3b8e09ecc4"
   },
   "outputs": [],
   "source": [
    "nate = Competitor()"
   ]
  },
  {
   "cell_type": "code",
   "execution_count": null,
   "metadata": {},
   "outputs": [],
   "source": [
    "nate.__dict__"
   ]
  },
  {
   "cell_type": "code",
   "execution_count": null,
   "metadata": {},
   "outputs": [],
   "source": [
    "conor = {}"
   ]
  },
  {
   "cell_type": "code",
   "execution_count": null,
   "metadata": {},
   "outputs": [],
   "source": [
    "conor[\"name\"] = 'Conor McGregor'\n",
    "conor['age'] = 29"
   ]
  },
  {
   "cell_type": "code",
   "execution_count": null,
   "metadata": {},
   "outputs": [],
   "source": [
    "conor"
   ]
  },
  {
   "cell_type": "code",
   "execution_count": null,
   "metadata": {},
   "outputs": [],
   "source": [
    "conor[\"name\"]"
   ]
  },
  {
   "cell_type": "code",
   "execution_count": null,
   "metadata": {},
   "outputs": [],
   "source": [
    "nate.name = \"Nate Diaz\"\n",
    "nate.age = 30\n",
    "nate.height = 120"
   ]
  },
  {
   "cell_type": "code",
   "execution_count": null,
   "metadata": {},
   "outputs": [],
   "source": [
    "nate.__dict__"
   ]
  },
  {
   "cell_type": "markdown",
   "metadata": {
    "colab_type": "text",
    "id": "jzJzVnWDHo2A"
   },
   "source": [
    "#### Interacting with Objects"
   ]
  },
  {
   "cell_type": "code",
   "execution_count": null,
   "metadata": {
    "colab": {},
    "colab_type": "code",
    "id": "kB2B-OQ7IGZD"
   },
   "outputs": [],
   "source": [
    "def print_competitor_age(object):\n",
    "    \"\"\"Print out age statistics about a competitor\"\"\"\n",
    "    \n",
    "    print(f\"{object.name} is {object.age} years old\")"
   ]
  },
  {
   "cell_type": "code",
   "execution_count": null,
   "metadata": {
    "colab": {
     "base_uri": "https://localhost:8080/",
     "height": 34
    },
    "colab_type": "code",
    "id": "oQKDLcVGIGoh",
    "outputId": "6ba58ec1-a5af-4a76-a604-d54e9b007f89"
   },
   "outputs": [],
   "source": [
    "print_competitor_age(nate)"
   ]
  },
  {
   "cell_type": "code",
   "execution_count": null,
   "metadata": {
    "colab": {
     "base_uri": "https://localhost:8080/",
     "height": 34
    },
    "colab_type": "code",
    "id": "Ka-LFYJ1IG0e",
    "outputId": "7c17d3db-d594-49d5-e1d8-bec6e1008b63"
   },
   "outputs": [],
   "source": [
    "print_competitor_age(conor)"
   ]
  },
  {
   "cell_type": "markdown",
   "metadata": {
    "colab_type": "text",
    "id": "yplytoRKI8pA"
   },
   "source": [
    "#### Understanding Inheritance\n",
    "\n",
    "- Classes can also inhert from other classes including methods.\n",
    "- Often inheritance can be complex and a rule of thumb is to use discretion.\n",
    "\n",
    "In the example below, a UFC class was created that has a method (similar to a function), that can determine what weight class an athlete belongs to.  Then the Competitor class uses \"inheritance\", to inhert the code in the class."
   ]
  },
  {
   "cell_type": "markdown",
   "metadata": {
    "colab_type": "text",
    "id": "jJ2j1P-XJDVi"
   },
   "source": [
    "##### Using Inheritance"
   ]
  },
  {
   "cell_type": "code",
   "execution_count": null,
   "metadata": {
    "colab": {},
    "colab_type": "code",
    "id": "hIzHGW2SJI0-"
   },
   "outputs": [],
   "source": [
    "class UFC:\n",
    "    \n",
    "    @property\n",
    "    def reach(self):\n",
    "        return 84\n",
    "    \n",
    "    def weight_class(self, weight):\n",
    "        \"\"\"Weight Class Finder\"\"\"\n",
    "        \n",
    "        self.classes = {\n",
    "                    155: \"Lightweight\", \n",
    "                    170: \"Heavyweight\"\n",
    "                  }\n",
    "        return self.classes[weight]        "
   ]
  },
  {
   "cell_type": "code",
   "execution_count": null,
   "metadata": {},
   "outputs": [],
   "source": [
    "ufc = UFC()"
   ]
  },
  {
   "cell_type": "code",
   "execution_count": null,
   "metadata": {},
   "outputs": [],
   "source": [
    "ufc.reach"
   ]
  },
  {
   "cell_type": "code",
   "execution_count": null,
   "metadata": {
    "colab": {},
    "colab_type": "code",
    "id": "YTuU3nhaJLZR"
   },
   "outputs": [],
   "source": [
    "class Competitor(UFC): pass"
   ]
  },
  {
   "cell_type": "code",
   "execution_count": null,
   "metadata": {},
   "outputs": [],
   "source": [
    "conor = Competitor()"
   ]
  },
  {
   "cell_type": "code",
   "execution_count": null,
   "metadata": {},
   "outputs": [],
   "source": [
    "conor.reach"
   ]
  },
  {
   "cell_type": "code",
   "execution_count": null,
   "metadata": {},
   "outputs": [],
   "source": [
    "conor.weight_class"
   ]
  },
  {
   "cell_type": "code",
   "execution_count": null,
   "metadata": {
    "colab": {},
    "colab_type": "code",
    "id": "MBqX0yAVJN_D"
   },
   "outputs": [],
   "source": [
    "conor.name = \"Conor McGregor\"\n",
    "conor.age = 29\n",
    "conor.weight = 155"
   ]
  },
  {
   "cell_type": "code",
   "execution_count": null,
   "metadata": {
    "colab": {},
    "colab_type": "code",
    "id": "3g-obU6iR49h"
   },
   "outputs": [],
   "source": [
    "conor.weight_class(conor.weight)"
   ]
  },
  {
   "cell_type": "markdown",
   "metadata": {
    "colab_type": "text",
    "id": "Uqkx_uN3JQxV"
   },
   "source": [
    "##### Using inherited methods from Parent Class"
   ]
  },
  {
   "cell_type": "code",
   "execution_count": null,
   "metadata": {
    "colab": {
     "base_uri": "https://localhost:8080/",
     "height": 34
    },
    "colab_type": "code",
    "id": "h4G1XdjkJW1v",
    "outputId": "e34bc0d5-d67b-4511-a289-65e8e6bbca41"
   },
   "outputs": [],
   "source": [
    "print(conor.weight_class(conor.weight))"
   ]
  },
  {
   "cell_type": "markdown",
   "metadata": {
    "colab_type": "text",
    "id": "PEKWYhudJv_x"
   },
   "source": [
    "#### Using Multiple Inheritance\n",
    "\n",
    "Multiple Inheritance is inheriting more than one class"
   ]
  },
  {
   "cell_type": "code",
   "execution_count": null,
   "metadata": {
    "colab": {},
    "colab_type": "code",
    "id": "U34Ti24hJ7Sk"
   },
   "outputs": [],
   "source": [
    "class MMA:\n",
    "    def org(self, org_name):\n",
    "        orgs = {\"UFC\": \"Ultimate Fighting Championship\",\n",
    "                  \"Bellator\":  \"MMA promotion in Santa Monica, California.\"}\n",
    "        return orgs[org_name]"
   ]
  },
  {
   "cell_type": "code",
   "execution_count": null,
   "metadata": {
    "colab": {},
    "colab_type": "code",
    "id": "WELqXQNfJ86w"
   },
   "outputs": [],
   "source": [
    "class CompetitorAll(UFC, MMA):pass "
   ]
  },
  {
   "cell_type": "code",
   "execution_count": null,
   "metadata": {
    "colab": {
     "base_uri": "https://localhost:8080/",
     "height": 54
    },
    "colab_type": "code",
    "id": "CZHnhEmIJ_Qr",
    "outputId": "0aa2a4d1-29a1-4851-f68c-8ca3f999e044"
   },
   "outputs": [],
   "source": [
    "gsp = CompetitorAll()\n",
    "\n",
    "gsp.name = \"GSP\"\n",
    "gsp.age = 27\n",
    "gsp.weight = 170"
   ]
  },
  {
   "cell_type": "code",
   "execution_count": null,
   "metadata": {},
   "outputs": [],
   "source": [
    "print(f'{gsp.name} is the G.O.A.T in the {gsp.weight_class(gsp.weight)} division of the {gsp.org(\"UFC\")}')"
   ]
  },
  {
   "cell_type": "markdown",
   "metadata": {
    "colab_type": "text",
    "id": "tbTyE8mrKvcj"
   },
   "source": [
    "@property decorator is a shortcut for creating a read only property"
   ]
  },
  {
   "cell_type": "code",
   "execution_count": null,
   "metadata": {
    "colab": {
     "base_uri": "https://localhost:8080/",
     "height": 34
    },
    "colab_type": "code",
    "id": "QtQiqN9JKq_X",
    "outputId": "d268e0e2-b61e-44d3-ff58-c548062cc384"
   },
   "outputs": [],
   "source": [
    "class JonJones:\n",
    "    \"\"\"Jon Jones class with read only property\"\"\"\n",
    "\n",
    "    @property\n",
    "    def reach(self):\n",
    "        return 84\n",
    "\n",
    "jon_jones = JonJones()"
   ]
  },
  {
   "cell_type": "code",
   "execution_count": null,
   "metadata": {},
   "outputs": [],
   "source": [
    "jon_jones.reach"
   ]
  },
  {
   "cell_type": "code",
   "execution_count": null,
   "metadata": {},
   "outputs": [],
   "source": [
    "jon_jones.reach = 85 #cannot set"
   ]
  },
  {
   "cell_type": "code",
   "execution_count": null,
   "metadata": {},
   "outputs": [],
   "source": [
    "jon_jones.length = 85"
   ]
  },
  {
   "cell_type": "code",
   "execution_count": null,
   "metadata": {},
   "outputs": [],
   "source": [
    "jon_jones.length = 86"
   ]
  },
  {
   "cell_type": "markdown",
   "metadata": {
    "colab_type": "text",
    "id": "grcojpMOKyao"
   },
   "source": [
    "@staticmethod bolts a function onto a class"
   ]
  },
  {
   "cell_type": "code",
   "execution_count": null,
   "metadata": {
    "colab": {
     "base_uri": "https://localhost:8080/",
     "height": 34
    },
    "colab_type": "code",
    "id": "vctQpjK-K0AE",
    "outputId": "56af6d93-37a1-4af4-e3cd-93275c1f33bf"
   },
   "outputs": [],
   "source": [
    "class JonJones:\n",
    "    \"\"\"Jon Jones Class with 'bolt-on' reach method\n",
    "    self isn't needed\n",
    "    \"\"\"\n",
    "    \n",
    "    @staticmethod\n",
    "    def reach():\n",
    "        return 84\n",
    "\n",
    "jon_jones =JonJones()\n",
    "jon_jones.reach()"
   ]
  },
  {
   "cell_type": "code",
   "execution_count": null,
   "metadata": {},
   "outputs": [],
   "source": [
    "jon_jones.reach = 85"
   ]
  },
  {
   "cell_type": "markdown",
   "metadata": {
    "colab_type": "text",
    "id": "dhabI3o_dWd7"
   },
   "source": [
    "#### Immutability concepts with Objects"
   ]
  },
  {
   "cell_type": "code",
   "execution_count": null,
   "metadata": {
    "colab": {},
    "colab_type": "code",
    "id": "8S3WDMvVdJaz"
   },
   "outputs": [],
   "source": [
    "class Foo:\n",
    "    @property\n",
    "    def unbreakable(self):\n",
    "        return \"David\""
   ]
  },
  {
   "cell_type": "code",
   "execution_count": null,
   "metadata": {
    "colab": {
     "base_uri": "https://localhost:8080/",
     "height": 34
    },
    "colab_type": "code",
    "id": "xpR4L8XVdd1Q",
    "outputId": "b179fe82-e8d2-45df-83cd-1fca13d932c5"
   },
   "outputs": [],
   "source": [
    "foo = Foo()\n",
    "foo.unbreakable "
   ]
  },
  {
   "cell_type": "code",
   "execution_count": null,
   "metadata": {
    "colab": {},
    "colab_type": "code",
    "id": "GZwabNvndsCs"
   },
   "outputs": [],
   "source": [
    "foo.not_unbreakable = \"Elijah2\""
   ]
  },
  {
   "cell_type": "markdown",
   "metadata": {
    "colab_type": "text",
    "id": "VuSZ9Y49egiO"
   },
   "source": [
    "@property acts like an read only attribute, but it isn't"
   ]
  },
  {
   "cell_type": "code",
   "execution_count": null,
   "metadata": {
    "colab": {
     "base_uri": "https://localhost:8080/",
     "height": 34
    },
    "colab_type": "code",
    "id": "A4yseU7fecuW",
    "outputId": "ffb18d66-c00b-45e0-9214-531cb5065c18"
   },
   "outputs": [],
   "source": [
    "foo.__dict__"
   ]
  },
  {
   "cell_type": "markdown",
   "metadata": {
    "colab_type": "text",
    "id": "DmLJWuUtfE2-"
   },
   "source": [
    "You can change an attribute on the object, but not the read only property"
   ]
  },
  {
   "cell_type": "code",
   "execution_count": null,
   "metadata": {
    "colab": {},
    "colab_type": "code",
    "id": "lQzn9BCoeeLu"
   },
   "outputs": [],
   "source": [
    "foo.not_unbreakable = \"Mr. Glass\""
   ]
  },
  {
   "cell_type": "code",
   "execution_count": null,
   "metadata": {
    "colab": {
     "base_uri": "https://localhost:8080/",
     "height": 166
    },
    "colab_type": "code",
    "id": "0iS_9Q0AfWtY",
    "outputId": "e82a7b25-2307-466d-f7f4-541ee9ad42ed"
   },
   "outputs": [],
   "source": [
    "foo.unbreakable = \"Bruce Willis\""
   ]
  },
  {
   "cell_type": "markdown",
   "metadata": {},
   "source": [
    "# Modules"
   ]
  },
  {
   "cell_type": "markdown",
   "metadata": {},
   "source": [
    "Pure python does not do much. To do some specific tasks you need to import modules. Here I am going to demonstrate several ways to do so."
   ]
  },
  {
   "cell_type": "markdown",
   "metadata": {},
   "source": [
    "The most common one is to import complete library. In this example we import *urllib2* - a library for opening URLs using a variety of protocols."
   ]
  },
  {
   "cell_type": "code",
   "execution_count": 1,
   "metadata": {},
   "outputs": [],
   "source": [
    "import math"
   ]
  },
  {
   "cell_type": "code",
   "execution_count": null,
   "metadata": {},
   "outputs": [],
   "source": [
    "math.sqrt"
   ]
  },
  {
   "cell_type": "code",
   "execution_count": 3,
   "metadata": {},
   "outputs": [
    {
     "data": {
      "text/plain": [
       "1.4142135623730951"
      ]
     },
     "execution_count": 3,
     "metadata": {},
     "output_type": "execute_result"
    }
   ],
   "source": [
    "math.sqrt(2)"
   ]
  },
  {
   "cell_type": "code",
   "execution_count": 4,
   "metadata": {},
   "outputs": [],
   "source": [
    "from math import sqrt"
   ]
  },
  {
   "cell_type": "code",
   "execution_count": 5,
   "metadata": {},
   "outputs": [
    {
     "data": {
      "text/plain": [
       "1.4142135623730951"
      ]
     },
     "execution_count": 5,
     "metadata": {},
     "output_type": "execute_result"
    }
   ],
   "source": [
    "sqrt(2)"
   ]
  },
  {
   "cell_type": "code",
   "execution_count": 7,
   "metadata": {},
   "outputs": [],
   "source": [
    "from math import sqrt as sq"
   ]
  },
  {
   "cell_type": "code",
   "execution_count": 8,
   "metadata": {},
   "outputs": [
    {
     "data": {
      "text/plain": [
       "1.4142135623730951"
      ]
     },
     "execution_count": 8,
     "metadata": {},
     "output_type": "execute_result"
    }
   ],
   "source": [
    "sq(2)"
   ]
  },
  {
   "cell_type": "code",
   "execution_count": 10,
   "metadata": {},
   "outputs": [],
   "source": [
    "import numpy as np"
   ]
  },
  {
   "cell_type": "markdown",
   "metadata": {},
   "source": [
    "#### Installing other libraries using pip install\n",
    "\n",
    "Installing other libraries can be done with the ```pip install``` command\n",
    "\n",
    "To install the pandas package:\n",
    "\n",
    "```pip install pandas```\n",
    "\n",
    "Alternatively packages can be installed using a requirements.txt file\n",
    "\n",
    "```\n",
    "> cat requirements.txt \n",
    "pylint\n",
    "pytest\n",
    "pytest-cov\n",
    "click\n",
    "jupyter\n",
    "nbval\n",
    "\n",
    "> pip install -r requirements.txt\n",
    "\n",
    "```"
   ]
  },
  {
   "cell_type": "markdown",
   "metadata": {},
   "source": [
    "# Exercises"
   ]
  },
  {
   "cell_type": "markdown",
   "metadata": {},
   "source": [
    "## Exercise 1: Write a function to convert a list to dictionary as shown: "
   ]
  },
  {
   "cell_type": "markdown",
   "metadata": {},
   "source": [
    "`mylist = ['Zero', 'One', 'Two', 'Three', 'Four', 'Five', 'Six', 'Seven', 'Eight', 'Nine']`\n",
    "\n",
    "`mydict = \n",
    "{\n",
    "    0 : 'Zero',\n",
    "    1 : 'One',\n",
    "    2 : 'Two',\n",
    "    3 : 'Three',\n",
    "    4 : 'Four',\n",
    "    5 : 'Five',\n",
    "    6 : 'Six',\n",
    "    7 : 'Seven',\n",
    "    8 : 'Eight',\n",
    "    9 : 'Nine',\n",
    "}`"
   ]
  },
  {
   "cell_type": "code",
   "execution_count": null,
   "metadata": {},
   "outputs": [],
   "source": [
    "x = ['Zero', 'One', 'Two', 'Three', 'Four']"
   ]
  },
  {
   "cell_type": "code",
   "execution_count": null,
   "metadata": {},
   "outputs": [],
   "source": [
    "d = list_to_dict(x)\n",
    "d"
   ]
  },
  {
   "cell_type": "markdown",
   "metadata": {},
   "source": [
    "### solution"
   ]
  },
  {
   "cell_type": "code",
   "execution_count": null,
   "metadata": {},
   "outputs": [],
   "source": []
  },
  {
   "cell_type": "markdown",
   "metadata": {},
   "source": [
    "## Exercise 2: return words of given length"
   ]
  },
  {
   "cell_type": "markdown",
   "metadata": {},
   "source": [
    "    \"\"\" Remove punctuation from text, then return words of length number.\n",
    "    \n",
    "    >>> find_words_of_length(4, \"this is a string with some four-letter words.\")\n",
    "    >>> ['this', 'with', 'some']\n",
    "    \"\"\""
   ]
  },
  {
   "cell_type": "code",
   "execution_count": null,
   "metadata": {},
   "outputs": [],
   "source": [
    "from string import punctuation\n",
    "\n",
    "def find_words_of_length(number, text):\n",
    "    \"\"\" Remove punctuation from text, then return words of length number.\n",
    "    \n",
    "    >>> find_words_of_length(4, \"this is a string with some four-letter words.\")\n",
    "    >>> ['this', 'with', 'some']\n",
    "    \"\"\"\n",
    "    \n",
    "    return words\n",
    "\n",
    "find_words_of_length(3, \"3-letter words: cat, bat, rat \")"
   ]
  },
  {
   "cell_type": "markdown",
   "metadata": {},
   "source": [
    "### solution"
   ]
  },
  {
   "cell_type": "code",
   "execution_count": null,
   "metadata": {},
   "outputs": [],
   "source": []
  },
  {
   "cell_type": "markdown",
   "metadata": {},
   "source": [
    "## Exercise 3: Binary Search"
   ]
  },
  {
   "cell_type": "markdown",
   "metadata": {},
   "source": [
    "**Objective:**\n",
    "Given a sorted array of integers, return the index of the given key. Return -1 if not found.\n",
    "\n",
    "**Description:** \n",
    "Binary search is used to find the index of an element in a sorted array. If the element doesn’t exist, that can be determined efficiently as well. The algorithm divides the input array by half at every step. After every step, either we have found the index that we are looking for or half of the array can be discarded. Hence, solution can be calculated in O(logn) time.\n",
    "\n",
    "<center><img src=\"images/bs.png\" width=\"600\"/></center>"
   ]
  },
  {
   "cell_type": "markdown",
   "metadata": {},
   "source": [
    "Here’s the pseudo algorithm for binary search. <br>\n",
    "\n",
    "- At every step, consider the array between low and high indices\n",
    "- Calculate the mid index.\n",
    "- If the element at the mid index is the key, return mid.\n",
    "- If the element at mid is greater than the key, then reduce the array size such that high becomes mid - 1.\n",
    "- Index at low remains the same.\n",
    "- If the element at mid is less than the key, then reduce the array size such that low becomes mid + 1. Index at high remains the same.\n",
    "- When low is greater than high, key doesn’t exist. Return -1."
   ]
  },
  {
   "cell_type": "markdown",
   "metadata": {},
   "source": [
    "**Problem:** <br>\n",
    "Consider a sorted array of the first 25 prime numbers. We want to know whether the number 67 is prime. If 67 is in the array, then it's prime. We also want to know how many primes are smaller than 67. If we find the position of the number 67 in the array, we can use the position to figure out how many smaller primes exist."
   ]
  },
  {
   "cell_type": "markdown",
   "metadata": {},
   "source": [
    "**Step 1:**\n",
    "Let min = 0 and max=24. The first guess in the binary search would therefore be at index 12, which is (0 + 24) / 2. Is primes[12] equal to 67? No, primes[12] is 41.\n",
    "\n",
    "<center><img src=\"images/bs_1.png\" width=\"600\"/></center>"
   ]
  },
  {
   "cell_type": "markdown",
   "metadata": {},
   "source": [
    "**Step 2:** <br>\n",
    "Is the index we are looking for higher or lower than 12? Since the values in the array are in increasing order, and 41 < 67, the value 67 should be to the right of index 12. In other words, the index we are trying to guess should be greater than 12. We update the value of min to 12 + 1, or 13, and we leave max unchanged at 24.\n",
    "\n",
    "<center><img src=\"images/bs_2.png\" width=\"600\"/></center>"
   ]
  },
  {
   "cell_type": "markdown",
   "metadata": {},
   "source": [
    "**Step 3:** <br>\n",
    "What's the next index to guess? The average of 13 and 24 is 18.5, which we round down to 18, since an index into an array must be an integer. We find that primes[18] is 67.\n",
    "\n",
    "<center><img src=\"images/bs_3.png\" width=\"600\"/></center>"
   ]
  },
  {
   "cell_type": "markdown",
   "metadata": {},
   "source": []
  },
  {
   "cell_type": "code",
   "execution_count": null,
   "metadata": {},
   "outputs": [],
   "source": [
    "arr = [3,4,5,6,7,12,13,14,15,20,22]\n",
    "num = 20"
   ]
  },
  {
   "cell_type": "code",
   "execution_count": null,
   "metadata": {},
   "outputs": [],
   "source": [
    "index = binarySearch(arr, 0, len(arr), num)"
   ]
  },
  {
   "cell_type": "code",
   "execution_count": null,
   "metadata": {},
   "outputs": [],
   "source": [
    "index"
   ]
  },
  {
   "cell_type": "markdown",
   "metadata": {},
   "source": [
    "### solution"
   ]
  },
  {
   "cell_type": "code",
   "execution_count": null,
   "metadata": {},
   "outputs": [],
   "source": []
  }
 ],
 "metadata": {
  "kernelspec": {
   "display_name": "Python 3 (ipykernel)",
   "language": "python",
   "name": "python3"
  },
  "language_info": {
   "codemirror_mode": {
    "name": "ipython",
    "version": 3
   },
   "file_extension": ".py",
   "mimetype": "text/x-python",
   "name": "python",
   "nbconvert_exporter": "python",
   "pygments_lexer": "ipython3",
   "version": "3.7.11"
  },
  "latex_envs": {
   "LaTeX_envs_menu_present": true,
   "autoclose": false,
   "autocomplete": true,
   "bibliofile": "biblio.bib",
   "cite_by": "apalike",
   "current_citInitial": 1,
   "eqLabelWithNumbers": true,
   "eqNumInitial": 1,
   "hotkeys": {
    "equation": "Ctrl-E",
    "itemize": "Ctrl-I"
   },
   "labels_anchors": false,
   "latex_user_defs": false,
   "report_style_numbering": false,
   "user_envs_cfg": false
  }
 },
 "nbformat": 4,
 "nbformat_minor": 1
}
